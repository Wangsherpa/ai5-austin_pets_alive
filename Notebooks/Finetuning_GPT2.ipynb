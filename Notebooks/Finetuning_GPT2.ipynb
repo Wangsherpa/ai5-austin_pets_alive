{
  "nbformat": 4,
  "nbformat_minor": 0,
  "metadata": {
    "colab": {
      "name": "Finetuning GPT2.ipynb",
      "provenance": [],
      "collapsed_sections": []
    },
    "kernelspec": {
      "name": "python3",
      "display_name": "Python 3"
    },
    "language_info": {
      "name": "python"
    },
    "accelerator": "GPU",
    "widgets": {
      "application/vnd.jupyter.widget-state+json": {
        "addc63d53e1d48a8b3ab435fb5cf1674": {
          "model_module": "@jupyter-widgets/controls",
          "model_name": "HBoxModel",
          "model_module_version": "1.5.0",
          "state": {
            "_view_name": "HBoxView",
            "_dom_classes": [],
            "_model_name": "HBoxModel",
            "_view_module": "@jupyter-widgets/controls",
            "_model_module_version": "1.5.0",
            "_view_count": null,
            "_view_module_version": "1.5.0",
            "box_style": "",
            "layout": "IPY_MODEL_9b6ae2378b5c41d3b66514ff89cca0b0",
            "_model_module": "@jupyter-widgets/controls",
            "children": [
              "IPY_MODEL_0a083e68b20642b4a7485e1bfe7c5a74",
              "IPY_MODEL_5744d19c49304176ace438e1037652fb",
              "IPY_MODEL_73b38e1e1b024819978106e09e0f6d14"
            ]
          }
        },
        "9b6ae2378b5c41d3b66514ff89cca0b0": {
          "model_module": "@jupyter-widgets/base",
          "model_name": "LayoutModel",
          "model_module_version": "1.2.0",
          "state": {
            "_view_name": "LayoutView",
            "grid_template_rows": null,
            "right": null,
            "justify_content": null,
            "_view_module": "@jupyter-widgets/base",
            "overflow": null,
            "_model_module_version": "1.2.0",
            "_view_count": null,
            "flex_flow": null,
            "width": null,
            "min_width": null,
            "border": null,
            "align_items": null,
            "bottom": null,
            "_model_module": "@jupyter-widgets/base",
            "top": null,
            "grid_column": null,
            "overflow_y": null,
            "overflow_x": null,
            "grid_auto_flow": null,
            "grid_area": null,
            "grid_template_columns": null,
            "flex": null,
            "_model_name": "LayoutModel",
            "justify_items": null,
            "grid_row": null,
            "max_height": null,
            "align_content": null,
            "visibility": null,
            "align_self": null,
            "height": null,
            "min_height": null,
            "padding": null,
            "grid_auto_rows": null,
            "grid_gap": null,
            "max_width": null,
            "order": null,
            "_view_module_version": "1.2.0",
            "grid_template_areas": null,
            "object_position": null,
            "object_fit": null,
            "grid_auto_columns": null,
            "margin": null,
            "display": null,
            "left": null
          }
        },
        "0a083e68b20642b4a7485e1bfe7c5a74": {
          "model_module": "@jupyter-widgets/controls",
          "model_name": "HTMLModel",
          "model_module_version": "1.5.0",
          "state": {
            "_view_name": "HTMLView",
            "style": "IPY_MODEL_a8ad6b5665ad4fb5b7b7f8c2917cb5b5",
            "_dom_classes": [],
            "description": "",
            "_model_name": "HTMLModel",
            "placeholder": "​",
            "_view_module": "@jupyter-widgets/controls",
            "_model_module_version": "1.5.0",
            "value": "Downloading: 100%",
            "_view_count": null,
            "_view_module_version": "1.5.0",
            "description_tooltip": null,
            "_model_module": "@jupyter-widgets/controls",
            "layout": "IPY_MODEL_db734c85982e457e813a406869845a7b"
          }
        },
        "5744d19c49304176ace438e1037652fb": {
          "model_module": "@jupyter-widgets/controls",
          "model_name": "FloatProgressModel",
          "model_module_version": "1.5.0",
          "state": {
            "_view_name": "ProgressView",
            "style": "IPY_MODEL_cde9dd112e5a475ca0517408e0587c48",
            "_dom_classes": [],
            "description": "",
            "_model_name": "FloatProgressModel",
            "bar_style": "success",
            "max": 1042301,
            "_view_module": "@jupyter-widgets/controls",
            "_model_module_version": "1.5.0",
            "value": 1042301,
            "_view_count": null,
            "_view_module_version": "1.5.0",
            "orientation": "horizontal",
            "min": 0,
            "description_tooltip": null,
            "_model_module": "@jupyter-widgets/controls",
            "layout": "IPY_MODEL_7e33c79a847f4393a9aecb55a77cff0e"
          }
        },
        "73b38e1e1b024819978106e09e0f6d14": {
          "model_module": "@jupyter-widgets/controls",
          "model_name": "HTMLModel",
          "model_module_version": "1.5.0",
          "state": {
            "_view_name": "HTMLView",
            "style": "IPY_MODEL_652e071249104af6958bda1d4f89130c",
            "_dom_classes": [],
            "description": "",
            "_model_name": "HTMLModel",
            "placeholder": "​",
            "_view_module": "@jupyter-widgets/controls",
            "_model_module_version": "1.5.0",
            "value": " 0.99M/0.99M [00:00&lt;00:00, 1.45MB/s]",
            "_view_count": null,
            "_view_module_version": "1.5.0",
            "description_tooltip": null,
            "_model_module": "@jupyter-widgets/controls",
            "layout": "IPY_MODEL_622950e21d8e4ff99af940a92df9ffad"
          }
        },
        "a8ad6b5665ad4fb5b7b7f8c2917cb5b5": {
          "model_module": "@jupyter-widgets/controls",
          "model_name": "DescriptionStyleModel",
          "model_module_version": "1.5.0",
          "state": {
            "_view_name": "StyleView",
            "_model_name": "DescriptionStyleModel",
            "description_width": "",
            "_view_module": "@jupyter-widgets/base",
            "_model_module_version": "1.5.0",
            "_view_count": null,
            "_view_module_version": "1.2.0",
            "_model_module": "@jupyter-widgets/controls"
          }
        },
        "db734c85982e457e813a406869845a7b": {
          "model_module": "@jupyter-widgets/base",
          "model_name": "LayoutModel",
          "model_module_version": "1.2.0",
          "state": {
            "_view_name": "LayoutView",
            "grid_template_rows": null,
            "right": null,
            "justify_content": null,
            "_view_module": "@jupyter-widgets/base",
            "overflow": null,
            "_model_module_version": "1.2.0",
            "_view_count": null,
            "flex_flow": null,
            "width": null,
            "min_width": null,
            "border": null,
            "align_items": null,
            "bottom": null,
            "_model_module": "@jupyter-widgets/base",
            "top": null,
            "grid_column": null,
            "overflow_y": null,
            "overflow_x": null,
            "grid_auto_flow": null,
            "grid_area": null,
            "grid_template_columns": null,
            "flex": null,
            "_model_name": "LayoutModel",
            "justify_items": null,
            "grid_row": null,
            "max_height": null,
            "align_content": null,
            "visibility": null,
            "align_self": null,
            "height": null,
            "min_height": null,
            "padding": null,
            "grid_auto_rows": null,
            "grid_gap": null,
            "max_width": null,
            "order": null,
            "_view_module_version": "1.2.0",
            "grid_template_areas": null,
            "object_position": null,
            "object_fit": null,
            "grid_auto_columns": null,
            "margin": null,
            "display": null,
            "left": null
          }
        },
        "cde9dd112e5a475ca0517408e0587c48": {
          "model_module": "@jupyter-widgets/controls",
          "model_name": "ProgressStyleModel",
          "model_module_version": "1.5.0",
          "state": {
            "_view_name": "StyleView",
            "_model_name": "ProgressStyleModel",
            "description_width": "",
            "_view_module": "@jupyter-widgets/base",
            "_model_module_version": "1.5.0",
            "_view_count": null,
            "_view_module_version": "1.2.0",
            "bar_color": null,
            "_model_module": "@jupyter-widgets/controls"
          }
        },
        "7e33c79a847f4393a9aecb55a77cff0e": {
          "model_module": "@jupyter-widgets/base",
          "model_name": "LayoutModel",
          "model_module_version": "1.2.0",
          "state": {
            "_view_name": "LayoutView",
            "grid_template_rows": null,
            "right": null,
            "justify_content": null,
            "_view_module": "@jupyter-widgets/base",
            "overflow": null,
            "_model_module_version": "1.2.0",
            "_view_count": null,
            "flex_flow": null,
            "width": null,
            "min_width": null,
            "border": null,
            "align_items": null,
            "bottom": null,
            "_model_module": "@jupyter-widgets/base",
            "top": null,
            "grid_column": null,
            "overflow_y": null,
            "overflow_x": null,
            "grid_auto_flow": null,
            "grid_area": null,
            "grid_template_columns": null,
            "flex": null,
            "_model_name": "LayoutModel",
            "justify_items": null,
            "grid_row": null,
            "max_height": null,
            "align_content": null,
            "visibility": null,
            "align_self": null,
            "height": null,
            "min_height": null,
            "padding": null,
            "grid_auto_rows": null,
            "grid_gap": null,
            "max_width": null,
            "order": null,
            "_view_module_version": "1.2.0",
            "grid_template_areas": null,
            "object_position": null,
            "object_fit": null,
            "grid_auto_columns": null,
            "margin": null,
            "display": null,
            "left": null
          }
        },
        "652e071249104af6958bda1d4f89130c": {
          "model_module": "@jupyter-widgets/controls",
          "model_name": "DescriptionStyleModel",
          "model_module_version": "1.5.0",
          "state": {
            "_view_name": "StyleView",
            "_model_name": "DescriptionStyleModel",
            "description_width": "",
            "_view_module": "@jupyter-widgets/base",
            "_model_module_version": "1.5.0",
            "_view_count": null,
            "_view_module_version": "1.2.0",
            "_model_module": "@jupyter-widgets/controls"
          }
        },
        "622950e21d8e4ff99af940a92df9ffad": {
          "model_module": "@jupyter-widgets/base",
          "model_name": "LayoutModel",
          "model_module_version": "1.2.0",
          "state": {
            "_view_name": "LayoutView",
            "grid_template_rows": null,
            "right": null,
            "justify_content": null,
            "_view_module": "@jupyter-widgets/base",
            "overflow": null,
            "_model_module_version": "1.2.0",
            "_view_count": null,
            "flex_flow": null,
            "width": null,
            "min_width": null,
            "border": null,
            "align_items": null,
            "bottom": null,
            "_model_module": "@jupyter-widgets/base",
            "top": null,
            "grid_column": null,
            "overflow_y": null,
            "overflow_x": null,
            "grid_auto_flow": null,
            "grid_area": null,
            "grid_template_columns": null,
            "flex": null,
            "_model_name": "LayoutModel",
            "justify_items": null,
            "grid_row": null,
            "max_height": null,
            "align_content": null,
            "visibility": null,
            "align_self": null,
            "height": null,
            "min_height": null,
            "padding": null,
            "grid_auto_rows": null,
            "grid_gap": null,
            "max_width": null,
            "order": null,
            "_view_module_version": "1.2.0",
            "grid_template_areas": null,
            "object_position": null,
            "object_fit": null,
            "grid_auto_columns": null,
            "margin": null,
            "display": null,
            "left": null
          }
        },
        "15ca45310e4145ce920c743ee7288cc8": {
          "model_module": "@jupyter-widgets/controls",
          "model_name": "HBoxModel",
          "model_module_version": "1.5.0",
          "state": {
            "_view_name": "HBoxView",
            "_dom_classes": [],
            "_model_name": "HBoxModel",
            "_view_module": "@jupyter-widgets/controls",
            "_model_module_version": "1.5.0",
            "_view_count": null,
            "_view_module_version": "1.5.0",
            "box_style": "",
            "layout": "IPY_MODEL_20cdf2efab144b36bf9f4458c6663265",
            "_model_module": "@jupyter-widgets/controls",
            "children": [
              "IPY_MODEL_c4a27c5b817045e5ae9804e42f3843d6",
              "IPY_MODEL_0491cc03fabf433aacbed65eb4b29f2e",
              "IPY_MODEL_32fc8a3431534ab1ae6d4cd7749a21b1"
            ]
          }
        },
        "20cdf2efab144b36bf9f4458c6663265": {
          "model_module": "@jupyter-widgets/base",
          "model_name": "LayoutModel",
          "model_module_version": "1.2.0",
          "state": {
            "_view_name": "LayoutView",
            "grid_template_rows": null,
            "right": null,
            "justify_content": null,
            "_view_module": "@jupyter-widgets/base",
            "overflow": null,
            "_model_module_version": "1.2.0",
            "_view_count": null,
            "flex_flow": null,
            "width": null,
            "min_width": null,
            "border": null,
            "align_items": null,
            "bottom": null,
            "_model_module": "@jupyter-widgets/base",
            "top": null,
            "grid_column": null,
            "overflow_y": null,
            "overflow_x": null,
            "grid_auto_flow": null,
            "grid_area": null,
            "grid_template_columns": null,
            "flex": null,
            "_model_name": "LayoutModel",
            "justify_items": null,
            "grid_row": null,
            "max_height": null,
            "align_content": null,
            "visibility": null,
            "align_self": null,
            "height": null,
            "min_height": null,
            "padding": null,
            "grid_auto_rows": null,
            "grid_gap": null,
            "max_width": null,
            "order": null,
            "_view_module_version": "1.2.0",
            "grid_template_areas": null,
            "object_position": null,
            "object_fit": null,
            "grid_auto_columns": null,
            "margin": null,
            "display": null,
            "left": null
          }
        },
        "c4a27c5b817045e5ae9804e42f3843d6": {
          "model_module": "@jupyter-widgets/controls",
          "model_name": "HTMLModel",
          "model_module_version": "1.5.0",
          "state": {
            "_view_name": "HTMLView",
            "style": "IPY_MODEL_bddfbf72c0554ae38e64f581b7f42d14",
            "_dom_classes": [],
            "description": "",
            "_model_name": "HTMLModel",
            "placeholder": "​",
            "_view_module": "@jupyter-widgets/controls",
            "_model_module_version": "1.5.0",
            "value": "Downloading: 100%",
            "_view_count": null,
            "_view_module_version": "1.5.0",
            "description_tooltip": null,
            "_model_module": "@jupyter-widgets/controls",
            "layout": "IPY_MODEL_60ba6d8e9f434f258b8b674c1dd66dd1"
          }
        },
        "0491cc03fabf433aacbed65eb4b29f2e": {
          "model_module": "@jupyter-widgets/controls",
          "model_name": "FloatProgressModel",
          "model_module_version": "1.5.0",
          "state": {
            "_view_name": "ProgressView",
            "style": "IPY_MODEL_9327c065d39c4c46ba69f71492778d7c",
            "_dom_classes": [],
            "description": "",
            "_model_name": "FloatProgressModel",
            "bar_style": "success",
            "max": 456318,
            "_view_module": "@jupyter-widgets/controls",
            "_model_module_version": "1.5.0",
            "value": 456318,
            "_view_count": null,
            "_view_module_version": "1.5.0",
            "orientation": "horizontal",
            "min": 0,
            "description_tooltip": null,
            "_model_module": "@jupyter-widgets/controls",
            "layout": "IPY_MODEL_4b4daad160ca4befa340907a388220fb"
          }
        },
        "32fc8a3431534ab1ae6d4cd7749a21b1": {
          "model_module": "@jupyter-widgets/controls",
          "model_name": "HTMLModel",
          "model_module_version": "1.5.0",
          "state": {
            "_view_name": "HTMLView",
            "style": "IPY_MODEL_317b436f562a422a995a9a4c7dc351d5",
            "_dom_classes": [],
            "description": "",
            "_model_name": "HTMLModel",
            "placeholder": "​",
            "_view_module": "@jupyter-widgets/controls",
            "_model_module_version": "1.5.0",
            "value": " 446k/446k [00:00&lt;00:00, 662kB/s]",
            "_view_count": null,
            "_view_module_version": "1.5.0",
            "description_tooltip": null,
            "_model_module": "@jupyter-widgets/controls",
            "layout": "IPY_MODEL_937ad8a6b2354293b18df6d8124009a4"
          }
        },
        "bddfbf72c0554ae38e64f581b7f42d14": {
          "model_module": "@jupyter-widgets/controls",
          "model_name": "DescriptionStyleModel",
          "model_module_version": "1.5.0",
          "state": {
            "_view_name": "StyleView",
            "_model_name": "DescriptionStyleModel",
            "description_width": "",
            "_view_module": "@jupyter-widgets/base",
            "_model_module_version": "1.5.0",
            "_view_count": null,
            "_view_module_version": "1.2.0",
            "_model_module": "@jupyter-widgets/controls"
          }
        },
        "60ba6d8e9f434f258b8b674c1dd66dd1": {
          "model_module": "@jupyter-widgets/base",
          "model_name": "LayoutModel",
          "model_module_version": "1.2.0",
          "state": {
            "_view_name": "LayoutView",
            "grid_template_rows": null,
            "right": null,
            "justify_content": null,
            "_view_module": "@jupyter-widgets/base",
            "overflow": null,
            "_model_module_version": "1.2.0",
            "_view_count": null,
            "flex_flow": null,
            "width": null,
            "min_width": null,
            "border": null,
            "align_items": null,
            "bottom": null,
            "_model_module": "@jupyter-widgets/base",
            "top": null,
            "grid_column": null,
            "overflow_y": null,
            "overflow_x": null,
            "grid_auto_flow": null,
            "grid_area": null,
            "grid_template_columns": null,
            "flex": null,
            "_model_name": "LayoutModel",
            "justify_items": null,
            "grid_row": null,
            "max_height": null,
            "align_content": null,
            "visibility": null,
            "align_self": null,
            "height": null,
            "min_height": null,
            "padding": null,
            "grid_auto_rows": null,
            "grid_gap": null,
            "max_width": null,
            "order": null,
            "_view_module_version": "1.2.0",
            "grid_template_areas": null,
            "object_position": null,
            "object_fit": null,
            "grid_auto_columns": null,
            "margin": null,
            "display": null,
            "left": null
          }
        },
        "9327c065d39c4c46ba69f71492778d7c": {
          "model_module": "@jupyter-widgets/controls",
          "model_name": "ProgressStyleModel",
          "model_module_version": "1.5.0",
          "state": {
            "_view_name": "StyleView",
            "_model_name": "ProgressStyleModel",
            "description_width": "",
            "_view_module": "@jupyter-widgets/base",
            "_model_module_version": "1.5.0",
            "_view_count": null,
            "_view_module_version": "1.2.0",
            "bar_color": null,
            "_model_module": "@jupyter-widgets/controls"
          }
        },
        "4b4daad160ca4befa340907a388220fb": {
          "model_module": "@jupyter-widgets/base",
          "model_name": "LayoutModel",
          "model_module_version": "1.2.0",
          "state": {
            "_view_name": "LayoutView",
            "grid_template_rows": null,
            "right": null,
            "justify_content": null,
            "_view_module": "@jupyter-widgets/base",
            "overflow": null,
            "_model_module_version": "1.2.0",
            "_view_count": null,
            "flex_flow": null,
            "width": null,
            "min_width": null,
            "border": null,
            "align_items": null,
            "bottom": null,
            "_model_module": "@jupyter-widgets/base",
            "top": null,
            "grid_column": null,
            "overflow_y": null,
            "overflow_x": null,
            "grid_auto_flow": null,
            "grid_area": null,
            "grid_template_columns": null,
            "flex": null,
            "_model_name": "LayoutModel",
            "justify_items": null,
            "grid_row": null,
            "max_height": null,
            "align_content": null,
            "visibility": null,
            "align_self": null,
            "height": null,
            "min_height": null,
            "padding": null,
            "grid_auto_rows": null,
            "grid_gap": null,
            "max_width": null,
            "order": null,
            "_view_module_version": "1.2.0",
            "grid_template_areas": null,
            "object_position": null,
            "object_fit": null,
            "grid_auto_columns": null,
            "margin": null,
            "display": null,
            "left": null
          }
        },
        "317b436f562a422a995a9a4c7dc351d5": {
          "model_module": "@jupyter-widgets/controls",
          "model_name": "DescriptionStyleModel",
          "model_module_version": "1.5.0",
          "state": {
            "_view_name": "StyleView",
            "_model_name": "DescriptionStyleModel",
            "description_width": "",
            "_view_module": "@jupyter-widgets/base",
            "_model_module_version": "1.5.0",
            "_view_count": null,
            "_view_module_version": "1.2.0",
            "_model_module": "@jupyter-widgets/controls"
          }
        },
        "937ad8a6b2354293b18df6d8124009a4": {
          "model_module": "@jupyter-widgets/base",
          "model_name": "LayoutModel",
          "model_module_version": "1.2.0",
          "state": {
            "_view_name": "LayoutView",
            "grid_template_rows": null,
            "right": null,
            "justify_content": null,
            "_view_module": "@jupyter-widgets/base",
            "overflow": null,
            "_model_module_version": "1.2.0",
            "_view_count": null,
            "flex_flow": null,
            "width": null,
            "min_width": null,
            "border": null,
            "align_items": null,
            "bottom": null,
            "_model_module": "@jupyter-widgets/base",
            "top": null,
            "grid_column": null,
            "overflow_y": null,
            "overflow_x": null,
            "grid_auto_flow": null,
            "grid_area": null,
            "grid_template_columns": null,
            "flex": null,
            "_model_name": "LayoutModel",
            "justify_items": null,
            "grid_row": null,
            "max_height": null,
            "align_content": null,
            "visibility": null,
            "align_self": null,
            "height": null,
            "min_height": null,
            "padding": null,
            "grid_auto_rows": null,
            "grid_gap": null,
            "max_width": null,
            "order": null,
            "_view_module_version": "1.2.0",
            "grid_template_areas": null,
            "object_position": null,
            "object_fit": null,
            "grid_auto_columns": null,
            "margin": null,
            "display": null,
            "left": null
          }
        },
        "7af7e3fdbaae4103b4f9c050575bab2b": {
          "model_module": "@jupyter-widgets/controls",
          "model_name": "HBoxModel",
          "model_module_version": "1.5.0",
          "state": {
            "_view_name": "HBoxView",
            "_dom_classes": [],
            "_model_name": "HBoxModel",
            "_view_module": "@jupyter-widgets/controls",
            "_model_module_version": "1.5.0",
            "_view_count": null,
            "_view_module_version": "1.5.0",
            "box_style": "",
            "layout": "IPY_MODEL_371b1b14433546efb2c82d8b5ce8337f",
            "_model_module": "@jupyter-widgets/controls",
            "children": [
              "IPY_MODEL_cb6bcbe0a11a49f08346b3156ebd0e46",
              "IPY_MODEL_74c97f4e6704494c96628aba8e3a47a2",
              "IPY_MODEL_d6df268198944871bd9f64dd7cf13a8a"
            ]
          }
        },
        "371b1b14433546efb2c82d8b5ce8337f": {
          "model_module": "@jupyter-widgets/base",
          "model_name": "LayoutModel",
          "model_module_version": "1.2.0",
          "state": {
            "_view_name": "LayoutView",
            "grid_template_rows": null,
            "right": null,
            "justify_content": null,
            "_view_module": "@jupyter-widgets/base",
            "overflow": null,
            "_model_module_version": "1.2.0",
            "_view_count": null,
            "flex_flow": null,
            "width": null,
            "min_width": null,
            "border": null,
            "align_items": null,
            "bottom": null,
            "_model_module": "@jupyter-widgets/base",
            "top": null,
            "grid_column": null,
            "overflow_y": null,
            "overflow_x": null,
            "grid_auto_flow": null,
            "grid_area": null,
            "grid_template_columns": null,
            "flex": null,
            "_model_name": "LayoutModel",
            "justify_items": null,
            "grid_row": null,
            "max_height": null,
            "align_content": null,
            "visibility": null,
            "align_self": null,
            "height": null,
            "min_height": null,
            "padding": null,
            "grid_auto_rows": null,
            "grid_gap": null,
            "max_width": null,
            "order": null,
            "_view_module_version": "1.2.0",
            "grid_template_areas": null,
            "object_position": null,
            "object_fit": null,
            "grid_auto_columns": null,
            "margin": null,
            "display": null,
            "left": null
          }
        },
        "cb6bcbe0a11a49f08346b3156ebd0e46": {
          "model_module": "@jupyter-widgets/controls",
          "model_name": "HTMLModel",
          "model_module_version": "1.5.0",
          "state": {
            "_view_name": "HTMLView",
            "style": "IPY_MODEL_8dbf222dcaee4754adf6ef524fed0784",
            "_dom_classes": [],
            "description": "",
            "_model_name": "HTMLModel",
            "placeholder": "​",
            "_view_module": "@jupyter-widgets/controls",
            "_model_module_version": "1.5.0",
            "value": "Downloading: 100%",
            "_view_count": null,
            "_view_module_version": "1.5.0",
            "description_tooltip": null,
            "_model_module": "@jupyter-widgets/controls",
            "layout": "IPY_MODEL_7a36005426b7404b8f683aa726e67317"
          }
        },
        "74c97f4e6704494c96628aba8e3a47a2": {
          "model_module": "@jupyter-widgets/controls",
          "model_name": "FloatProgressModel",
          "model_module_version": "1.5.0",
          "state": {
            "_view_name": "ProgressView",
            "style": "IPY_MODEL_75b4b940cf3c41e88fdeeff0dcb516a5",
            "_dom_classes": [],
            "description": "",
            "_model_name": "FloatProgressModel",
            "bar_style": "success",
            "max": 1355256,
            "_view_module": "@jupyter-widgets/controls",
            "_model_module_version": "1.5.0",
            "value": 1355256,
            "_view_count": null,
            "_view_module_version": "1.5.0",
            "orientation": "horizontal",
            "min": 0,
            "description_tooltip": null,
            "_model_module": "@jupyter-widgets/controls",
            "layout": "IPY_MODEL_910e17d1021f4a50b1d91869514540c8"
          }
        },
        "d6df268198944871bd9f64dd7cf13a8a": {
          "model_module": "@jupyter-widgets/controls",
          "model_name": "HTMLModel",
          "model_module_version": "1.5.0",
          "state": {
            "_view_name": "HTMLView",
            "style": "IPY_MODEL_60c3fe95dfdb45c48df946e5436654e0",
            "_dom_classes": [],
            "description": "",
            "_model_name": "HTMLModel",
            "placeholder": "​",
            "_view_module": "@jupyter-widgets/controls",
            "_model_module_version": "1.5.0",
            "value": " 1.29M/1.29M [00:00&lt;00:00, 5.77MB/s]",
            "_view_count": null,
            "_view_module_version": "1.5.0",
            "description_tooltip": null,
            "_model_module": "@jupyter-widgets/controls",
            "layout": "IPY_MODEL_da661259adc34cdc9e3eaa4b78d23c1e"
          }
        },
        "8dbf222dcaee4754adf6ef524fed0784": {
          "model_module": "@jupyter-widgets/controls",
          "model_name": "DescriptionStyleModel",
          "model_module_version": "1.5.0",
          "state": {
            "_view_name": "StyleView",
            "_model_name": "DescriptionStyleModel",
            "description_width": "",
            "_view_module": "@jupyter-widgets/base",
            "_model_module_version": "1.5.0",
            "_view_count": null,
            "_view_module_version": "1.2.0",
            "_model_module": "@jupyter-widgets/controls"
          }
        },
        "7a36005426b7404b8f683aa726e67317": {
          "model_module": "@jupyter-widgets/base",
          "model_name": "LayoutModel",
          "model_module_version": "1.2.0",
          "state": {
            "_view_name": "LayoutView",
            "grid_template_rows": null,
            "right": null,
            "justify_content": null,
            "_view_module": "@jupyter-widgets/base",
            "overflow": null,
            "_model_module_version": "1.2.0",
            "_view_count": null,
            "flex_flow": null,
            "width": null,
            "min_width": null,
            "border": null,
            "align_items": null,
            "bottom": null,
            "_model_module": "@jupyter-widgets/base",
            "top": null,
            "grid_column": null,
            "overflow_y": null,
            "overflow_x": null,
            "grid_auto_flow": null,
            "grid_area": null,
            "grid_template_columns": null,
            "flex": null,
            "_model_name": "LayoutModel",
            "justify_items": null,
            "grid_row": null,
            "max_height": null,
            "align_content": null,
            "visibility": null,
            "align_self": null,
            "height": null,
            "min_height": null,
            "padding": null,
            "grid_auto_rows": null,
            "grid_gap": null,
            "max_width": null,
            "order": null,
            "_view_module_version": "1.2.0",
            "grid_template_areas": null,
            "object_position": null,
            "object_fit": null,
            "grid_auto_columns": null,
            "margin": null,
            "display": null,
            "left": null
          }
        },
        "75b4b940cf3c41e88fdeeff0dcb516a5": {
          "model_module": "@jupyter-widgets/controls",
          "model_name": "ProgressStyleModel",
          "model_module_version": "1.5.0",
          "state": {
            "_view_name": "StyleView",
            "_model_name": "ProgressStyleModel",
            "description_width": "",
            "_view_module": "@jupyter-widgets/base",
            "_model_module_version": "1.5.0",
            "_view_count": null,
            "_view_module_version": "1.2.0",
            "bar_color": null,
            "_model_module": "@jupyter-widgets/controls"
          }
        },
        "910e17d1021f4a50b1d91869514540c8": {
          "model_module": "@jupyter-widgets/base",
          "model_name": "LayoutModel",
          "model_module_version": "1.2.0",
          "state": {
            "_view_name": "LayoutView",
            "grid_template_rows": null,
            "right": null,
            "justify_content": null,
            "_view_module": "@jupyter-widgets/base",
            "overflow": null,
            "_model_module_version": "1.2.0",
            "_view_count": null,
            "flex_flow": null,
            "width": null,
            "min_width": null,
            "border": null,
            "align_items": null,
            "bottom": null,
            "_model_module": "@jupyter-widgets/base",
            "top": null,
            "grid_column": null,
            "overflow_y": null,
            "overflow_x": null,
            "grid_auto_flow": null,
            "grid_area": null,
            "grid_template_columns": null,
            "flex": null,
            "_model_name": "LayoutModel",
            "justify_items": null,
            "grid_row": null,
            "max_height": null,
            "align_content": null,
            "visibility": null,
            "align_self": null,
            "height": null,
            "min_height": null,
            "padding": null,
            "grid_auto_rows": null,
            "grid_gap": null,
            "max_width": null,
            "order": null,
            "_view_module_version": "1.2.0",
            "grid_template_areas": null,
            "object_position": null,
            "object_fit": null,
            "grid_auto_columns": null,
            "margin": null,
            "display": null,
            "left": null
          }
        },
        "60c3fe95dfdb45c48df946e5436654e0": {
          "model_module": "@jupyter-widgets/controls",
          "model_name": "DescriptionStyleModel",
          "model_module_version": "1.5.0",
          "state": {
            "_view_name": "StyleView",
            "_model_name": "DescriptionStyleModel",
            "description_width": "",
            "_view_module": "@jupyter-widgets/base",
            "_model_module_version": "1.5.0",
            "_view_count": null,
            "_view_module_version": "1.2.0",
            "_model_module": "@jupyter-widgets/controls"
          }
        },
        "da661259adc34cdc9e3eaa4b78d23c1e": {
          "model_module": "@jupyter-widgets/base",
          "model_name": "LayoutModel",
          "model_module_version": "1.2.0",
          "state": {
            "_view_name": "LayoutView",
            "grid_template_rows": null,
            "right": null,
            "justify_content": null,
            "_view_module": "@jupyter-widgets/base",
            "overflow": null,
            "_model_module_version": "1.2.0",
            "_view_count": null,
            "flex_flow": null,
            "width": null,
            "min_width": null,
            "border": null,
            "align_items": null,
            "bottom": null,
            "_model_module": "@jupyter-widgets/base",
            "top": null,
            "grid_column": null,
            "overflow_y": null,
            "overflow_x": null,
            "grid_auto_flow": null,
            "grid_area": null,
            "grid_template_columns": null,
            "flex": null,
            "_model_name": "LayoutModel",
            "justify_items": null,
            "grid_row": null,
            "max_height": null,
            "align_content": null,
            "visibility": null,
            "align_self": null,
            "height": null,
            "min_height": null,
            "padding": null,
            "grid_auto_rows": null,
            "grid_gap": null,
            "max_width": null,
            "order": null,
            "_view_module_version": "1.2.0",
            "grid_template_areas": null,
            "object_position": null,
            "object_fit": null,
            "grid_auto_columns": null,
            "margin": null,
            "display": null,
            "left": null
          }
        },
        "d28a3429f3f647cda7d63f828f4e141a": {
          "model_module": "@jupyter-widgets/controls",
          "model_name": "HBoxModel",
          "model_module_version": "1.5.0",
          "state": {
            "_view_name": "HBoxView",
            "_dom_classes": [],
            "_model_name": "HBoxModel",
            "_view_module": "@jupyter-widgets/controls",
            "_model_module_version": "1.5.0",
            "_view_count": null,
            "_view_module_version": "1.5.0",
            "box_style": "",
            "layout": "IPY_MODEL_ac14e4ab097d42ca8fb7238e2e37de7f",
            "_model_module": "@jupyter-widgets/controls",
            "children": [
              "IPY_MODEL_679467d4a570490088f6ab4d0ea717f9",
              "IPY_MODEL_0462f960daca44bab08ccd7ac60b165f",
              "IPY_MODEL_8658bdebe0d848e5884afe8921117ee8"
            ]
          }
        },
        "ac14e4ab097d42ca8fb7238e2e37de7f": {
          "model_module": "@jupyter-widgets/base",
          "model_name": "LayoutModel",
          "model_module_version": "1.2.0",
          "state": {
            "_view_name": "LayoutView",
            "grid_template_rows": null,
            "right": null,
            "justify_content": null,
            "_view_module": "@jupyter-widgets/base",
            "overflow": null,
            "_model_module_version": "1.2.0",
            "_view_count": null,
            "flex_flow": null,
            "width": null,
            "min_width": null,
            "border": null,
            "align_items": null,
            "bottom": null,
            "_model_module": "@jupyter-widgets/base",
            "top": null,
            "grid_column": null,
            "overflow_y": null,
            "overflow_x": null,
            "grid_auto_flow": null,
            "grid_area": null,
            "grid_template_columns": null,
            "flex": null,
            "_model_name": "LayoutModel",
            "justify_items": null,
            "grid_row": null,
            "max_height": null,
            "align_content": null,
            "visibility": null,
            "align_self": null,
            "height": null,
            "min_height": null,
            "padding": null,
            "grid_auto_rows": null,
            "grid_gap": null,
            "max_width": null,
            "order": null,
            "_view_module_version": "1.2.0",
            "grid_template_areas": null,
            "object_position": null,
            "object_fit": null,
            "grid_auto_columns": null,
            "margin": null,
            "display": null,
            "left": null
          }
        },
        "679467d4a570490088f6ab4d0ea717f9": {
          "model_module": "@jupyter-widgets/controls",
          "model_name": "HTMLModel",
          "model_module_version": "1.5.0",
          "state": {
            "_view_name": "HTMLView",
            "style": "IPY_MODEL_893ba1bded9b4c14a7754f523a03f6bb",
            "_dom_classes": [],
            "description": "",
            "_model_name": "HTMLModel",
            "placeholder": "​",
            "_view_module": "@jupyter-widgets/controls",
            "_model_module_version": "1.5.0",
            "value": "Downloading: 100%",
            "_view_count": null,
            "_view_module_version": "1.5.0",
            "description_tooltip": null,
            "_model_module": "@jupyter-widgets/controls",
            "layout": "IPY_MODEL_17d05f36d1f1490392b3e7ebb2a13602"
          }
        },
        "0462f960daca44bab08ccd7ac60b165f": {
          "model_module": "@jupyter-widgets/controls",
          "model_name": "FloatProgressModel",
          "model_module_version": "1.5.0",
          "state": {
            "_view_name": "ProgressView",
            "style": "IPY_MODEL_e94eb28d780a4625a0d074bb0632be06",
            "_dom_classes": [],
            "description": "",
            "_model_name": "FloatProgressModel",
            "bar_style": "success",
            "max": 665,
            "_view_module": "@jupyter-widgets/controls",
            "_model_module_version": "1.5.0",
            "value": 665,
            "_view_count": null,
            "_view_module_version": "1.5.0",
            "orientation": "horizontal",
            "min": 0,
            "description_tooltip": null,
            "_model_module": "@jupyter-widgets/controls",
            "layout": "IPY_MODEL_0c58ce316b6149bdbbd5765cd789730b"
          }
        },
        "8658bdebe0d848e5884afe8921117ee8": {
          "model_module": "@jupyter-widgets/controls",
          "model_name": "HTMLModel",
          "model_module_version": "1.5.0",
          "state": {
            "_view_name": "HTMLView",
            "style": "IPY_MODEL_f94ef808c1f14250985bc1ebdecba19e",
            "_dom_classes": [],
            "description": "",
            "_model_name": "HTMLModel",
            "placeholder": "​",
            "_view_module": "@jupyter-widgets/controls",
            "_model_module_version": "1.5.0",
            "value": " 665/665 [00:00&lt;00:00, 14.9kB/s]",
            "_view_count": null,
            "_view_module_version": "1.5.0",
            "description_tooltip": null,
            "_model_module": "@jupyter-widgets/controls",
            "layout": "IPY_MODEL_59f5193396ec400eabb83b2c0e67aaac"
          }
        },
        "893ba1bded9b4c14a7754f523a03f6bb": {
          "model_module": "@jupyter-widgets/controls",
          "model_name": "DescriptionStyleModel",
          "model_module_version": "1.5.0",
          "state": {
            "_view_name": "StyleView",
            "_model_name": "DescriptionStyleModel",
            "description_width": "",
            "_view_module": "@jupyter-widgets/base",
            "_model_module_version": "1.5.0",
            "_view_count": null,
            "_view_module_version": "1.2.0",
            "_model_module": "@jupyter-widgets/controls"
          }
        },
        "17d05f36d1f1490392b3e7ebb2a13602": {
          "model_module": "@jupyter-widgets/base",
          "model_name": "LayoutModel",
          "model_module_version": "1.2.0",
          "state": {
            "_view_name": "LayoutView",
            "grid_template_rows": null,
            "right": null,
            "justify_content": null,
            "_view_module": "@jupyter-widgets/base",
            "overflow": null,
            "_model_module_version": "1.2.0",
            "_view_count": null,
            "flex_flow": null,
            "width": null,
            "min_width": null,
            "border": null,
            "align_items": null,
            "bottom": null,
            "_model_module": "@jupyter-widgets/base",
            "top": null,
            "grid_column": null,
            "overflow_y": null,
            "overflow_x": null,
            "grid_auto_flow": null,
            "grid_area": null,
            "grid_template_columns": null,
            "flex": null,
            "_model_name": "LayoutModel",
            "justify_items": null,
            "grid_row": null,
            "max_height": null,
            "align_content": null,
            "visibility": null,
            "align_self": null,
            "height": null,
            "min_height": null,
            "padding": null,
            "grid_auto_rows": null,
            "grid_gap": null,
            "max_width": null,
            "order": null,
            "_view_module_version": "1.2.0",
            "grid_template_areas": null,
            "object_position": null,
            "object_fit": null,
            "grid_auto_columns": null,
            "margin": null,
            "display": null,
            "left": null
          }
        },
        "e94eb28d780a4625a0d074bb0632be06": {
          "model_module": "@jupyter-widgets/controls",
          "model_name": "ProgressStyleModel",
          "model_module_version": "1.5.0",
          "state": {
            "_view_name": "StyleView",
            "_model_name": "ProgressStyleModel",
            "description_width": "",
            "_view_module": "@jupyter-widgets/base",
            "_model_module_version": "1.5.0",
            "_view_count": null,
            "_view_module_version": "1.2.0",
            "bar_color": null,
            "_model_module": "@jupyter-widgets/controls"
          }
        },
        "0c58ce316b6149bdbbd5765cd789730b": {
          "model_module": "@jupyter-widgets/base",
          "model_name": "LayoutModel",
          "model_module_version": "1.2.0",
          "state": {
            "_view_name": "LayoutView",
            "grid_template_rows": null,
            "right": null,
            "justify_content": null,
            "_view_module": "@jupyter-widgets/base",
            "overflow": null,
            "_model_module_version": "1.2.0",
            "_view_count": null,
            "flex_flow": null,
            "width": null,
            "min_width": null,
            "border": null,
            "align_items": null,
            "bottom": null,
            "_model_module": "@jupyter-widgets/base",
            "top": null,
            "grid_column": null,
            "overflow_y": null,
            "overflow_x": null,
            "grid_auto_flow": null,
            "grid_area": null,
            "grid_template_columns": null,
            "flex": null,
            "_model_name": "LayoutModel",
            "justify_items": null,
            "grid_row": null,
            "max_height": null,
            "align_content": null,
            "visibility": null,
            "align_self": null,
            "height": null,
            "min_height": null,
            "padding": null,
            "grid_auto_rows": null,
            "grid_gap": null,
            "max_width": null,
            "order": null,
            "_view_module_version": "1.2.0",
            "grid_template_areas": null,
            "object_position": null,
            "object_fit": null,
            "grid_auto_columns": null,
            "margin": null,
            "display": null,
            "left": null
          }
        },
        "f94ef808c1f14250985bc1ebdecba19e": {
          "model_module": "@jupyter-widgets/controls",
          "model_name": "DescriptionStyleModel",
          "model_module_version": "1.5.0",
          "state": {
            "_view_name": "StyleView",
            "_model_name": "DescriptionStyleModel",
            "description_width": "",
            "_view_module": "@jupyter-widgets/base",
            "_model_module_version": "1.5.0",
            "_view_count": null,
            "_view_module_version": "1.2.0",
            "_model_module": "@jupyter-widgets/controls"
          }
        },
        "59f5193396ec400eabb83b2c0e67aaac": {
          "model_module": "@jupyter-widgets/base",
          "model_name": "LayoutModel",
          "model_module_version": "1.2.0",
          "state": {
            "_view_name": "LayoutView",
            "grid_template_rows": null,
            "right": null,
            "justify_content": null,
            "_view_module": "@jupyter-widgets/base",
            "overflow": null,
            "_model_module_version": "1.2.0",
            "_view_count": null,
            "flex_flow": null,
            "width": null,
            "min_width": null,
            "border": null,
            "align_items": null,
            "bottom": null,
            "_model_module": "@jupyter-widgets/base",
            "top": null,
            "grid_column": null,
            "overflow_y": null,
            "overflow_x": null,
            "grid_auto_flow": null,
            "grid_area": null,
            "grid_template_columns": null,
            "flex": null,
            "_model_name": "LayoutModel",
            "justify_items": null,
            "grid_row": null,
            "max_height": null,
            "align_content": null,
            "visibility": null,
            "align_self": null,
            "height": null,
            "min_height": null,
            "padding": null,
            "grid_auto_rows": null,
            "grid_gap": null,
            "max_width": null,
            "order": null,
            "_view_module_version": "1.2.0",
            "grid_template_areas": null,
            "object_position": null,
            "object_fit": null,
            "grid_auto_columns": null,
            "margin": null,
            "display": null,
            "left": null
          }
        },
        "957f1b3309144acd8f2df14ddbf60127": {
          "model_module": "@jupyter-widgets/controls",
          "model_name": "HBoxModel",
          "model_module_version": "1.5.0",
          "state": {
            "_view_name": "HBoxView",
            "_dom_classes": [],
            "_model_name": "HBoxModel",
            "_view_module": "@jupyter-widgets/controls",
            "_model_module_version": "1.5.0",
            "_view_count": null,
            "_view_module_version": "1.5.0",
            "box_style": "",
            "layout": "IPY_MODEL_50a898c0347d48f3bd4c28d319d411e6",
            "_model_module": "@jupyter-widgets/controls",
            "children": [
              "IPY_MODEL_1a1e86d1ec8147919070679d5095ef22",
              "IPY_MODEL_e14ed4b3b51c41fca7b7eee800790556",
              "IPY_MODEL_afd6f79b211849fe88564729244023e2"
            ]
          }
        },
        "50a898c0347d48f3bd4c28d319d411e6": {
          "model_module": "@jupyter-widgets/base",
          "model_name": "LayoutModel",
          "model_module_version": "1.2.0",
          "state": {
            "_view_name": "LayoutView",
            "grid_template_rows": null,
            "right": null,
            "justify_content": null,
            "_view_module": "@jupyter-widgets/base",
            "overflow": null,
            "_model_module_version": "1.2.0",
            "_view_count": null,
            "flex_flow": null,
            "width": null,
            "min_width": null,
            "border": null,
            "align_items": null,
            "bottom": null,
            "_model_module": "@jupyter-widgets/base",
            "top": null,
            "grid_column": null,
            "overflow_y": null,
            "overflow_x": null,
            "grid_auto_flow": null,
            "grid_area": null,
            "grid_template_columns": null,
            "flex": null,
            "_model_name": "LayoutModel",
            "justify_items": null,
            "grid_row": null,
            "max_height": null,
            "align_content": null,
            "visibility": null,
            "align_self": null,
            "height": null,
            "min_height": null,
            "padding": null,
            "grid_auto_rows": null,
            "grid_gap": null,
            "max_width": null,
            "order": null,
            "_view_module_version": "1.2.0",
            "grid_template_areas": null,
            "object_position": null,
            "object_fit": null,
            "grid_auto_columns": null,
            "margin": null,
            "display": null,
            "left": null
          }
        },
        "1a1e86d1ec8147919070679d5095ef22": {
          "model_module": "@jupyter-widgets/controls",
          "model_name": "HTMLModel",
          "model_module_version": "1.5.0",
          "state": {
            "_view_name": "HTMLView",
            "style": "IPY_MODEL_7b03dd5cde83493f9dce0335fb89885c",
            "_dom_classes": [],
            "description": "",
            "_model_name": "HTMLModel",
            "placeholder": "​",
            "_view_module": "@jupyter-widgets/controls",
            "_model_module_version": "1.5.0",
            "value": "Downloading: 100%",
            "_view_count": null,
            "_view_module_version": "1.5.0",
            "description_tooltip": null,
            "_model_module": "@jupyter-widgets/controls",
            "layout": "IPY_MODEL_2ff2c558ad1e4e408053560042340f89"
          }
        },
        "e14ed4b3b51c41fca7b7eee800790556": {
          "model_module": "@jupyter-widgets/controls",
          "model_name": "FloatProgressModel",
          "model_module_version": "1.5.0",
          "state": {
            "_view_name": "ProgressView",
            "style": "IPY_MODEL_9ee89beecc6e40579fb2a27eef1be7a2",
            "_dom_classes": [],
            "description": "",
            "_model_name": "FloatProgressModel",
            "bar_style": "success",
            "max": 497933648,
            "_view_module": "@jupyter-widgets/controls",
            "_model_module_version": "1.5.0",
            "value": 497933648,
            "_view_count": null,
            "_view_module_version": "1.5.0",
            "orientation": "horizontal",
            "min": 0,
            "description_tooltip": null,
            "_model_module": "@jupyter-widgets/controls",
            "layout": "IPY_MODEL_1dee68dcfe884eb4b6642485734dd97e"
          }
        },
        "afd6f79b211849fe88564729244023e2": {
          "model_module": "@jupyter-widgets/controls",
          "model_name": "HTMLModel",
          "model_module_version": "1.5.0",
          "state": {
            "_view_name": "HTMLView",
            "style": "IPY_MODEL_7852028a46a7440fab38c9ff595d0012",
            "_dom_classes": [],
            "description": "",
            "_model_name": "HTMLModel",
            "placeholder": "​",
            "_view_module": "@jupyter-widgets/controls",
            "_model_module_version": "1.5.0",
            "value": " 475M/475M [00:16&lt;00:00, 32.7MB/s]",
            "_view_count": null,
            "_view_module_version": "1.5.0",
            "description_tooltip": null,
            "_model_module": "@jupyter-widgets/controls",
            "layout": "IPY_MODEL_8538591a7b9f4de7a1834648d2e0bb65"
          }
        },
        "7b03dd5cde83493f9dce0335fb89885c": {
          "model_module": "@jupyter-widgets/controls",
          "model_name": "DescriptionStyleModel",
          "model_module_version": "1.5.0",
          "state": {
            "_view_name": "StyleView",
            "_model_name": "DescriptionStyleModel",
            "description_width": "",
            "_view_module": "@jupyter-widgets/base",
            "_model_module_version": "1.5.0",
            "_view_count": null,
            "_view_module_version": "1.2.0",
            "_model_module": "@jupyter-widgets/controls"
          }
        },
        "2ff2c558ad1e4e408053560042340f89": {
          "model_module": "@jupyter-widgets/base",
          "model_name": "LayoutModel",
          "model_module_version": "1.2.0",
          "state": {
            "_view_name": "LayoutView",
            "grid_template_rows": null,
            "right": null,
            "justify_content": null,
            "_view_module": "@jupyter-widgets/base",
            "overflow": null,
            "_model_module_version": "1.2.0",
            "_view_count": null,
            "flex_flow": null,
            "width": null,
            "min_width": null,
            "border": null,
            "align_items": null,
            "bottom": null,
            "_model_module": "@jupyter-widgets/base",
            "top": null,
            "grid_column": null,
            "overflow_y": null,
            "overflow_x": null,
            "grid_auto_flow": null,
            "grid_area": null,
            "grid_template_columns": null,
            "flex": null,
            "_model_name": "LayoutModel",
            "justify_items": null,
            "grid_row": null,
            "max_height": null,
            "align_content": null,
            "visibility": null,
            "align_self": null,
            "height": null,
            "min_height": null,
            "padding": null,
            "grid_auto_rows": null,
            "grid_gap": null,
            "max_width": null,
            "order": null,
            "_view_module_version": "1.2.0",
            "grid_template_areas": null,
            "object_position": null,
            "object_fit": null,
            "grid_auto_columns": null,
            "margin": null,
            "display": null,
            "left": null
          }
        },
        "9ee89beecc6e40579fb2a27eef1be7a2": {
          "model_module": "@jupyter-widgets/controls",
          "model_name": "ProgressStyleModel",
          "model_module_version": "1.5.0",
          "state": {
            "_view_name": "StyleView",
            "_model_name": "ProgressStyleModel",
            "description_width": "",
            "_view_module": "@jupyter-widgets/base",
            "_model_module_version": "1.5.0",
            "_view_count": null,
            "_view_module_version": "1.2.0",
            "bar_color": null,
            "_model_module": "@jupyter-widgets/controls"
          }
        },
        "1dee68dcfe884eb4b6642485734dd97e": {
          "model_module": "@jupyter-widgets/base",
          "model_name": "LayoutModel",
          "model_module_version": "1.2.0",
          "state": {
            "_view_name": "LayoutView",
            "grid_template_rows": null,
            "right": null,
            "justify_content": null,
            "_view_module": "@jupyter-widgets/base",
            "overflow": null,
            "_model_module_version": "1.2.0",
            "_view_count": null,
            "flex_flow": null,
            "width": null,
            "min_width": null,
            "border": null,
            "align_items": null,
            "bottom": null,
            "_model_module": "@jupyter-widgets/base",
            "top": null,
            "grid_column": null,
            "overflow_y": null,
            "overflow_x": null,
            "grid_auto_flow": null,
            "grid_area": null,
            "grid_template_columns": null,
            "flex": null,
            "_model_name": "LayoutModel",
            "justify_items": null,
            "grid_row": null,
            "max_height": null,
            "align_content": null,
            "visibility": null,
            "align_self": null,
            "height": null,
            "min_height": null,
            "padding": null,
            "grid_auto_rows": null,
            "grid_gap": null,
            "max_width": null,
            "order": null,
            "_view_module_version": "1.2.0",
            "grid_template_areas": null,
            "object_position": null,
            "object_fit": null,
            "grid_auto_columns": null,
            "margin": null,
            "display": null,
            "left": null
          }
        },
        "7852028a46a7440fab38c9ff595d0012": {
          "model_module": "@jupyter-widgets/controls",
          "model_name": "DescriptionStyleModel",
          "model_module_version": "1.5.0",
          "state": {
            "_view_name": "StyleView",
            "_model_name": "DescriptionStyleModel",
            "description_width": "",
            "_view_module": "@jupyter-widgets/base",
            "_model_module_version": "1.5.0",
            "_view_count": null,
            "_view_module_version": "1.2.0",
            "_model_module": "@jupyter-widgets/controls"
          }
        },
        "8538591a7b9f4de7a1834648d2e0bb65": {
          "model_module": "@jupyter-widgets/base",
          "model_name": "LayoutModel",
          "model_module_version": "1.2.0",
          "state": {
            "_view_name": "LayoutView",
            "grid_template_rows": null,
            "right": null,
            "justify_content": null,
            "_view_module": "@jupyter-widgets/base",
            "overflow": null,
            "_model_module_version": "1.2.0",
            "_view_count": null,
            "flex_flow": null,
            "width": null,
            "min_width": null,
            "border": null,
            "align_items": null,
            "bottom": null,
            "_model_module": "@jupyter-widgets/base",
            "top": null,
            "grid_column": null,
            "overflow_y": null,
            "overflow_x": null,
            "grid_auto_flow": null,
            "grid_area": null,
            "grid_template_columns": null,
            "flex": null,
            "_model_name": "LayoutModel",
            "justify_items": null,
            "grid_row": null,
            "max_height": null,
            "align_content": null,
            "visibility": null,
            "align_self": null,
            "height": null,
            "min_height": null,
            "padding": null,
            "grid_auto_rows": null,
            "grid_gap": null,
            "max_width": null,
            "order": null,
            "_view_module_version": "1.2.0",
            "grid_template_areas": null,
            "object_position": null,
            "object_fit": null,
            "grid_auto_columns": null,
            "margin": null,
            "display": null,
            "left": null
          }
        }
      }
    }
  },
  "cells": [
    {
      "cell_type": "code",
      "metadata": {
        "id": "3K_eAwM1cqNd"
      },
      "source": [
        "import os\n",
        "import math\n",
        "import cv2\n",
        "import numpy as np\n",
        "import pandas as pd\n",
        "from imutils import paths\n",
        "import matplotlib.pyplot as plt\n",
        "import seaborn as sns\n",
        "import tensorflow as tf\n",
        "import time\n",
        "from sklearn.model_selection import train_test_split\n",
        "import tensorflow.keras.backend as K\n",
        "\n",
        "from IPython.display import clear_output"
      ],
      "execution_count": null,
      "outputs": []
    },
    {
      "cell_type": "code",
      "metadata": {
        "id": "QqOzkjh_sjH1"
      },
      "source": [
        "!pip install transformers\n",
        "\n",
        "from transformers import GPT2Tokenizer, TFGPT2LMHeadModel, GPT2Config\n",
        "clear_output()"
      ],
      "execution_count": null,
      "outputs": []
    },
    {
      "cell_type": "code",
      "metadata": {
        "colab": {
          "base_uri": "https://localhost:8080/"
        },
        "id": "cTmAWAGIhtJC",
        "outputId": "09f67e1f-08c7-45f4-9bb3-34e35518ab60"
      },
      "source": [
        "from google.colab import auth\n",
        "auth.authenticate_user()\n",
        "\n",
        "# https://cloud.google.com/resource-manager/docs/creating-managing-projects\n",
        "project_id = 'ai5-c1-group1'\n",
        "!gcloud config set project {project_id}"
      ],
      "execution_count": null,
      "outputs": [
        {
          "output_type": "stream",
          "name": "stdout",
          "text": [
            "Updated property [core/project].\n"
          ]
        }
      ]
    },
    {
      "cell_type": "code",
      "metadata": {
        "colab": {
          "base_uri": "https://localhost:8080/"
        },
        "id": "7-zXzDREhtts",
        "outputId": "5d985bed-f3e9-435f-ec0c-6676d25745d4"
      },
      "source": [
        "# Download the file from a given Google Cloud Storage bucket.\n",
        "!gsutil cp gs://artifacts.ai5-c1-group1.appspot.com/data/processed_dogs.csv ./"
      ],
      "execution_count": null,
      "outputs": [
        {
          "output_type": "stream",
          "name": "stdout",
          "text": [
            "Copying gs://artifacts.ai5-c1-group1.appspot.com/data/processed_dogs.csv...\n",
            "/ [1 files][926.6 KiB/926.6 KiB]                                                \n",
            "Operation completed over 1 objects/926.6 KiB.                                    \n"
          ]
        }
      ]
    },
    {
      "cell_type": "code",
      "metadata": {
        "colab": {
          "base_uri": "https://localhost:8080/",
          "height": 206
        },
        "id": "qFsAhOnoc9b3",
        "outputId": "1f80c950-217d-4b1f-b76b-d9e650113d9f"
      },
      "source": [
        "data = pd.read_csv('./processed_dogs.csv')\n",
        "data.head()"
      ],
      "execution_count": null,
      "outputs": [
        {
          "output_type": "execute_result",
          "data": {
            "text/html": [
              "<div>\n",
              "<style scoped>\n",
              "    .dataframe tbody tr th:only-of-type {\n",
              "        vertical-align: middle;\n",
              "    }\n",
              "\n",
              "    .dataframe tbody tr th {\n",
              "        vertical-align: top;\n",
              "    }\n",
              "\n",
              "    .dataframe thead th {\n",
              "        text-align: right;\n",
              "    }\n",
              "</style>\n",
              "<table border=\"1\" class=\"dataframe\">\n",
              "  <thead>\n",
              "    <tr style=\"text-align: right;\">\n",
              "      <th></th>\n",
              "      <th>AnimalID</th>\n",
              "      <th>AnimalInternal-ID</th>\n",
              "      <th>AnimalName</th>\n",
              "      <th>AnimalSex</th>\n",
              "      <th>AnimalCurrentWeightPounds</th>\n",
              "      <th>Age</th>\n",
              "      <th>Breed</th>\n",
              "      <th>isMixed</th>\n",
              "      <th>Color</th>\n",
              "    </tr>\n",
              "  </thead>\n",
              "  <tbody>\n",
              "    <tr>\n",
              "      <th>0</th>\n",
              "      <td>45628</td>\n",
              "      <td>1444011</td>\n",
              "      <td>Emma</td>\n",
              "      <td>Female</td>\n",
              "      <td>53.3</td>\n",
              "      <td>6</td>\n",
              "      <td>Retriever</td>\n",
              "      <td>True</td>\n",
              "      <td>Blond</td>\n",
              "    </tr>\n",
              "    <tr>\n",
              "      <th>1</th>\n",
              "      <td>45629</td>\n",
              "      <td>1444014</td>\n",
              "      <td>Rizzoli</td>\n",
              "      <td>Female</td>\n",
              "      <td>4.7</td>\n",
              "      <td>5</td>\n",
              "      <td>Mixed Breed (Small)</td>\n",
              "      <td>True</td>\n",
              "      <td>Tan</td>\n",
              "    </tr>\n",
              "    <tr>\n",
              "      <th>2</th>\n",
              "      <td>45630</td>\n",
              "      <td>1444017</td>\n",
              "      <td>Isles</td>\n",
              "      <td>Female</td>\n",
              "      <td>3.1</td>\n",
              "      <td>5</td>\n",
              "      <td>Mixed Breed (Small)</td>\n",
              "      <td>True</td>\n",
              "      <td>White</td>\n",
              "    </tr>\n",
              "    <tr>\n",
              "      <th>3</th>\n",
              "      <td>45631</td>\n",
              "      <td>1444020</td>\n",
              "      <td>Cory</td>\n",
              "      <td>Male</td>\n",
              "      <td>4.7</td>\n",
              "      <td>5</td>\n",
              "      <td>Mixed Breed (Small)</td>\n",
              "      <td>True</td>\n",
              "      <td>Sable</td>\n",
              "    </tr>\n",
              "    <tr>\n",
              "      <th>4</th>\n",
              "      <td>45632</td>\n",
              "      <td>1444023</td>\n",
              "      <td>Topanga</td>\n",
              "      <td>Female</td>\n",
              "      <td>8.0</td>\n",
              "      <td>5</td>\n",
              "      <td>Mixed Breed (Small)</td>\n",
              "      <td>True</td>\n",
              "      <td>Tan</td>\n",
              "    </tr>\n",
              "  </tbody>\n",
              "</table>\n",
              "</div>"
            ],
            "text/plain": [
              "   AnimalID  AnimalInternal-ID AnimalName  ...                Breed  isMixed  Color\n",
              "0     45628            1444011       Emma  ...            Retriever     True  Blond\n",
              "1     45629            1444014    Rizzoli  ...  Mixed Breed (Small)     True    Tan\n",
              "2     45630            1444017      Isles  ...  Mixed Breed (Small)     True  White\n",
              "3     45631            1444020       Cory  ...  Mixed Breed (Small)     True  Sable\n",
              "4     45632            1444023    Topanga  ...  Mixed Breed (Small)     True    Tan\n",
              "\n",
              "[5 rows x 9 columns]"
            ]
          },
          "metadata": {},
          "execution_count": 5
        }
      ]
    },
    {
      "cell_type": "code",
      "metadata": {
        "id": "LLer1oe4jBsL"
      },
      "source": [
        "generic_questions = [\"Hi\",\n",
        "               \"Hello, How are you\",\n",
        "               \"Are you pretty\",\n",
        "               \"What is your name\",\n",
        "               \"What is your color\",\n",
        "               \"What is your age\",\n",
        "               \"How old are you\",\n",
        "               \"What is your weight\",\n",
        "               \"What is your gender\",\n",
        "               \"What breed are you\"]\n",
        "\n",
        "generic_description = ' '.join([\n",
        "            \"I have the prettiest little puppy face.\",\n",
        "            \"I am sweet.\",\n",
        "            \"I have stunning grey eyes that will win you over instantly, and have the cutest floppy ears.\",\n",
        "            \"I am still learning what my crate is for, and working hard to master house training.\",\n",
        "            \"I love crinkly stuffed toys.\",\n",
        "            \"I am very low key and relaxed.\",\n",
        "            \"I love to be held, and will cuddle in your lap to take a snooze.\"])\n",
        "n = len(generic_questions)\n",
        "\n",
        "def generate_context(details):\n",
        "    persona = [f'My name is {details.AnimalName}.',\n",
        "                f'I am {details.Age} years old.',\n",
        "                f'My color is {details.Color}.',\n",
        "                f'My weight is {details.AnimalCurrentWeightPounds}.',\n",
        "                f'My gender or sex is {details.AnimalSex}.',\n",
        "                f'My breed is {details.Breed}.']\n",
        "    return n * [' '.join(persona) + \" \" + generic_description]\n",
        "\n",
        "def generate_qa(details):\n",
        "  \n",
        "  answers = [f\"Hi I am {details.AnimalName}. Woof Woof!\",\n",
        "             f\"Hi I am good. How you doin?\",\n",
        "             f\"I am the prettiest! woof woof !\",\n",
        "             f\"I am {details.AnimalName}. woof woof !\",\n",
        "             f\"My color is {details.Color}. It's your favourite color isn't it? \",\n",
        "             f\"I am {details.Age} years old. I am the cutest.\",\n",
        "             f\"I am {details.Age} years old. I am the cutest.\",\n",
        "             f\"I weigh {details.AnimalCurrentWeightPounds} lbs. I am a perfect family dog.\",\n",
        "             f\"I am a {details.AnimalSex} dog. I am the best.\",\n",
        "             f\"My breed is {details.Breed}. I love to make friends.\"]\n",
        "             \n",
        "  return generic_questions, answers"
      ],
      "execution_count": null,
      "outputs": []
    },
    {
      "cell_type": "code",
      "metadata": {
        "colab": {
          "base_uri": "https://localhost:8080/",
          "height": 74
        },
        "id": "e7dmQL18jkzO",
        "outputId": "5943ce1f-f4d6-43aa-f3ed-deff0b4eedf1"
      },
      "source": [
        "generate_context(data.iloc[0])[0]"
      ],
      "execution_count": null,
      "outputs": [
        {
          "output_type": "execute_result",
          "data": {
            "application/vnd.google.colaboratory.intrinsic+json": {
              "type": "string"
            },
            "text/plain": [
              "'My name is Emma. I am 6 years old. My color is Blond. My weight is 53.3. My gender or sex is Female. My breed is Retriever. I have the prettiest little puppy face. I am sweet. I have stunning grey eyes that will win you over instantly, and have the cutest floppy ears. I am still learning what my crate is for, and working hard to master house training. I love crinkly stuffed toys. I am very low key and relaxed. I love to be held, and will cuddle in your lap to take a snooze.'"
            ]
          },
          "metadata": {},
          "execution_count": 7
        }
      ]
    },
    {
      "cell_type": "code",
      "metadata": {
        "colab": {
          "base_uri": "https://localhost:8080/"
        },
        "id": "Z0y3u2Xhq4us",
        "outputId": "4f80d8a1-160b-4ff7-dd7d-8c79e624e909"
      },
      "source": [
        "q, a = generate_qa(data.iloc[0])\n",
        "for i, j in zip(q, a):\n",
        "  print(i)\n",
        "  print(j)\n",
        "  print('============================')"
      ],
      "execution_count": null,
      "outputs": [
        {
          "output_type": "stream",
          "name": "stdout",
          "text": [
            "Hi\n",
            "Hi I am Emma. Woof Woof!\n",
            "============================\n",
            "Hello, How are you\n",
            "Hi I am good. How you doin?\n",
            "============================\n",
            "Are you pretty\n",
            "I am the prettiest! woof woof !\n",
            "============================\n",
            "What is your name\n",
            "I am Emma. woof woof !\n",
            "============================\n",
            "What is your color\n",
            "My color is Blond. It's your favourite color isn't it? \n",
            "============================\n",
            "What is your age\n",
            "I am 6 years old. I am the cutest.\n",
            "============================\n",
            "How old are you\n",
            "I am 6 years old. I am the cutest.\n",
            "============================\n",
            "What is your weight\n",
            "I weigh 53.3 lbs. I am a perfect family dog.\n",
            "============================\n",
            "What is your gender\n",
            "I am a Female dog. I am the best.\n",
            "============================\n",
            "What breed are you\n",
            "My breed is Retriever. I love to make friends.\n",
            "============================\n"
          ]
        }
      ]
    },
    {
      "cell_type": "code",
      "metadata": {
        "id": "HmxT59IweeI1"
      },
      "source": [
        "questions = []\n",
        "answers = []\n",
        "context = []\n",
        "\n",
        "for row in data.iloc:\n",
        "  context.extend(generate_context(row))\n",
        "  qa = generate_qa(row)\n",
        "  questions.extend(qa[0])\n",
        "  answers.extend(qa[1])\n",
        "\n",
        "assert len(context) == len(questions) == len(answers)"
      ],
      "execution_count": null,
      "outputs": []
    },
    {
      "cell_type": "code",
      "metadata": {
        "colab": {
          "base_uri": "https://localhost:8080/",
          "height": 424
        },
        "id": "eXTmJUEJrsjD",
        "outputId": "ff5d61b1-0d26-46f1-905b-9ac8f52af75b"
      },
      "source": [
        "pd.DataFrame({\"context\" : context, \"questions\":questions, \"answers\":answers})"
      ],
      "execution_count": null,
      "outputs": [
        {
          "output_type": "execute_result",
          "data": {
            "text/html": [
              "<div>\n",
              "<style scoped>\n",
              "    .dataframe tbody tr th:only-of-type {\n",
              "        vertical-align: middle;\n",
              "    }\n",
              "\n",
              "    .dataframe tbody tr th {\n",
              "        vertical-align: top;\n",
              "    }\n",
              "\n",
              "    .dataframe thead th {\n",
              "        text-align: right;\n",
              "    }\n",
              "</style>\n",
              "<table border=\"1\" class=\"dataframe\">\n",
              "  <thead>\n",
              "    <tr style=\"text-align: right;\">\n",
              "      <th></th>\n",
              "      <th>context</th>\n",
              "      <th>questions</th>\n",
              "      <th>answers</th>\n",
              "    </tr>\n",
              "  </thead>\n",
              "  <tbody>\n",
              "    <tr>\n",
              "      <th>0</th>\n",
              "      <td>My name is Emma. I am 6 years old. My color is...</td>\n",
              "      <td>Hi</td>\n",
              "      <td>Hi I am Emma. Woof Woof!</td>\n",
              "    </tr>\n",
              "    <tr>\n",
              "      <th>1</th>\n",
              "      <td>My name is Emma. I am 6 years old. My color is...</td>\n",
              "      <td>Hello, How are you</td>\n",
              "      <td>Hi I am good. How you doin?</td>\n",
              "    </tr>\n",
              "    <tr>\n",
              "      <th>2</th>\n",
              "      <td>My name is Emma. I am 6 years old. My color is...</td>\n",
              "      <td>Are you pretty</td>\n",
              "      <td>I am the prettiest! woof woof !</td>\n",
              "    </tr>\n",
              "    <tr>\n",
              "      <th>3</th>\n",
              "      <td>My name is Emma. I am 6 years old. My color is...</td>\n",
              "      <td>What is your name</td>\n",
              "      <td>I am Emma. woof woof !</td>\n",
              "    </tr>\n",
              "    <tr>\n",
              "      <th>4</th>\n",
              "      <td>My name is Emma. I am 6 years old. My color is...</td>\n",
              "      <td>What is your color</td>\n",
              "      <td>My color is Blond. It's your favourite color i...</td>\n",
              "    </tr>\n",
              "    <tr>\n",
              "      <th>...</th>\n",
              "      <td>...</td>\n",
              "      <td>...</td>\n",
              "      <td>...</td>\n",
              "    </tr>\n",
              "    <tr>\n",
              "      <th>168845</th>\n",
              "      <td>My name is Nola. I am 1 years old. My color is...</td>\n",
              "      <td>What is your age</td>\n",
              "      <td>I am 1 years old. I am the cutest.</td>\n",
              "    </tr>\n",
              "    <tr>\n",
              "      <th>168846</th>\n",
              "      <td>My name is Nola. I am 1 years old. My color is...</td>\n",
              "      <td>How old are you</td>\n",
              "      <td>I am 1 years old. I am the cutest.</td>\n",
              "    </tr>\n",
              "    <tr>\n",
              "      <th>168847</th>\n",
              "      <td>My name is Nola. I am 1 years old. My color is...</td>\n",
              "      <td>What is your weight</td>\n",
              "      <td>I weigh 36.4 lbs. I am a perfect family dog.</td>\n",
              "    </tr>\n",
              "    <tr>\n",
              "      <th>168848</th>\n",
              "      <td>My name is Nola. I am 1 years old. My color is...</td>\n",
              "      <td>What is your gender</td>\n",
              "      <td>I am a Female dog. I am the best.</td>\n",
              "    </tr>\n",
              "    <tr>\n",
              "      <th>168849</th>\n",
              "      <td>My name is Nola. I am 1 years old. My color is...</td>\n",
              "      <td>What breed are you</td>\n",
              "      <td>My breed is Terrier. I love to make friends.</td>\n",
              "    </tr>\n",
              "  </tbody>\n",
              "</table>\n",
              "<p>168850 rows × 3 columns</p>\n",
              "</div>"
            ],
            "text/plain": [
              "                                                  context  ...                                            answers\n",
              "0       My name is Emma. I am 6 years old. My color is...  ...                           Hi I am Emma. Woof Woof!\n",
              "1       My name is Emma. I am 6 years old. My color is...  ...                        Hi I am good. How you doin?\n",
              "2       My name is Emma. I am 6 years old. My color is...  ...                    I am the prettiest! woof woof !\n",
              "3       My name is Emma. I am 6 years old. My color is...  ...                             I am Emma. woof woof !\n",
              "4       My name is Emma. I am 6 years old. My color is...  ...  My color is Blond. It's your favourite color i...\n",
              "...                                                   ...  ...                                                ...\n",
              "168845  My name is Nola. I am 1 years old. My color is...  ...                 I am 1 years old. I am the cutest.\n",
              "168846  My name is Nola. I am 1 years old. My color is...  ...                 I am 1 years old. I am the cutest.\n",
              "168847  My name is Nola. I am 1 years old. My color is...  ...       I weigh 36.4 lbs. I am a perfect family dog.\n",
              "168848  My name is Nola. I am 1 years old. My color is...  ...                  I am a Female dog. I am the best.\n",
              "168849  My name is Nola. I am 1 years old. My color is...  ...       My breed is Terrier. I love to make friends.\n",
              "\n",
              "[168850 rows x 3 columns]"
            ]
          },
          "metadata": {},
          "execution_count": 10
        }
      ]
    },
    {
      "cell_type": "code",
      "metadata": {
        "colab": {
          "base_uri": "https://localhost:8080/",
          "height": 182,
          "referenced_widgets": [
            "addc63d53e1d48a8b3ab435fb5cf1674",
            "9b6ae2378b5c41d3b66514ff89cca0b0",
            "0a083e68b20642b4a7485e1bfe7c5a74",
            "5744d19c49304176ace438e1037652fb",
            "73b38e1e1b024819978106e09e0f6d14",
            "a8ad6b5665ad4fb5b7b7f8c2917cb5b5",
            "db734c85982e457e813a406869845a7b",
            "cde9dd112e5a475ca0517408e0587c48",
            "7e33c79a847f4393a9aecb55a77cff0e",
            "652e071249104af6958bda1d4f89130c",
            "622950e21d8e4ff99af940a92df9ffad",
            "15ca45310e4145ce920c743ee7288cc8",
            "20cdf2efab144b36bf9f4458c6663265",
            "c4a27c5b817045e5ae9804e42f3843d6",
            "0491cc03fabf433aacbed65eb4b29f2e",
            "32fc8a3431534ab1ae6d4cd7749a21b1",
            "bddfbf72c0554ae38e64f581b7f42d14",
            "60ba6d8e9f434f258b8b674c1dd66dd1",
            "9327c065d39c4c46ba69f71492778d7c",
            "4b4daad160ca4befa340907a388220fb",
            "317b436f562a422a995a9a4c7dc351d5",
            "937ad8a6b2354293b18df6d8124009a4",
            "7af7e3fdbaae4103b4f9c050575bab2b",
            "371b1b14433546efb2c82d8b5ce8337f",
            "cb6bcbe0a11a49f08346b3156ebd0e46",
            "74c97f4e6704494c96628aba8e3a47a2",
            "d6df268198944871bd9f64dd7cf13a8a",
            "8dbf222dcaee4754adf6ef524fed0784",
            "7a36005426b7404b8f683aa726e67317",
            "75b4b940cf3c41e88fdeeff0dcb516a5",
            "910e17d1021f4a50b1d91869514540c8",
            "60c3fe95dfdb45c48df946e5436654e0",
            "da661259adc34cdc9e3eaa4b78d23c1e",
            "d28a3429f3f647cda7d63f828f4e141a",
            "ac14e4ab097d42ca8fb7238e2e37de7f",
            "679467d4a570490088f6ab4d0ea717f9",
            "0462f960daca44bab08ccd7ac60b165f",
            "8658bdebe0d848e5884afe8921117ee8",
            "893ba1bded9b4c14a7754f523a03f6bb",
            "17d05f36d1f1490392b3e7ebb2a13602",
            "e94eb28d780a4625a0d074bb0632be06",
            "0c58ce316b6149bdbbd5765cd789730b",
            "f94ef808c1f14250985bc1ebdecba19e",
            "59f5193396ec400eabb83b2c0e67aaac"
          ]
        },
        "id": "5yyMB_u839kd",
        "outputId": "4e6c3e9f-1170-4d3e-8bad-d167fd56ce04"
      },
      "source": [
        "tokenized_text = []\n",
        "tokenizer = GPT2Tokenizer.from_pretrained(\"gpt2\", pad_token_id=50256)\n",
        "\n",
        "for c, q, a in zip(context, questions, answers):\n",
        "  tok = tokenizer.encode(c+\" \"+q+ \" \"+a)\n",
        "  tokenized_text.append(tok)\n",
        "\n",
        "print(len(tokenized_text))\n",
        "print(len(tokenized_text[0]), tokenized_text[0][:20])"
      ],
      "execution_count": null,
      "outputs": [
        {
          "output_type": "display_data",
          "data": {
            "application/vnd.jupyter.widget-view+json": {
              "model_id": "addc63d53e1d48a8b3ab435fb5cf1674",
              "version_minor": 0,
              "version_major": 2
            },
            "text/plain": [
              "Downloading:   0%|          | 0.00/0.99M [00:00<?, ?B/s]"
            ]
          },
          "metadata": {}
        },
        {
          "output_type": "display_data",
          "data": {
            "application/vnd.jupyter.widget-view+json": {
              "model_id": "15ca45310e4145ce920c743ee7288cc8",
              "version_minor": 0,
              "version_major": 2
            },
            "text/plain": [
              "Downloading:   0%|          | 0.00/446k [00:00<?, ?B/s]"
            ]
          },
          "metadata": {}
        },
        {
          "output_type": "display_data",
          "data": {
            "application/vnd.jupyter.widget-view+json": {
              "model_id": "7af7e3fdbaae4103b4f9c050575bab2b",
              "version_minor": 0,
              "version_major": 2
            },
            "text/plain": [
              "Downloading:   0%|          | 0.00/1.29M [00:00<?, ?B/s]"
            ]
          },
          "metadata": {}
        },
        {
          "output_type": "display_data",
          "data": {
            "application/vnd.jupyter.widget-view+json": {
              "model_id": "d28a3429f3f647cda7d63f828f4e141a",
              "version_minor": 0,
              "version_major": 2
            },
            "text/plain": [
              "Downloading:   0%|          | 0.00/665 [00:00<?, ?B/s]"
            ]
          },
          "metadata": {}
        },
        {
          "output_type": "stream",
          "name": "stdout",
          "text": [
            "168850\n",
            "136 [3666, 1438, 318, 18966, 13, 314, 716, 718, 812, 1468, 13, 2011, 3124, 318, 1086, 623, 13, 2011, 3463, 318]\n"
          ]
        }
      ]
    },
    {
      "cell_type": "code",
      "metadata": {
        "colab": {
          "base_uri": "https://localhost:8080/"
        },
        "id": "OQtVZNdG6BF5",
        "outputId": "5e0ddc31-8817-4d89-dbad-219c8d56b69e"
      },
      "source": [
        "padded_text = tf.keras.preprocessing.sequence.pad_sequences(\n",
        "                  tokenized_text, padding='post', value=tokenizer.eos_token_id\n",
        ")\n",
        "\n",
        "X = []\n",
        "y = []\n",
        "for seq in padded_text:\n",
        "  X.append(seq[:-1])\n",
        "  y.append(seq[1:])\n",
        "\n",
        "print(len(X), len(y))"
      ],
      "execution_count": null,
      "outputs": [
        {
          "output_type": "stream",
          "name": "stdout",
          "text": [
            "168850 168850\n"
          ]
        }
      ]
    },
    {
      "cell_type": "code",
      "metadata": {
        "colab": {
          "base_uri": "https://localhost:8080/"
        },
        "id": "zPh896S2_fSM",
        "outputId": "137f31cd-4922-4014-86d2-11a75eaeecab"
      },
      "source": [
        "X[0].shape, y[0].shape"
      ],
      "execution_count": null,
      "outputs": [
        {
          "output_type": "execute_result",
          "data": {
            "text/plain": [
              "((159,), (159,))"
            ]
          },
          "metadata": {},
          "execution_count": 13
        }
      ]
    },
    {
      "cell_type": "code",
      "metadata": {
        "colab": {
          "base_uri": "https://localhost:8080/"
        },
        "id": "RB7OVYlb8FiH",
        "outputId": "76618fa1-b87d-4aff-8cdc-86740d869aad"
      },
      "source": [
        "train_x, test_x, train_y, test_y = train_test_split(X, y, train_size=.8)\n",
        "\n",
        "AUTOTUNE = tf.data.experimental.AUTOTUNE\n",
        "BATCH_SIZE = 12\n",
        "TRAIN_SHUFFLE_BUFFER_SIZE = len(train_x)\n",
        "TEST_SHUFFLE_BUFFER_SIZE = len(test_x)\n",
        "\n",
        "\n",
        "# Create TF Dataset\n",
        "train_data = tf.data.Dataset.from_tensor_slices((train_x, train_y))\n",
        "\n",
        "#############\n",
        "# Train data\n",
        "#############\n",
        "train_data = train_data.shuffle(buffer_size=TRAIN_SHUFFLE_BUFFER_SIZE)\n",
        "train_data = train_data.batch(BATCH_SIZE, drop_remainder=True)\n",
        "train_data = train_data.prefetch(buffer_size=AUTOTUNE)\n",
        "\n",
        "print(\"train_data\",train_data)\n",
        "\n",
        "\n",
        "# Create TF Dataset\n",
        "test_data = tf.data.Dataset.from_tensor_slices((test_x, test_y))\n",
        "\n",
        "#############\n",
        "# Test data\n",
        "#############\n",
        "test_data = test_data.shuffle(buffer_size=TEST_SHUFFLE_BUFFER_SIZE)\n",
        "test_data = test_data.batch(BATCH_SIZE, drop_remainder=True)\n",
        "test_data = test_data.prefetch(buffer_size=AUTOTUNE)\n",
        "\n",
        "print(\"test_data\",test_data)"
      ],
      "execution_count": null,
      "outputs": [
        {
          "output_type": "stream",
          "name": "stdout",
          "text": [
            "train_data <PrefetchDataset shapes: ((12, 159), (12, 159)), types: (tf.int32, tf.int32)>\n",
            "test_data <PrefetchDataset shapes: ((12, 159), (12, 159)), types: (tf.int32, tf.int32)>\n"
          ]
        }
      ]
    },
    {
      "cell_type": "code",
      "metadata": {
        "colab": {
          "base_uri": "https://localhost:8080/",
          "height": 387,
          "referenced_widgets": [
            "957f1b3309144acd8f2df14ddbf60127",
            "50a898c0347d48f3bd4c28d319d411e6",
            "1a1e86d1ec8147919070679d5095ef22",
            "e14ed4b3b51c41fca7b7eee800790556",
            "afd6f79b211849fe88564729244023e2",
            "7b03dd5cde83493f9dce0335fb89885c",
            "2ff2c558ad1e4e408053560042340f89",
            "9ee89beecc6e40579fb2a27eef1be7a2",
            "1dee68dcfe884eb4b6642485734dd97e",
            "7852028a46a7440fab38c9ff595d0012",
            "8538591a7b9f4de7a1834648d2e0bb65"
          ]
        },
        "id": "BFSKMZT29wLr",
        "outputId": "a6ec1451-b1b7-4ad3-f0d6-0910ca186ec7"
      },
      "source": [
        "############################\n",
        "# Training Params\n",
        "############################\n",
        "learning_rate = 5e-6 \n",
        "epsilon=1e-08\n",
        "clipnorm=1.0\n",
        "epochs = 1\n",
        "\n",
        "# Free up memory\n",
        "K.clear_session()\n",
        "\n",
        "# Build the model\n",
        "model = TFGPT2LMHeadModel.from_pretrained(\"gpt2\")\n",
        "\n",
        "# Print the model architecture\n",
        "print(model.summary())\n",
        "\n",
        "# Optimizer\n",
        "optimizer = tf.keras.optimizers.Adam(learning_rate=learning_rate, epsilon=epsilon, clipnorm=clipnorm)\n",
        "# Loss\n",
        "loss = tf.keras.losses.SparseCategoricalCrossentropy(from_logits=True)\n",
        "metric = tf.keras.metrics.SparseCategoricalAccuracy('accuracy')\n",
        "\n",
        "# Compile\n",
        "model.compile(loss=[loss, *[None] * model.config.n_layer],\n",
        "                  optimizer=optimizer,\n",
        "                  metrics=[metric])\n",
        "\n",
        "# Train model\n",
        "start_time = time.time()\n",
        "training_results = model.fit(\n",
        "        train_data, \n",
        "        epochs=epochs, \n",
        "        verbose=1)\n",
        "execution_time = (time.time() - start_time)/60.0\n",
        "print(\"Training execution time (mins)\",execution_time)"
      ],
      "execution_count": null,
      "outputs": [
        {
          "output_type": "display_data",
          "data": {
            "application/vnd.jupyter.widget-view+json": {
              "model_id": "957f1b3309144acd8f2df14ddbf60127",
              "version_minor": 0,
              "version_major": 2
            },
            "text/plain": [
              "Downloading:   0%|          | 0.00/475M [00:00<?, ?B/s]"
            ]
          },
          "metadata": {}
        },
        {
          "output_type": "stream",
          "name": "stderr",
          "text": [
            "All model checkpoint layers were used when initializing TFGPT2LMHeadModel.\n",
            "\n",
            "All the layers of TFGPT2LMHeadModel were initialized from the model checkpoint at gpt2.\n",
            "If your task is similar to the task the model of the checkpoint was trained on, you can already use TFGPT2LMHeadModel for predictions without further training.\n"
          ]
        },
        {
          "output_type": "stream",
          "name": "stdout",
          "text": [
            "Model: \"tfgp_t2lm_head_model\"\n",
            "_________________________________________________________________\n",
            "Layer (type)                 Output Shape              Param #   \n",
            "=================================================================\n",
            "transformer (TFGPT2MainLayer multiple                  124439808 \n",
            "=================================================================\n",
            "Total params: 124,439,808\n",
            "Trainable params: 124,439,808\n",
            "Non-trainable params: 0\n",
            "_________________________________________________________________\n",
            "None\n",
            "11256/11256 [==============================] - 12232s 1s/step - loss: 0.1980 - logits_loss: 0.1980 - logits_accuracy: 0.9547 - past_key_values_1_accuracy: 0.0024 - past_key_values_2_accuracy: 0.0015 - past_key_values_3_accuracy: 0.0013 - past_key_values_4_accuracy: 0.0066 - past_key_values_5_accuracy: 0.0019 - past_key_values_6_accuracy: 0.0041 - past_key_values_7_accuracy: 6.5944e-04 - past_key_values_8_accuracy: 0.0013 - past_key_values_9_accuracy: 8.8960e-04 - past_key_values_10_accuracy: 0.0013 - past_key_values_11_accuracy: 0.0014 - past_key_values_12_accuracy: 0.0012\n",
            "Training execution time (mins) 204.70258458455405\n"
          ]
        }
      ]
    },
    {
      "cell_type": "code",
      "metadata": {
        "colab": {
          "base_uri": "https://localhost:8080/"
        },
        "id": "kSjmZATlVvyI",
        "outputId": "f6498af0-ee56-4360-be4f-1366085453c4"
      },
      "source": [
        "model_dir = \"trained_model_gpt2\"\n",
        "os.makedirs(model_dir, exist_ok=True)\n",
        "\n",
        "model.save_pretrained(model_dir)\n",
        "tokenizer.save_pretrained(model_dir)\n",
        "\n",
        "!zip -r finetuned_model_gpt2.zip trained_model_gpt2"
      ],
      "execution_count": null,
      "outputs": [
        {
          "output_type": "stream",
          "name": "stdout",
          "text": [
            "  adding: trained_model_gpt2/ (stored 0%)\n",
            "  adding: trained_model_gpt2/vocab.json (deflated 63%)\n",
            "  adding: trained_model_gpt2/config.json (deflated 51%)\n",
            "  adding: trained_model_gpt2/tokenizer_config.json (deflated 57%)\n",
            "  adding: trained_model_gpt2/special_tokens_map.json (deflated 72%)\n",
            "  adding: trained_model_gpt2/tf_model.h5 (deflated 7%)\n",
            "  adding: trained_model_gpt2/merges.txt (deflated 53%)\n"
          ]
        }
      ]
    },
    {
      "cell_type": "code",
      "metadata": {
        "colab": {
          "base_uri": "https://localhost:8080/"
        },
        "id": "gS6Ck78JWAsy",
        "outputId": "e5c5d327-be4c-430f-a059-99982e519290"
      },
      "source": [
        "# Copy the file to our new bucket.\n",
        "# Full reference: https://cloud.google.com/storage/docs/gsutil/commands/cp\n",
        "!gsutil cp ./finetuned_model_gpt2.zip gs://artifacts.ai5-c1-group1.appspot.com/data"
      ],
      "execution_count": null,
      "outputs": [
        {
          "output_type": "stream",
          "name": "stdout",
          "text": [
            "Copying file://./finetuned_model_gpt2.zip [Content-Type=application/zip]...\n",
            "/ [0 files][    0.0 B/441.5 MiB]                                                \r==> NOTE: You are uploading one or more large file(s), which would run\n",
            "significantly faster if you enable parallel composite uploads. This\n",
            "feature can be enabled by editing the\n",
            "\"parallel_composite_upload_threshold\" value in your .boto\n",
            "configuration file. However, note that if you do this large files will\n",
            "be uploaded as `composite objects\n",
            "<https://cloud.google.com/storage/docs/composite-objects>`_,which\n",
            "means that any user who downloads such objects will need to have a\n",
            "compiled crcmod installed (see \"gsutil help crcmod\"). This is because\n",
            "without a compiled crcmod, computing checksums on composite objects is\n",
            "so slow that gsutil disables downloads of composite objects.\n",
            "\n",
            "-\n",
            "Operation completed over 1 objects/441.5 MiB.                                    \n"
          ]
        }
      ]
    },
    {
      "cell_type": "code",
      "metadata": {
        "colab": {
          "base_uri": "https://localhost:8080/"
        },
        "id": "kQsvpxqzJtdJ",
        "outputId": "e64d393e-d711-4d0d-f32e-086b54e0b837"
      },
      "source": [
        "# model = TFGPT2LMHeadModel.from_pretrained(\"./trained_model\")\n",
        "# tokenizer = GPT2Tokenizer.from_pretrained(\"./trained_model\")\n",
        "\n",
        "def chatbot(context):\n",
        "  while (True):\n",
        "    question = input().strip()\n",
        "    if (question == \"exit\"):   break\n",
        "    # history = history+ \" \"+question\n",
        "    query = context + question\n",
        "    input_ids = tokenizer.encode(query, return_tensors='tf')\n",
        "    outputs = model.generate(\n",
        "        input_ids, \n",
        "        num_beams = 2,\n",
        "        pad_token_id=50256,\n",
        "        top_p=.8,\n",
        "        top_k = 2,\n",
        "        max_length=300\n",
        "    )\n",
        "    answer = tokenizer.decode(outputs[0], skip_special_tokens=True)\n",
        "    # history += \" \"+answer\n",
        "    print(\"                 ->\", answer[len(query):])\n",
        "    # print(answer)\n",
        "\n",
        "chatbot(np.random.choice(context))"
      ],
      "execution_count": null,
      "outputs": [
        {
          "name": "stdout",
          "output_type": "stream",
          "text": [
            "Hi\n",
            "                 ->  Hi I am Egypt. Woof Woof!\n",
            "What breed are you\n",
            "                 ->  My breed is Retriever. I love to make friends.\n",
            "How old are you\n",
            "                 ->  I am 6 years old. I am the cutest.\n",
            "Are you trained\n",
            "                 ->  hard I am hard working to master house training. I love to make friends.\n",
            "exit\n"
          ]
        }
      ]
    },
    {
      "cell_type": "code",
      "metadata": {
        "colab": {
          "base_uri": "https://localhost:8080/"
        },
        "id": "ktn5plQqrul_",
        "outputId": "8750c692-1b7d-4d23-c188-858f56dcaf64"
      },
      "source": [
        "from transformers import AutoTokenizer, TFAutoModelForQuestionAnswering\n",
        "\n",
        "tokenizer = AutoTokenizer.from_pretrained(\"bert-large-uncased-whole-word-masking-finetuned-squad\")\n",
        "model = TFAutoModelForQuestionAnswering.from_pretrained(\"bert-large-uncased-whole-word-masking-finetuned-squad\")\n",
        "\n",
        "test_text = context[0]\n",
        "\n",
        "test_questions = questions[:8]\n",
        "\n",
        "while True:\n",
        "    question = input().strip()\n",
        "    if (question == \"exit\"):  break\n",
        "    inputs = tokenizer(question, test_text, add_special_tokens=True, return_tensors=\"tf\")\n",
        "    input_ids = inputs[\"input_ids\"].numpy()[0]\n",
        "    outputs = model(inputs)\n",
        "    answer_start_scores = outputs.start_logits\n",
        "    answer_end_scores = outputs.end_logits\n",
        "    # Get the most likely beginning of answer with the argmax of the score\n",
        "    answer_start = tf.argmax(answer_start_scores, axis=1).numpy()[0]\n",
        "    # Get the most likely end of answer with the argmax of the score\n",
        "    answer_end = tf.argmax(answer_end_scores, axis=1).numpy()[0] + 1\n",
        "    answer = tokenizer.convert_tokens_to_string(tokenizer.convert_ids_to_tokens(input_ids[answer_start:answer_end]))\n",
        "    # print(f\"Question: {question}\")\n",
        "    print(\"                 ->\", answer)"
      ],
      "execution_count": null,
      "outputs": [
        {
          "output_type": "stream",
          "name": "stderr",
          "text": [
            "All model checkpoint layers were used when initializing TFBertForQuestionAnswering.\n",
            "\n",
            "All the layers of TFBertForQuestionAnswering were initialized from the model checkpoint at bert-large-uncased-whole-word-masking-finetuned-squad.\n",
            "If your task is similar to the task the model of the checkpoint was trained on, you can already use TFBertForQuestionAnswering for predictions without further training.\n"
          ]
        },
        {
          "name": "stdout",
          "output_type": "stream",
          "text": [
            "Hi What is your name\n",
            "                 -> emma\n",
            "How old are you\n",
            "                 -> 6 years old\n",
            "Are you cute\n",
            "                 -> i have stunning grey eyes that will win you over instantly\n",
            "Do you like toys\n",
            "                 -> i love crinkly stuffed toys\n",
            "Are you trained\n",
            "                 -> working hard to master house training\n",
            "exit\n"
          ]
        }
      ]
    },
    {
      "cell_type": "code",
      "metadata": {
        "colab": {
          "base_uri": "https://localhost:8080/"
        },
        "id": "6KN_4mmO8J5Y",
        "outputId": "2f3573cd-8a81-47a4-d9a2-06e6f6535728"
      },
      "source": [
        "model_dir = \"trained_model_bert\"\n",
        "os.makedirs(model_dir, exist_ok=True)\n",
        "\n",
        "model.save_pretrained(model_dir)\n",
        "tokenizer.save_pretrained(model_dir)\n",
        "\n",
        "!zip -r pretrained_bert.zip trained_model_bert"
      ],
      "execution_count": null,
      "outputs": [
        {
          "output_type": "stream",
          "name": "stdout",
          "text": [
            "  adding: trained_model_bert/ (stored 0%)\n",
            "  adding: trained_model_bert/tokenizer_config.json (deflated 39%)\n",
            "  adding: trained_model_bert/tokenizer.json (deflated 59%)\n",
            "  adding: trained_model_bert/config.json (deflated 46%)\n",
            "  adding: trained_model_bert/special_tokens_map.json (deflated 40%)\n",
            "  adding: trained_model_bert/vocab.txt (deflated 53%)\n",
            "  adding: trained_model_bert/tf_model.h5 (deflated 7%)\n"
          ]
        }
      ]
    },
    {
      "cell_type": "code",
      "metadata": {
        "colab": {
          "base_uri": "https://localhost:8080/"
        },
        "id": "HhGzByJ0qqyg",
        "outputId": "c9d12815-970d-4f80-f723-8f150b8b5146"
      },
      "source": [
        "!gsutil cp ./pretrained_bert.zip gs://artifacts.ai5-c1-group1.appspot.com/data"
      ],
      "execution_count": null,
      "outputs": [
        {
          "output_type": "stream",
          "name": "stdout",
          "text": [
            "Copying file://./pretrained_bert.zip [Content-Type=application/zip]...\n",
            "/ [0 files][    0.0 B/  1.2 GiB]                                                \r==> NOTE: You are uploading one or more large file(s), which would run\n",
            "significantly faster if you enable parallel composite uploads. This\n",
            "feature can be enabled by editing the\n",
            "\"parallel_composite_upload_threshold\" value in your .boto\n",
            "configuration file. However, note that if you do this large files will\n",
            "be uploaded as `composite objects\n",
            "<https://cloud.google.com/storage/docs/composite-objects>`_,which\n",
            "means that any user who downloads such objects will need to have a\n",
            "compiled crcmod installed (see \"gsutil help crcmod\"). This is because\n",
            "without a compiled crcmod, computing checksums on composite objects is\n",
            "so slow that gsutil disables downloads of composite objects.\n",
            "\n",
            "/\n",
            "Operation completed over 1 objects/1.2 GiB.                                      \n"
          ]
        }
      ]
    },
    {
      "cell_type": "code",
      "metadata": {
        "id": "AAmKWA4Fqyvg"
      },
      "source": [
        ""
      ],
      "execution_count": null,
      "outputs": []
    }
  ]
}