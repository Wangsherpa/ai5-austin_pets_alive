{
  "nbformat": 4,
  "nbformat_minor": 0,
  "metadata": {
    "colab": {
      "name": "Data Processing And EDA.ipynb",
      "provenance": []
    },
    "kernelspec": {
      "name": "python3",
      "display_name": "Python 3"
    },
    "language_info": {
      "name": "python"
    },
    "widgets": {
      "application/vnd.jupyter.widget-state+json": {
        "e2ec041ec8664190a5941a2954d37692": {
          "model_module": "@jupyter-widgets/controls",
          "model_name": "HBoxModel",
          "model_module_version": "1.5.0",
          "state": {
            "_view_name": "HBoxView",
            "_dom_classes": [],
            "_model_name": "HBoxModel",
            "_view_module": "@jupyter-widgets/controls",
            "_model_module_version": "1.5.0",
            "_view_count": null,
            "_view_module_version": "1.5.0",
            "box_style": "",
            "layout": "IPY_MODEL_69929594e58547f1a6fc5d0bd3dc1ecf",
            "_model_module": "@jupyter-widgets/controls",
            "children": [
              "IPY_MODEL_52df040885aa484ab742b402b4031beb",
              "IPY_MODEL_ef4d41d754b94e7a93336c8f35f9203d",
              "IPY_MODEL_d09171da3d1d4e9db7c82877aec10660"
            ]
          }
        },
        "69929594e58547f1a6fc5d0bd3dc1ecf": {
          "model_module": "@jupyter-widgets/base",
          "model_name": "LayoutModel",
          "model_module_version": "1.2.0",
          "state": {
            "_view_name": "LayoutView",
            "grid_template_rows": null,
            "right": null,
            "justify_content": null,
            "_view_module": "@jupyter-widgets/base",
            "overflow": null,
            "_model_module_version": "1.2.0",
            "_view_count": null,
            "flex_flow": null,
            "width": null,
            "min_width": null,
            "border": null,
            "align_items": null,
            "bottom": null,
            "_model_module": "@jupyter-widgets/base",
            "top": null,
            "grid_column": null,
            "overflow_y": null,
            "overflow_x": null,
            "grid_auto_flow": null,
            "grid_area": null,
            "grid_template_columns": null,
            "flex": null,
            "_model_name": "LayoutModel",
            "justify_items": null,
            "grid_row": null,
            "max_height": null,
            "align_content": null,
            "visibility": null,
            "align_self": null,
            "height": null,
            "min_height": null,
            "padding": null,
            "grid_auto_rows": null,
            "grid_gap": null,
            "max_width": null,
            "order": null,
            "_view_module_version": "1.2.0",
            "grid_template_areas": null,
            "object_position": null,
            "object_fit": null,
            "grid_auto_columns": null,
            "margin": null,
            "display": null,
            "left": null
          }
        },
        "52df040885aa484ab742b402b4031beb": {
          "model_module": "@jupyter-widgets/controls",
          "model_name": "HTMLModel",
          "model_module_version": "1.5.0",
          "state": {
            "_view_name": "HTMLView",
            "style": "IPY_MODEL_623442efd3e44694ae23ba12994cbe16",
            "_dom_classes": [],
            "description": "",
            "_model_name": "HTMLModel",
            "placeholder": "​",
            "_view_module": "@jupyter-widgets/controls",
            "_model_module_version": "1.5.0",
            "value": "Downloading: 100%",
            "_view_count": null,
            "_view_module_version": "1.5.0",
            "description_tooltip": null,
            "_model_module": "@jupyter-widgets/controls",
            "layout": "IPY_MODEL_57288b6c6f9640b8828376afb01b8342"
          }
        },
        "ef4d41d754b94e7a93336c8f35f9203d": {
          "model_module": "@jupyter-widgets/controls",
          "model_name": "FloatProgressModel",
          "model_module_version": "1.5.0",
          "state": {
            "_view_name": "ProgressView",
            "style": "IPY_MODEL_63a763ad7067488bb91ed5974ef973d5",
            "_dom_classes": [],
            "description": "",
            "_model_name": "FloatProgressModel",
            "bar_style": "success",
            "max": 473,
            "_view_module": "@jupyter-widgets/controls",
            "_model_module_version": "1.5.0",
            "value": 473,
            "_view_count": null,
            "_view_module_version": "1.5.0",
            "orientation": "horizontal",
            "min": 0,
            "description_tooltip": null,
            "_model_module": "@jupyter-widgets/controls",
            "layout": "IPY_MODEL_0efa003a80064a55870ff812d7952dd6"
          }
        },
        "d09171da3d1d4e9db7c82877aec10660": {
          "model_module": "@jupyter-widgets/controls",
          "model_name": "HTMLModel",
          "model_module_version": "1.5.0",
          "state": {
            "_view_name": "HTMLView",
            "style": "IPY_MODEL_d5d715226c38406d933e96cf7fa22a51",
            "_dom_classes": [],
            "description": "",
            "_model_name": "HTMLModel",
            "placeholder": "​",
            "_view_module": "@jupyter-widgets/controls",
            "_model_module_version": "1.5.0",
            "value": " 473/473 [00:00&lt;00:00, 11.7kB/s]",
            "_view_count": null,
            "_view_module_version": "1.5.0",
            "description_tooltip": null,
            "_model_module": "@jupyter-widgets/controls",
            "layout": "IPY_MODEL_7cc540831e4e4771af5ede569fc9ff3e"
          }
        },
        "623442efd3e44694ae23ba12994cbe16": {
          "model_module": "@jupyter-widgets/controls",
          "model_name": "DescriptionStyleModel",
          "model_module_version": "1.5.0",
          "state": {
            "_view_name": "StyleView",
            "_model_name": "DescriptionStyleModel",
            "description_width": "",
            "_view_module": "@jupyter-widgets/base",
            "_model_module_version": "1.5.0",
            "_view_count": null,
            "_view_module_version": "1.2.0",
            "_model_module": "@jupyter-widgets/controls"
          }
        },
        "57288b6c6f9640b8828376afb01b8342": {
          "model_module": "@jupyter-widgets/base",
          "model_name": "LayoutModel",
          "model_module_version": "1.2.0",
          "state": {
            "_view_name": "LayoutView",
            "grid_template_rows": null,
            "right": null,
            "justify_content": null,
            "_view_module": "@jupyter-widgets/base",
            "overflow": null,
            "_model_module_version": "1.2.0",
            "_view_count": null,
            "flex_flow": null,
            "width": null,
            "min_width": null,
            "border": null,
            "align_items": null,
            "bottom": null,
            "_model_module": "@jupyter-widgets/base",
            "top": null,
            "grid_column": null,
            "overflow_y": null,
            "overflow_x": null,
            "grid_auto_flow": null,
            "grid_area": null,
            "grid_template_columns": null,
            "flex": null,
            "_model_name": "LayoutModel",
            "justify_items": null,
            "grid_row": null,
            "max_height": null,
            "align_content": null,
            "visibility": null,
            "align_self": null,
            "height": null,
            "min_height": null,
            "padding": null,
            "grid_auto_rows": null,
            "grid_gap": null,
            "max_width": null,
            "order": null,
            "_view_module_version": "1.2.0",
            "grid_template_areas": null,
            "object_position": null,
            "object_fit": null,
            "grid_auto_columns": null,
            "margin": null,
            "display": null,
            "left": null
          }
        },
        "63a763ad7067488bb91ed5974ef973d5": {
          "model_module": "@jupyter-widgets/controls",
          "model_name": "ProgressStyleModel",
          "model_module_version": "1.5.0",
          "state": {
            "_view_name": "StyleView",
            "_model_name": "ProgressStyleModel",
            "description_width": "",
            "_view_module": "@jupyter-widgets/base",
            "_model_module_version": "1.5.0",
            "_view_count": null,
            "_view_module_version": "1.2.0",
            "bar_color": null,
            "_model_module": "@jupyter-widgets/controls"
          }
        },
        "0efa003a80064a55870ff812d7952dd6": {
          "model_module": "@jupyter-widgets/base",
          "model_name": "LayoutModel",
          "model_module_version": "1.2.0",
          "state": {
            "_view_name": "LayoutView",
            "grid_template_rows": null,
            "right": null,
            "justify_content": null,
            "_view_module": "@jupyter-widgets/base",
            "overflow": null,
            "_model_module_version": "1.2.0",
            "_view_count": null,
            "flex_flow": null,
            "width": null,
            "min_width": null,
            "border": null,
            "align_items": null,
            "bottom": null,
            "_model_module": "@jupyter-widgets/base",
            "top": null,
            "grid_column": null,
            "overflow_y": null,
            "overflow_x": null,
            "grid_auto_flow": null,
            "grid_area": null,
            "grid_template_columns": null,
            "flex": null,
            "_model_name": "LayoutModel",
            "justify_items": null,
            "grid_row": null,
            "max_height": null,
            "align_content": null,
            "visibility": null,
            "align_self": null,
            "height": null,
            "min_height": null,
            "padding": null,
            "grid_auto_rows": null,
            "grid_gap": null,
            "max_width": null,
            "order": null,
            "_view_module_version": "1.2.0",
            "grid_template_areas": null,
            "object_position": null,
            "object_fit": null,
            "grid_auto_columns": null,
            "margin": null,
            "display": null,
            "left": null
          }
        },
        "d5d715226c38406d933e96cf7fa22a51": {
          "model_module": "@jupyter-widgets/controls",
          "model_name": "DescriptionStyleModel",
          "model_module_version": "1.5.0",
          "state": {
            "_view_name": "StyleView",
            "_model_name": "DescriptionStyleModel",
            "description_width": "",
            "_view_module": "@jupyter-widgets/base",
            "_model_module_version": "1.5.0",
            "_view_count": null,
            "_view_module_version": "1.2.0",
            "_model_module": "@jupyter-widgets/controls"
          }
        },
        "7cc540831e4e4771af5ede569fc9ff3e": {
          "model_module": "@jupyter-widgets/base",
          "model_name": "LayoutModel",
          "model_module_version": "1.2.0",
          "state": {
            "_view_name": "LayoutView",
            "grid_template_rows": null,
            "right": null,
            "justify_content": null,
            "_view_module": "@jupyter-widgets/base",
            "overflow": null,
            "_model_module_version": "1.2.0",
            "_view_count": null,
            "flex_flow": null,
            "width": null,
            "min_width": null,
            "border": null,
            "align_items": null,
            "bottom": null,
            "_model_module": "@jupyter-widgets/base",
            "top": null,
            "grid_column": null,
            "overflow_y": null,
            "overflow_x": null,
            "grid_auto_flow": null,
            "grid_area": null,
            "grid_template_columns": null,
            "flex": null,
            "_model_name": "LayoutModel",
            "justify_items": null,
            "grid_row": null,
            "max_height": null,
            "align_content": null,
            "visibility": null,
            "align_self": null,
            "height": null,
            "min_height": null,
            "padding": null,
            "grid_auto_rows": null,
            "grid_gap": null,
            "max_width": null,
            "order": null,
            "_view_module_version": "1.2.0",
            "grid_template_areas": null,
            "object_position": null,
            "object_fit": null,
            "grid_auto_columns": null,
            "margin": null,
            "display": null,
            "left": null
          }
        },
        "17beab7b58af4ca9807178df918fd041": {
          "model_module": "@jupyter-widgets/controls",
          "model_name": "HBoxModel",
          "model_module_version": "1.5.0",
          "state": {
            "_view_name": "HBoxView",
            "_dom_classes": [],
            "_model_name": "HBoxModel",
            "_view_module": "@jupyter-widgets/controls",
            "_model_module_version": "1.5.0",
            "_view_count": null,
            "_view_module_version": "1.5.0",
            "box_style": "",
            "layout": "IPY_MODEL_d70f128eea7d4807a8ae57f55d6186cb",
            "_model_module": "@jupyter-widgets/controls",
            "children": [
              "IPY_MODEL_76469166bb3c429681c3253c73220278",
              "IPY_MODEL_6f50587fde454bb89bad5e78b80c3c41",
              "IPY_MODEL_a42bf04c01ba47168519b1bf43d981a7"
            ]
          }
        },
        "d70f128eea7d4807a8ae57f55d6186cb": {
          "model_module": "@jupyter-widgets/base",
          "model_name": "LayoutModel",
          "model_module_version": "1.2.0",
          "state": {
            "_view_name": "LayoutView",
            "grid_template_rows": null,
            "right": null,
            "justify_content": null,
            "_view_module": "@jupyter-widgets/base",
            "overflow": null,
            "_model_module_version": "1.2.0",
            "_view_count": null,
            "flex_flow": null,
            "width": null,
            "min_width": null,
            "border": null,
            "align_items": null,
            "bottom": null,
            "_model_module": "@jupyter-widgets/base",
            "top": null,
            "grid_column": null,
            "overflow_y": null,
            "overflow_x": null,
            "grid_auto_flow": null,
            "grid_area": null,
            "grid_template_columns": null,
            "flex": null,
            "_model_name": "LayoutModel",
            "justify_items": null,
            "grid_row": null,
            "max_height": null,
            "align_content": null,
            "visibility": null,
            "align_self": null,
            "height": null,
            "min_height": null,
            "padding": null,
            "grid_auto_rows": null,
            "grid_gap": null,
            "max_width": null,
            "order": null,
            "_view_module_version": "1.2.0",
            "grid_template_areas": null,
            "object_position": null,
            "object_fit": null,
            "grid_auto_columns": null,
            "margin": null,
            "display": null,
            "left": null
          }
        },
        "76469166bb3c429681c3253c73220278": {
          "model_module": "@jupyter-widgets/controls",
          "model_name": "HTMLModel",
          "model_module_version": "1.5.0",
          "state": {
            "_view_name": "HTMLView",
            "style": "IPY_MODEL_32db314dfef7407f821c5fef66a1a898",
            "_dom_classes": [],
            "description": "",
            "_model_name": "HTMLModel",
            "placeholder": "​",
            "_view_module": "@jupyter-widgets/controls",
            "_model_module_version": "1.5.0",
            "value": "Downloading: 100%",
            "_view_count": null,
            "_view_module_version": "1.5.0",
            "description_tooltip": null,
            "_model_module": "@jupyter-widgets/controls",
            "layout": "IPY_MODEL_26d03e965b3447bda57c2dbf68fc7001"
          }
        },
        "6f50587fde454bb89bad5e78b80c3c41": {
          "model_module": "@jupyter-widgets/controls",
          "model_name": "FloatProgressModel",
          "model_module_version": "1.5.0",
          "state": {
            "_view_name": "ProgressView",
            "style": "IPY_MODEL_3f1f1617dc5e4bb289f47fba74a662d4",
            "_dom_classes": [],
            "description": "",
            "_model_name": "FloatProgressModel",
            "bar_style": "success",
            "max": 260793700,
            "_view_module": "@jupyter-widgets/controls",
            "_model_module_version": "1.5.0",
            "value": 260793700,
            "_view_count": null,
            "_view_module_version": "1.5.0",
            "orientation": "horizontal",
            "min": 0,
            "description_tooltip": null,
            "_model_module": "@jupyter-widgets/controls",
            "layout": "IPY_MODEL_2ae1983dfdf54bc3af6201d24d9cc350"
          }
        },
        "a42bf04c01ba47168519b1bf43d981a7": {
          "model_module": "@jupyter-widgets/controls",
          "model_name": "HTMLModel",
          "model_module_version": "1.5.0",
          "state": {
            "_view_name": "HTMLView",
            "style": "IPY_MODEL_ce954963ec5f49468e76821b3c34de69",
            "_dom_classes": [],
            "description": "",
            "_model_name": "HTMLModel",
            "placeholder": "​",
            "_view_module": "@jupyter-widgets/controls",
            "_model_module_version": "1.5.0",
            "value": " 261M/261M [00:06&lt;00:00, 44.7MB/s]",
            "_view_count": null,
            "_view_module_version": "1.5.0",
            "description_tooltip": null,
            "_model_module": "@jupyter-widgets/controls",
            "layout": "IPY_MODEL_0d233809d0cc4dc4a0f8d0e9a8611f32"
          }
        },
        "32db314dfef7407f821c5fef66a1a898": {
          "model_module": "@jupyter-widgets/controls",
          "model_name": "DescriptionStyleModel",
          "model_module_version": "1.5.0",
          "state": {
            "_view_name": "StyleView",
            "_model_name": "DescriptionStyleModel",
            "description_width": "",
            "_view_module": "@jupyter-widgets/base",
            "_model_module_version": "1.5.0",
            "_view_count": null,
            "_view_module_version": "1.2.0",
            "_model_module": "@jupyter-widgets/controls"
          }
        },
        "26d03e965b3447bda57c2dbf68fc7001": {
          "model_module": "@jupyter-widgets/base",
          "model_name": "LayoutModel",
          "model_module_version": "1.2.0",
          "state": {
            "_view_name": "LayoutView",
            "grid_template_rows": null,
            "right": null,
            "justify_content": null,
            "_view_module": "@jupyter-widgets/base",
            "overflow": null,
            "_model_module_version": "1.2.0",
            "_view_count": null,
            "flex_flow": null,
            "width": null,
            "min_width": null,
            "border": null,
            "align_items": null,
            "bottom": null,
            "_model_module": "@jupyter-widgets/base",
            "top": null,
            "grid_column": null,
            "overflow_y": null,
            "overflow_x": null,
            "grid_auto_flow": null,
            "grid_area": null,
            "grid_template_columns": null,
            "flex": null,
            "_model_name": "LayoutModel",
            "justify_items": null,
            "grid_row": null,
            "max_height": null,
            "align_content": null,
            "visibility": null,
            "align_self": null,
            "height": null,
            "min_height": null,
            "padding": null,
            "grid_auto_rows": null,
            "grid_gap": null,
            "max_width": null,
            "order": null,
            "_view_module_version": "1.2.0",
            "grid_template_areas": null,
            "object_position": null,
            "object_fit": null,
            "grid_auto_columns": null,
            "margin": null,
            "display": null,
            "left": null
          }
        },
        "3f1f1617dc5e4bb289f47fba74a662d4": {
          "model_module": "@jupyter-widgets/controls",
          "model_name": "ProgressStyleModel",
          "model_module_version": "1.5.0",
          "state": {
            "_view_name": "StyleView",
            "_model_name": "ProgressStyleModel",
            "description_width": "",
            "_view_module": "@jupyter-widgets/base",
            "_model_module_version": "1.5.0",
            "_view_count": null,
            "_view_module_version": "1.2.0",
            "bar_color": null,
            "_model_module": "@jupyter-widgets/controls"
          }
        },
        "2ae1983dfdf54bc3af6201d24d9cc350": {
          "model_module": "@jupyter-widgets/base",
          "model_name": "LayoutModel",
          "model_module_version": "1.2.0",
          "state": {
            "_view_name": "LayoutView",
            "grid_template_rows": null,
            "right": null,
            "justify_content": null,
            "_view_module": "@jupyter-widgets/base",
            "overflow": null,
            "_model_module_version": "1.2.0",
            "_view_count": null,
            "flex_flow": null,
            "width": null,
            "min_width": null,
            "border": null,
            "align_items": null,
            "bottom": null,
            "_model_module": "@jupyter-widgets/base",
            "top": null,
            "grid_column": null,
            "overflow_y": null,
            "overflow_x": null,
            "grid_auto_flow": null,
            "grid_area": null,
            "grid_template_columns": null,
            "flex": null,
            "_model_name": "LayoutModel",
            "justify_items": null,
            "grid_row": null,
            "max_height": null,
            "align_content": null,
            "visibility": null,
            "align_self": null,
            "height": null,
            "min_height": null,
            "padding": null,
            "grid_auto_rows": null,
            "grid_gap": null,
            "max_width": null,
            "order": null,
            "_view_module_version": "1.2.0",
            "grid_template_areas": null,
            "object_position": null,
            "object_fit": null,
            "grid_auto_columns": null,
            "margin": null,
            "display": null,
            "left": null
          }
        },
        "ce954963ec5f49468e76821b3c34de69": {
          "model_module": "@jupyter-widgets/controls",
          "model_name": "DescriptionStyleModel",
          "model_module_version": "1.5.0",
          "state": {
            "_view_name": "StyleView",
            "_model_name": "DescriptionStyleModel",
            "description_width": "",
            "_view_module": "@jupyter-widgets/base",
            "_model_module_version": "1.5.0",
            "_view_count": null,
            "_view_module_version": "1.2.0",
            "_model_module": "@jupyter-widgets/controls"
          }
        },
        "0d233809d0cc4dc4a0f8d0e9a8611f32": {
          "model_module": "@jupyter-widgets/base",
          "model_name": "LayoutModel",
          "model_module_version": "1.2.0",
          "state": {
            "_view_name": "LayoutView",
            "grid_template_rows": null,
            "right": null,
            "justify_content": null,
            "_view_module": "@jupyter-widgets/base",
            "overflow": null,
            "_model_module_version": "1.2.0",
            "_view_count": null,
            "flex_flow": null,
            "width": null,
            "min_width": null,
            "border": null,
            "align_items": null,
            "bottom": null,
            "_model_module": "@jupyter-widgets/base",
            "top": null,
            "grid_column": null,
            "overflow_y": null,
            "overflow_x": null,
            "grid_auto_flow": null,
            "grid_area": null,
            "grid_template_columns": null,
            "flex": null,
            "_model_name": "LayoutModel",
            "justify_items": null,
            "grid_row": null,
            "max_height": null,
            "align_content": null,
            "visibility": null,
            "align_self": null,
            "height": null,
            "min_height": null,
            "padding": null,
            "grid_auto_rows": null,
            "grid_gap": null,
            "max_width": null,
            "order": null,
            "_view_module_version": "1.2.0",
            "grid_template_areas": null,
            "object_position": null,
            "object_fit": null,
            "grid_auto_columns": null,
            "margin": null,
            "display": null,
            "left": null
          }
        },
        "20bb6558a4d6495bb4d67c2293769c52": {
          "model_module": "@jupyter-widgets/controls",
          "model_name": "HBoxModel",
          "model_module_version": "1.5.0",
          "state": {
            "_view_name": "HBoxView",
            "_dom_classes": [],
            "_model_name": "HBoxModel",
            "_view_module": "@jupyter-widgets/controls",
            "_model_module_version": "1.5.0",
            "_view_count": null,
            "_view_module_version": "1.5.0",
            "box_style": "",
            "layout": "IPY_MODEL_7d030dc42e244b868959785e1321fa11",
            "_model_module": "@jupyter-widgets/controls",
            "children": [
              "IPY_MODEL_46dcc201bdfe4ea1bda68078cf615881",
              "IPY_MODEL_ac779ec84fb44e5bb246e7899f0b9f6a",
              "IPY_MODEL_5e627747d1ca4e68956e5eb6d29ee58d"
            ]
          }
        },
        "7d030dc42e244b868959785e1321fa11": {
          "model_module": "@jupyter-widgets/base",
          "model_name": "LayoutModel",
          "model_module_version": "1.2.0",
          "state": {
            "_view_name": "LayoutView",
            "grid_template_rows": null,
            "right": null,
            "justify_content": null,
            "_view_module": "@jupyter-widgets/base",
            "overflow": null,
            "_model_module_version": "1.2.0",
            "_view_count": null,
            "flex_flow": null,
            "width": null,
            "min_width": null,
            "border": null,
            "align_items": null,
            "bottom": null,
            "_model_module": "@jupyter-widgets/base",
            "top": null,
            "grid_column": null,
            "overflow_y": null,
            "overflow_x": null,
            "grid_auto_flow": null,
            "grid_area": null,
            "grid_template_columns": null,
            "flex": null,
            "_model_name": "LayoutModel",
            "justify_items": null,
            "grid_row": null,
            "max_height": null,
            "align_content": null,
            "visibility": null,
            "align_self": null,
            "height": null,
            "min_height": null,
            "padding": null,
            "grid_auto_rows": null,
            "grid_gap": null,
            "max_width": null,
            "order": null,
            "_view_module_version": "1.2.0",
            "grid_template_areas": null,
            "object_position": null,
            "object_fit": null,
            "grid_auto_columns": null,
            "margin": null,
            "display": null,
            "left": null
          }
        },
        "46dcc201bdfe4ea1bda68078cf615881": {
          "model_module": "@jupyter-widgets/controls",
          "model_name": "HTMLModel",
          "model_module_version": "1.5.0",
          "state": {
            "_view_name": "HTMLView",
            "style": "IPY_MODEL_78fe5b0a4e6544d5aa09f994cc72e305",
            "_dom_classes": [],
            "description": "",
            "_model_name": "HTMLModel",
            "placeholder": "​",
            "_view_module": "@jupyter-widgets/controls",
            "_model_module_version": "1.5.0",
            "value": "Downloading: 100%",
            "_view_count": null,
            "_view_module_version": "1.5.0",
            "description_tooltip": null,
            "_model_module": "@jupyter-widgets/controls",
            "layout": "IPY_MODEL_926a5c371e5c480890113a2445c240aa"
          }
        },
        "ac779ec84fb44e5bb246e7899f0b9f6a": {
          "model_module": "@jupyter-widgets/controls",
          "model_name": "FloatProgressModel",
          "model_module_version": "1.5.0",
          "state": {
            "_view_name": "ProgressView",
            "style": "IPY_MODEL_46f5c2bb31334bc9a4c63d715976b80f",
            "_dom_classes": [],
            "description": "",
            "_model_name": "FloatProgressModel",
            "bar_style": "success",
            "max": 29,
            "_view_module": "@jupyter-widgets/controls",
            "_model_module_version": "1.5.0",
            "value": 29,
            "_view_count": null,
            "_view_module_version": "1.5.0",
            "orientation": "horizontal",
            "min": 0,
            "description_tooltip": null,
            "_model_module": "@jupyter-widgets/controls",
            "layout": "IPY_MODEL_b4a4667f5ac1487f983ff760dff96462"
          }
        },
        "5e627747d1ca4e68956e5eb6d29ee58d": {
          "model_module": "@jupyter-widgets/controls",
          "model_name": "HTMLModel",
          "model_module_version": "1.5.0",
          "state": {
            "_view_name": "HTMLView",
            "style": "IPY_MODEL_57a928b9d2104786a2ae6a9d629e16fe",
            "_dom_classes": [],
            "description": "",
            "_model_name": "HTMLModel",
            "placeholder": "​",
            "_view_module": "@jupyter-widgets/controls",
            "_model_module_version": "1.5.0",
            "value": " 29.0/29.0 [00:00&lt;00:00, 490B/s]",
            "_view_count": null,
            "_view_module_version": "1.5.0",
            "description_tooltip": null,
            "_model_module": "@jupyter-widgets/controls",
            "layout": "IPY_MODEL_52f06cdbdc99423a93c2ec932b70ab49"
          }
        },
        "78fe5b0a4e6544d5aa09f994cc72e305": {
          "model_module": "@jupyter-widgets/controls",
          "model_name": "DescriptionStyleModel",
          "model_module_version": "1.5.0",
          "state": {
            "_view_name": "StyleView",
            "_model_name": "DescriptionStyleModel",
            "description_width": "",
            "_view_module": "@jupyter-widgets/base",
            "_model_module_version": "1.5.0",
            "_view_count": null,
            "_view_module_version": "1.2.0",
            "_model_module": "@jupyter-widgets/controls"
          }
        },
        "926a5c371e5c480890113a2445c240aa": {
          "model_module": "@jupyter-widgets/base",
          "model_name": "LayoutModel",
          "model_module_version": "1.2.0",
          "state": {
            "_view_name": "LayoutView",
            "grid_template_rows": null,
            "right": null,
            "justify_content": null,
            "_view_module": "@jupyter-widgets/base",
            "overflow": null,
            "_model_module_version": "1.2.0",
            "_view_count": null,
            "flex_flow": null,
            "width": null,
            "min_width": null,
            "border": null,
            "align_items": null,
            "bottom": null,
            "_model_module": "@jupyter-widgets/base",
            "top": null,
            "grid_column": null,
            "overflow_y": null,
            "overflow_x": null,
            "grid_auto_flow": null,
            "grid_area": null,
            "grid_template_columns": null,
            "flex": null,
            "_model_name": "LayoutModel",
            "justify_items": null,
            "grid_row": null,
            "max_height": null,
            "align_content": null,
            "visibility": null,
            "align_self": null,
            "height": null,
            "min_height": null,
            "padding": null,
            "grid_auto_rows": null,
            "grid_gap": null,
            "max_width": null,
            "order": null,
            "_view_module_version": "1.2.0",
            "grid_template_areas": null,
            "object_position": null,
            "object_fit": null,
            "grid_auto_columns": null,
            "margin": null,
            "display": null,
            "left": null
          }
        },
        "46f5c2bb31334bc9a4c63d715976b80f": {
          "model_module": "@jupyter-widgets/controls",
          "model_name": "ProgressStyleModel",
          "model_module_version": "1.5.0",
          "state": {
            "_view_name": "StyleView",
            "_model_name": "ProgressStyleModel",
            "description_width": "",
            "_view_module": "@jupyter-widgets/base",
            "_model_module_version": "1.5.0",
            "_view_count": null,
            "_view_module_version": "1.2.0",
            "bar_color": null,
            "_model_module": "@jupyter-widgets/controls"
          }
        },
        "b4a4667f5ac1487f983ff760dff96462": {
          "model_module": "@jupyter-widgets/base",
          "model_name": "LayoutModel",
          "model_module_version": "1.2.0",
          "state": {
            "_view_name": "LayoutView",
            "grid_template_rows": null,
            "right": null,
            "justify_content": null,
            "_view_module": "@jupyter-widgets/base",
            "overflow": null,
            "_model_module_version": "1.2.0",
            "_view_count": null,
            "flex_flow": null,
            "width": null,
            "min_width": null,
            "border": null,
            "align_items": null,
            "bottom": null,
            "_model_module": "@jupyter-widgets/base",
            "top": null,
            "grid_column": null,
            "overflow_y": null,
            "overflow_x": null,
            "grid_auto_flow": null,
            "grid_area": null,
            "grid_template_columns": null,
            "flex": null,
            "_model_name": "LayoutModel",
            "justify_items": null,
            "grid_row": null,
            "max_height": null,
            "align_content": null,
            "visibility": null,
            "align_self": null,
            "height": null,
            "min_height": null,
            "padding": null,
            "grid_auto_rows": null,
            "grid_gap": null,
            "max_width": null,
            "order": null,
            "_view_module_version": "1.2.0",
            "grid_template_areas": null,
            "object_position": null,
            "object_fit": null,
            "grid_auto_columns": null,
            "margin": null,
            "display": null,
            "left": null
          }
        },
        "57a928b9d2104786a2ae6a9d629e16fe": {
          "model_module": "@jupyter-widgets/controls",
          "model_name": "DescriptionStyleModel",
          "model_module_version": "1.5.0",
          "state": {
            "_view_name": "StyleView",
            "_model_name": "DescriptionStyleModel",
            "description_width": "",
            "_view_module": "@jupyter-widgets/base",
            "_model_module_version": "1.5.0",
            "_view_count": null,
            "_view_module_version": "1.2.0",
            "_model_module": "@jupyter-widgets/controls"
          }
        },
        "52f06cdbdc99423a93c2ec932b70ab49": {
          "model_module": "@jupyter-widgets/base",
          "model_name": "LayoutModel",
          "model_module_version": "1.2.0",
          "state": {
            "_view_name": "LayoutView",
            "grid_template_rows": null,
            "right": null,
            "justify_content": null,
            "_view_module": "@jupyter-widgets/base",
            "overflow": null,
            "_model_module_version": "1.2.0",
            "_view_count": null,
            "flex_flow": null,
            "width": null,
            "min_width": null,
            "border": null,
            "align_items": null,
            "bottom": null,
            "_model_module": "@jupyter-widgets/base",
            "top": null,
            "grid_column": null,
            "overflow_y": null,
            "overflow_x": null,
            "grid_auto_flow": null,
            "grid_area": null,
            "grid_template_columns": null,
            "flex": null,
            "_model_name": "LayoutModel",
            "justify_items": null,
            "grid_row": null,
            "max_height": null,
            "align_content": null,
            "visibility": null,
            "align_self": null,
            "height": null,
            "min_height": null,
            "padding": null,
            "grid_auto_rows": null,
            "grid_gap": null,
            "max_width": null,
            "order": null,
            "_view_module_version": "1.2.0",
            "grid_template_areas": null,
            "object_position": null,
            "object_fit": null,
            "grid_auto_columns": null,
            "margin": null,
            "display": null,
            "left": null
          }
        },
        "ab20d24e80aa4bcdbda40da1178d42cb": {
          "model_module": "@jupyter-widgets/controls",
          "model_name": "HBoxModel",
          "model_module_version": "1.5.0",
          "state": {
            "_view_name": "HBoxView",
            "_dom_classes": [],
            "_model_name": "HBoxModel",
            "_view_module": "@jupyter-widgets/controls",
            "_model_module_version": "1.5.0",
            "_view_count": null,
            "_view_module_version": "1.5.0",
            "box_style": "",
            "layout": "IPY_MODEL_c77a1927854e4a2587ee7853178d753b",
            "_model_module": "@jupyter-widgets/controls",
            "children": [
              "IPY_MODEL_b0acf6035c744adca74f606e7142516b",
              "IPY_MODEL_ee4404b377c746aaa6e22528a2624c4c",
              "IPY_MODEL_800ddfb3617946839e8585ceb9b61dbd"
            ]
          }
        },
        "c77a1927854e4a2587ee7853178d753b": {
          "model_module": "@jupyter-widgets/base",
          "model_name": "LayoutModel",
          "model_module_version": "1.2.0",
          "state": {
            "_view_name": "LayoutView",
            "grid_template_rows": null,
            "right": null,
            "justify_content": null,
            "_view_module": "@jupyter-widgets/base",
            "overflow": null,
            "_model_module_version": "1.2.0",
            "_view_count": null,
            "flex_flow": null,
            "width": null,
            "min_width": null,
            "border": null,
            "align_items": null,
            "bottom": null,
            "_model_module": "@jupyter-widgets/base",
            "top": null,
            "grid_column": null,
            "overflow_y": null,
            "overflow_x": null,
            "grid_auto_flow": null,
            "grid_area": null,
            "grid_template_columns": null,
            "flex": null,
            "_model_name": "LayoutModel",
            "justify_items": null,
            "grid_row": null,
            "max_height": null,
            "align_content": null,
            "visibility": null,
            "align_self": null,
            "height": null,
            "min_height": null,
            "padding": null,
            "grid_auto_rows": null,
            "grid_gap": null,
            "max_width": null,
            "order": null,
            "_view_module_version": "1.2.0",
            "grid_template_areas": null,
            "object_position": null,
            "object_fit": null,
            "grid_auto_columns": null,
            "margin": null,
            "display": null,
            "left": null
          }
        },
        "b0acf6035c744adca74f606e7142516b": {
          "model_module": "@jupyter-widgets/controls",
          "model_name": "HTMLModel",
          "model_module_version": "1.5.0",
          "state": {
            "_view_name": "HTMLView",
            "style": "IPY_MODEL_ceff594d0a024b5fbf5377c623176264",
            "_dom_classes": [],
            "description": "",
            "_model_name": "HTMLModel",
            "placeholder": "​",
            "_view_module": "@jupyter-widgets/controls",
            "_model_module_version": "1.5.0",
            "value": "Downloading: 100%",
            "_view_count": null,
            "_view_module_version": "1.5.0",
            "description_tooltip": null,
            "_model_module": "@jupyter-widgets/controls",
            "layout": "IPY_MODEL_c0959641b6bf42c7899279fe2dab5244"
          }
        },
        "ee4404b377c746aaa6e22528a2624c4c": {
          "model_module": "@jupyter-widgets/controls",
          "model_name": "FloatProgressModel",
          "model_module_version": "1.5.0",
          "state": {
            "_view_name": "ProgressView",
            "style": "IPY_MODEL_131ae99da8ab4560a2047b7815b38288",
            "_dom_classes": [],
            "description": "",
            "_model_name": "FloatProgressModel",
            "bar_style": "success",
            "max": 213450,
            "_view_module": "@jupyter-widgets/controls",
            "_model_module_version": "1.5.0",
            "value": 213450,
            "_view_count": null,
            "_view_module_version": "1.5.0",
            "orientation": "horizontal",
            "min": 0,
            "description_tooltip": null,
            "_model_module": "@jupyter-widgets/controls",
            "layout": "IPY_MODEL_343b264dd347484abbac5a76ad62bc77"
          }
        },
        "800ddfb3617946839e8585ceb9b61dbd": {
          "model_module": "@jupyter-widgets/controls",
          "model_name": "HTMLModel",
          "model_module_version": "1.5.0",
          "state": {
            "_view_name": "HTMLView",
            "style": "IPY_MODEL_aee81f82a41d4eb18e0a33c928da53bf",
            "_dom_classes": [],
            "description": "",
            "_model_name": "HTMLModel",
            "placeholder": "​",
            "_view_module": "@jupyter-widgets/controls",
            "_model_module_version": "1.5.0",
            "value": " 213k/213k [00:00&lt;00:00, 1.61MB/s]",
            "_view_count": null,
            "_view_module_version": "1.5.0",
            "description_tooltip": null,
            "_model_module": "@jupyter-widgets/controls",
            "layout": "IPY_MODEL_958929b8cde34230b50dc87f22f75a55"
          }
        },
        "ceff594d0a024b5fbf5377c623176264": {
          "model_module": "@jupyter-widgets/controls",
          "model_name": "DescriptionStyleModel",
          "model_module_version": "1.5.0",
          "state": {
            "_view_name": "StyleView",
            "_model_name": "DescriptionStyleModel",
            "description_width": "",
            "_view_module": "@jupyter-widgets/base",
            "_model_module_version": "1.5.0",
            "_view_count": null,
            "_view_module_version": "1.2.0",
            "_model_module": "@jupyter-widgets/controls"
          }
        },
        "c0959641b6bf42c7899279fe2dab5244": {
          "model_module": "@jupyter-widgets/base",
          "model_name": "LayoutModel",
          "model_module_version": "1.2.0",
          "state": {
            "_view_name": "LayoutView",
            "grid_template_rows": null,
            "right": null,
            "justify_content": null,
            "_view_module": "@jupyter-widgets/base",
            "overflow": null,
            "_model_module_version": "1.2.0",
            "_view_count": null,
            "flex_flow": null,
            "width": null,
            "min_width": null,
            "border": null,
            "align_items": null,
            "bottom": null,
            "_model_module": "@jupyter-widgets/base",
            "top": null,
            "grid_column": null,
            "overflow_y": null,
            "overflow_x": null,
            "grid_auto_flow": null,
            "grid_area": null,
            "grid_template_columns": null,
            "flex": null,
            "_model_name": "LayoutModel",
            "justify_items": null,
            "grid_row": null,
            "max_height": null,
            "align_content": null,
            "visibility": null,
            "align_self": null,
            "height": null,
            "min_height": null,
            "padding": null,
            "grid_auto_rows": null,
            "grid_gap": null,
            "max_width": null,
            "order": null,
            "_view_module_version": "1.2.0",
            "grid_template_areas": null,
            "object_position": null,
            "object_fit": null,
            "grid_auto_columns": null,
            "margin": null,
            "display": null,
            "left": null
          }
        },
        "131ae99da8ab4560a2047b7815b38288": {
          "model_module": "@jupyter-widgets/controls",
          "model_name": "ProgressStyleModel",
          "model_module_version": "1.5.0",
          "state": {
            "_view_name": "StyleView",
            "_model_name": "ProgressStyleModel",
            "description_width": "",
            "_view_module": "@jupyter-widgets/base",
            "_model_module_version": "1.5.0",
            "_view_count": null,
            "_view_module_version": "1.2.0",
            "bar_color": null,
            "_model_module": "@jupyter-widgets/controls"
          }
        },
        "343b264dd347484abbac5a76ad62bc77": {
          "model_module": "@jupyter-widgets/base",
          "model_name": "LayoutModel",
          "model_module_version": "1.2.0",
          "state": {
            "_view_name": "LayoutView",
            "grid_template_rows": null,
            "right": null,
            "justify_content": null,
            "_view_module": "@jupyter-widgets/base",
            "overflow": null,
            "_model_module_version": "1.2.0",
            "_view_count": null,
            "flex_flow": null,
            "width": null,
            "min_width": null,
            "border": null,
            "align_items": null,
            "bottom": null,
            "_model_module": "@jupyter-widgets/base",
            "top": null,
            "grid_column": null,
            "overflow_y": null,
            "overflow_x": null,
            "grid_auto_flow": null,
            "grid_area": null,
            "grid_template_columns": null,
            "flex": null,
            "_model_name": "LayoutModel",
            "justify_items": null,
            "grid_row": null,
            "max_height": null,
            "align_content": null,
            "visibility": null,
            "align_self": null,
            "height": null,
            "min_height": null,
            "padding": null,
            "grid_auto_rows": null,
            "grid_gap": null,
            "max_width": null,
            "order": null,
            "_view_module_version": "1.2.0",
            "grid_template_areas": null,
            "object_position": null,
            "object_fit": null,
            "grid_auto_columns": null,
            "margin": null,
            "display": null,
            "left": null
          }
        },
        "aee81f82a41d4eb18e0a33c928da53bf": {
          "model_module": "@jupyter-widgets/controls",
          "model_name": "DescriptionStyleModel",
          "model_module_version": "1.5.0",
          "state": {
            "_view_name": "StyleView",
            "_model_name": "DescriptionStyleModel",
            "description_width": "",
            "_view_module": "@jupyter-widgets/base",
            "_model_module_version": "1.5.0",
            "_view_count": null,
            "_view_module_version": "1.2.0",
            "_model_module": "@jupyter-widgets/controls"
          }
        },
        "958929b8cde34230b50dc87f22f75a55": {
          "model_module": "@jupyter-widgets/base",
          "model_name": "LayoutModel",
          "model_module_version": "1.2.0",
          "state": {
            "_view_name": "LayoutView",
            "grid_template_rows": null,
            "right": null,
            "justify_content": null,
            "_view_module": "@jupyter-widgets/base",
            "overflow": null,
            "_model_module_version": "1.2.0",
            "_view_count": null,
            "flex_flow": null,
            "width": null,
            "min_width": null,
            "border": null,
            "align_items": null,
            "bottom": null,
            "_model_module": "@jupyter-widgets/base",
            "top": null,
            "grid_column": null,
            "overflow_y": null,
            "overflow_x": null,
            "grid_auto_flow": null,
            "grid_area": null,
            "grid_template_columns": null,
            "flex": null,
            "_model_name": "LayoutModel",
            "justify_items": null,
            "grid_row": null,
            "max_height": null,
            "align_content": null,
            "visibility": null,
            "align_self": null,
            "height": null,
            "min_height": null,
            "padding": null,
            "grid_auto_rows": null,
            "grid_gap": null,
            "max_width": null,
            "order": null,
            "_view_module_version": "1.2.0",
            "grid_template_areas": null,
            "object_position": null,
            "object_fit": null,
            "grid_auto_columns": null,
            "margin": null,
            "display": null,
            "left": null
          }
        },
        "12c881be72d8448297faf35a18c0d469": {
          "model_module": "@jupyter-widgets/controls",
          "model_name": "HBoxModel",
          "model_module_version": "1.5.0",
          "state": {
            "_view_name": "HBoxView",
            "_dom_classes": [],
            "_model_name": "HBoxModel",
            "_view_module": "@jupyter-widgets/controls",
            "_model_module_version": "1.5.0",
            "_view_count": null,
            "_view_module_version": "1.5.0",
            "box_style": "",
            "layout": "IPY_MODEL_db4e5e50b3b84e1196179b8f2087a413",
            "_model_module": "@jupyter-widgets/controls",
            "children": [
              "IPY_MODEL_0b37a1f6be9c4c7584da743533d07626",
              "IPY_MODEL_72ec8837137b402aab672e36aad7fa08",
              "IPY_MODEL_efb50c64fb844d69adfec53110c039f0"
            ]
          }
        },
        "db4e5e50b3b84e1196179b8f2087a413": {
          "model_module": "@jupyter-widgets/base",
          "model_name": "LayoutModel",
          "model_module_version": "1.2.0",
          "state": {
            "_view_name": "LayoutView",
            "grid_template_rows": null,
            "right": null,
            "justify_content": null,
            "_view_module": "@jupyter-widgets/base",
            "overflow": null,
            "_model_module_version": "1.2.0",
            "_view_count": null,
            "flex_flow": null,
            "width": null,
            "min_width": null,
            "border": null,
            "align_items": null,
            "bottom": null,
            "_model_module": "@jupyter-widgets/base",
            "top": null,
            "grid_column": null,
            "overflow_y": null,
            "overflow_x": null,
            "grid_auto_flow": null,
            "grid_area": null,
            "grid_template_columns": null,
            "flex": null,
            "_model_name": "LayoutModel",
            "justify_items": null,
            "grid_row": null,
            "max_height": null,
            "align_content": null,
            "visibility": null,
            "align_self": null,
            "height": null,
            "min_height": null,
            "padding": null,
            "grid_auto_rows": null,
            "grid_gap": null,
            "max_width": null,
            "order": null,
            "_view_module_version": "1.2.0",
            "grid_template_areas": null,
            "object_position": null,
            "object_fit": null,
            "grid_auto_columns": null,
            "margin": null,
            "display": null,
            "left": null
          }
        },
        "0b37a1f6be9c4c7584da743533d07626": {
          "model_module": "@jupyter-widgets/controls",
          "model_name": "HTMLModel",
          "model_module_version": "1.5.0",
          "state": {
            "_view_name": "HTMLView",
            "style": "IPY_MODEL_e26ba6903ebe45d4a613d1969733b5cc",
            "_dom_classes": [],
            "description": "",
            "_model_name": "HTMLModel",
            "placeholder": "​",
            "_view_module": "@jupyter-widgets/controls",
            "_model_module_version": "1.5.0",
            "value": "Downloading: 100%",
            "_view_count": null,
            "_view_module_version": "1.5.0",
            "description_tooltip": null,
            "_model_module": "@jupyter-widgets/controls",
            "layout": "IPY_MODEL_d0f6562cb3894954abe2623a0ba1772f"
          }
        },
        "72ec8837137b402aab672e36aad7fa08": {
          "model_module": "@jupyter-widgets/controls",
          "model_name": "FloatProgressModel",
          "model_module_version": "1.5.0",
          "state": {
            "_view_name": "ProgressView",
            "style": "IPY_MODEL_986a7866da3a4f26a49084834f11372e",
            "_dom_classes": [],
            "description": "",
            "_model_name": "FloatProgressModel",
            "bar_style": "success",
            "max": 435797,
            "_view_module": "@jupyter-widgets/controls",
            "_model_module_version": "1.5.0",
            "value": 435797,
            "_view_count": null,
            "_view_module_version": "1.5.0",
            "orientation": "horizontal",
            "min": 0,
            "description_tooltip": null,
            "_model_module": "@jupyter-widgets/controls",
            "layout": "IPY_MODEL_39d54c7f6ea44c24ad20fcb11e5e55f2"
          }
        },
        "efb50c64fb844d69adfec53110c039f0": {
          "model_module": "@jupyter-widgets/controls",
          "model_name": "HTMLModel",
          "model_module_version": "1.5.0",
          "state": {
            "_view_name": "HTMLView",
            "style": "IPY_MODEL_6b6ec450a8f1448cb0f97d5784170720",
            "_dom_classes": [],
            "description": "",
            "_model_name": "HTMLModel",
            "placeholder": "​",
            "_view_module": "@jupyter-widgets/controls",
            "_model_module_version": "1.5.0",
            "value": " 436k/436k [00:00&lt;00:00, 1.55MB/s]",
            "_view_count": null,
            "_view_module_version": "1.5.0",
            "description_tooltip": null,
            "_model_module": "@jupyter-widgets/controls",
            "layout": "IPY_MODEL_490d34756f6343668a8da3a47eebaa79"
          }
        },
        "e26ba6903ebe45d4a613d1969733b5cc": {
          "model_module": "@jupyter-widgets/controls",
          "model_name": "DescriptionStyleModel",
          "model_module_version": "1.5.0",
          "state": {
            "_view_name": "StyleView",
            "_model_name": "DescriptionStyleModel",
            "description_width": "",
            "_view_module": "@jupyter-widgets/base",
            "_model_module_version": "1.5.0",
            "_view_count": null,
            "_view_module_version": "1.2.0",
            "_model_module": "@jupyter-widgets/controls"
          }
        },
        "d0f6562cb3894954abe2623a0ba1772f": {
          "model_module": "@jupyter-widgets/base",
          "model_name": "LayoutModel",
          "model_module_version": "1.2.0",
          "state": {
            "_view_name": "LayoutView",
            "grid_template_rows": null,
            "right": null,
            "justify_content": null,
            "_view_module": "@jupyter-widgets/base",
            "overflow": null,
            "_model_module_version": "1.2.0",
            "_view_count": null,
            "flex_flow": null,
            "width": null,
            "min_width": null,
            "border": null,
            "align_items": null,
            "bottom": null,
            "_model_module": "@jupyter-widgets/base",
            "top": null,
            "grid_column": null,
            "overflow_y": null,
            "overflow_x": null,
            "grid_auto_flow": null,
            "grid_area": null,
            "grid_template_columns": null,
            "flex": null,
            "_model_name": "LayoutModel",
            "justify_items": null,
            "grid_row": null,
            "max_height": null,
            "align_content": null,
            "visibility": null,
            "align_self": null,
            "height": null,
            "min_height": null,
            "padding": null,
            "grid_auto_rows": null,
            "grid_gap": null,
            "max_width": null,
            "order": null,
            "_view_module_version": "1.2.0",
            "grid_template_areas": null,
            "object_position": null,
            "object_fit": null,
            "grid_auto_columns": null,
            "margin": null,
            "display": null,
            "left": null
          }
        },
        "986a7866da3a4f26a49084834f11372e": {
          "model_module": "@jupyter-widgets/controls",
          "model_name": "ProgressStyleModel",
          "model_module_version": "1.5.0",
          "state": {
            "_view_name": "StyleView",
            "_model_name": "ProgressStyleModel",
            "description_width": "",
            "_view_module": "@jupyter-widgets/base",
            "_model_module_version": "1.5.0",
            "_view_count": null,
            "_view_module_version": "1.2.0",
            "bar_color": null,
            "_model_module": "@jupyter-widgets/controls"
          }
        },
        "39d54c7f6ea44c24ad20fcb11e5e55f2": {
          "model_module": "@jupyter-widgets/base",
          "model_name": "LayoutModel",
          "model_module_version": "1.2.0",
          "state": {
            "_view_name": "LayoutView",
            "grid_template_rows": null,
            "right": null,
            "justify_content": null,
            "_view_module": "@jupyter-widgets/base",
            "overflow": null,
            "_model_module_version": "1.2.0",
            "_view_count": null,
            "flex_flow": null,
            "width": null,
            "min_width": null,
            "border": null,
            "align_items": null,
            "bottom": null,
            "_model_module": "@jupyter-widgets/base",
            "top": null,
            "grid_column": null,
            "overflow_y": null,
            "overflow_x": null,
            "grid_auto_flow": null,
            "grid_area": null,
            "grid_template_columns": null,
            "flex": null,
            "_model_name": "LayoutModel",
            "justify_items": null,
            "grid_row": null,
            "max_height": null,
            "align_content": null,
            "visibility": null,
            "align_self": null,
            "height": null,
            "min_height": null,
            "padding": null,
            "grid_auto_rows": null,
            "grid_gap": null,
            "max_width": null,
            "order": null,
            "_view_module_version": "1.2.0",
            "grid_template_areas": null,
            "object_position": null,
            "object_fit": null,
            "grid_auto_columns": null,
            "margin": null,
            "display": null,
            "left": null
          }
        },
        "6b6ec450a8f1448cb0f97d5784170720": {
          "model_module": "@jupyter-widgets/controls",
          "model_name": "DescriptionStyleModel",
          "model_module_version": "1.5.0",
          "state": {
            "_view_name": "StyleView",
            "_model_name": "DescriptionStyleModel",
            "description_width": "",
            "_view_module": "@jupyter-widgets/base",
            "_model_module_version": "1.5.0",
            "_view_count": null,
            "_view_module_version": "1.2.0",
            "_model_module": "@jupyter-widgets/controls"
          }
        },
        "490d34756f6343668a8da3a47eebaa79": {
          "model_module": "@jupyter-widgets/base",
          "model_name": "LayoutModel",
          "model_module_version": "1.2.0",
          "state": {
            "_view_name": "LayoutView",
            "grid_template_rows": null,
            "right": null,
            "justify_content": null,
            "_view_module": "@jupyter-widgets/base",
            "overflow": null,
            "_model_module_version": "1.2.0",
            "_view_count": null,
            "flex_flow": null,
            "width": null,
            "min_width": null,
            "border": null,
            "align_items": null,
            "bottom": null,
            "_model_module": "@jupyter-widgets/base",
            "top": null,
            "grid_column": null,
            "overflow_y": null,
            "overflow_x": null,
            "grid_auto_flow": null,
            "grid_area": null,
            "grid_template_columns": null,
            "flex": null,
            "_model_name": "LayoutModel",
            "justify_items": null,
            "grid_row": null,
            "max_height": null,
            "align_content": null,
            "visibility": null,
            "align_self": null,
            "height": null,
            "min_height": null,
            "padding": null,
            "grid_auto_rows": null,
            "grid_gap": null,
            "max_width": null,
            "order": null,
            "_view_module_version": "1.2.0",
            "grid_template_areas": null,
            "object_position": null,
            "object_fit": null,
            "grid_auto_columns": null,
            "margin": null,
            "display": null,
            "left": null
          }
        }
      }
    }
  },
  "cells": [
    {
      "cell_type": "code",
      "metadata": {
        "id": "hZbJ_9kpA9Ho"
      },
      "source": [
        "import os\n",
        "import math\n",
        "import cv2\n",
        "import numpy as np\n",
        "import pandas as pd\n",
        "from imutils import paths\n",
        "import matplotlib.pyplot as plt\n",
        "import seaborn as sns\n",
        "\n",
        "from IPython.display import clear_output"
      ],
      "execution_count": null,
      "outputs": []
    },
    {
      "cell_type": "code",
      "metadata": {
        "id": "hYLu6oI5BRyP"
      },
      "source": [
        "def download_from_gdrive(file_id, file_name):\n",
        "  !wget --load-cookies /tmp/cookies.txt \"https://docs.google.com/uc?export=download&confirm=$(wget \\\n",
        "  --quiet --save-cookies /tmp/cookies.txt --keep-session-cookies --no-check-certificate \\\n",
        "  'https://docs.google.com/uc?export=download&id=$file_id' -O- | \\\n",
        "  sed -rn 's/.*confirm=([0-9A-Za-z_]+).*/\\1\\n/p')&id=$file_id\" \\\n",
        "  -O $file_name && rm -rf /tmp/cookies.txt\n",
        "  clear_output(wait=True)\n",
        "\n",
        "  print(\"{} downloaded!\".format(file_name))"
      ],
      "execution_count": null,
      "outputs": []
    },
    {
      "cell_type": "code",
      "metadata": {
        "colab": {
          "base_uri": "https://localhost:8080/"
        },
        "id": "2a3bk1cNBTPM",
        "outputId": "167f4d82-c891-4a30-f511-670263c7ecb2"
      },
      "source": [
        "# download dogs_data.zip file from google drive\n",
        "download_from_gdrive(\"1RnjRqFo_36KGjzTbB_a9qL3SdglQPPnN\", \"dogs_data.zip\")\n",
        "\n",
        "# download dogs.zip file from google drive\n",
        "# download_from_gdrive(\"1sM5Qm_ouTcvmLBf-GM2AJgwPAoGvXhhZ\", \"dogs.zip\")\n",
        "\n",
        "# download dog_website_memos file\n",
        "download_from_gdrive(\"1QF_xiqjT424KClAHYHpiJAFZPJx7sDOU\", \"dog_website_memos.csv\")\n"
      ],
      "execution_count": null,
      "outputs": [
        {
          "output_type": "stream",
          "name": "stdout",
          "text": [
            "dog_website_memos.csv downloaded!\n"
          ]
        }
      ]
    },
    {
      "cell_type": "code",
      "metadata": {
        "id": "aUFb4m9_BZSt"
      },
      "source": [
        "!unzip -qq dogs_data.zip"
      ],
      "execution_count": null,
      "outputs": []
    },
    {
      "cell_type": "code",
      "metadata": {
        "colab": {
          "base_uri": "https://localhost:8080/"
        },
        "id": "PdJGZGylC5-z",
        "outputId": "0d00f8e8-c805-4fb6-c9be-c3dcdf6ee43a"
      },
      "source": [
        "!cat /content/dog_data/data_dictionary.txt"
      ],
      "execution_count": null,
      "outputs": [
        {
          "output_type": "stream",
          "name": "stdout",
          "text": [
            "dogs.csv - one row for every dog taken into custody since 1/1/2017.\n",
            "-fields:\n",
            "—-\"AnimalID\" - public facing unique id\n",
            "--\"AnimalInternal-ID\" - internal unique id - USE THIS to link to the other tables (dogs_photos.csv and dogs_website_memos.csv)\n",
            "--\"AnimalName\" \n",
            "--\"AnimalType\" - always \"Dog\"\n",
            "--\"AnimalSex\" - Male, Female or Unknown\n",
            "--\"AnimalCurrentWeightPounds\" - decimal weight in pounds. NOTE: data quality of this field is mediocre at best. Staff are good about recording at least one weight around the time of intake but not as diligent about recording a weight prior to outcome.\n",
            "--\"AnimalDOB\" -  DOB formatted as YYYYMMDD\n",
            "--\"AnimalBreed\" - concatenation of primary and secondary breed fields delimited by \" /\". \n",
            "--\"AnimalColor\" - concatenation of primary and secondary colors fields delimited by \" /\". \n",
            "--\"AnimalPattern\" - animal pattern NOTE: not often populated for dogs. More often used for cats\n",
            "\n",
            "\n",
            "dogs_photos.csv - one row for every photo uploaded to a dogs profile.\n",
            "-fields:\n",
            "--\"AnimalInternal-ID\" - internal unique id for dog. USE THIS to link to dogs.csv\n",
            "--\"PhotoUrl\" - URL to photo\n",
            "\n",
            "dogs_website_memos.csv - one row for every website bio\n",
            "-fields:\n",
            "--\"AnimalInternal-ID\" - internal unique id for dog. USE THIS to link to dogs.csv\n",
            "--\"MemoText\" - contains public bio text that displays for each animal on their adoption page."
          ]
        }
      ]
    },
    {
      "cell_type": "code",
      "metadata": {
        "colab": {
          "base_uri": "https://localhost:8080/",
          "height": 563
        },
        "id": "aUY2y9jmC8dE",
        "outputId": "7287cc0c-889f-4df1-9d91-afd5ac8490b5"
      },
      "source": [
        "dogs = pd.read_csv('/content/dog_data/dogs.csv')\n",
        "dogs.head(100)"
      ],
      "execution_count": null,
      "outputs": [
        {
          "output_type": "execute_result",
          "data": {
            "text/html": [
              "<div>\n",
              "<style scoped>\n",
              "    .dataframe tbody tr th:only-of-type {\n",
              "        vertical-align: middle;\n",
              "    }\n",
              "\n",
              "    .dataframe tbody tr th {\n",
              "        vertical-align: top;\n",
              "    }\n",
              "\n",
              "    .dataframe thead th {\n",
              "        text-align: right;\n",
              "    }\n",
              "</style>\n",
              "<table border=\"1\" class=\"dataframe\">\n",
              "  <thead>\n",
              "    <tr style=\"text-align: right;\">\n",
              "      <th></th>\n",
              "      <th>AnimalID</th>\n",
              "      <th>AnimalInternal-ID</th>\n",
              "      <th>AnimalName</th>\n",
              "      <th>AnimalType</th>\n",
              "      <th>AnimalSex</th>\n",
              "      <th>AnimalCurrentWeightPounds</th>\n",
              "      <th>AnimalDOB</th>\n",
              "      <th>AnimalBreed</th>\n",
              "      <th>AnimalColor</th>\n",
              "      <th>AnimalPattern</th>\n",
              "    </tr>\n",
              "  </thead>\n",
              "  <tbody>\n",
              "    <tr>\n",
              "      <th>0</th>\n",
              "      <td>45628</td>\n",
              "      <td>1444011</td>\n",
              "      <td>Emma</td>\n",
              "      <td>Dog</td>\n",
              "      <td>Female</td>\n",
              "      <td>53.3</td>\n",
              "      <td>20150306</td>\n",
              "      <td>Retriever, Yellow Labrador /Mix</td>\n",
              "      <td>Blond /None</td>\n",
              "      <td>NaN</td>\n",
              "    </tr>\n",
              "    <tr>\n",
              "      <th>1</th>\n",
              "      <td>45629</td>\n",
              "      <td>1444014</td>\n",
              "      <td>Rizzoli</td>\n",
              "      <td>Dog</td>\n",
              "      <td>Female</td>\n",
              "      <td>4.7</td>\n",
              "      <td>20161222</td>\n",
              "      <td>Mixed Breed (Small)</td>\n",
              "      <td>Tan /None</td>\n",
              "      <td>NaN</td>\n",
              "    </tr>\n",
              "    <tr>\n",
              "      <th>2</th>\n",
              "      <td>45630</td>\n",
              "      <td>1444017</td>\n",
              "      <td>Isles</td>\n",
              "      <td>Dog</td>\n",
              "      <td>Female</td>\n",
              "      <td>3.1</td>\n",
              "      <td>20161222</td>\n",
              "      <td>Mixed Breed (Small)</td>\n",
              "      <td>White /None</td>\n",
              "      <td>NaN</td>\n",
              "    </tr>\n",
              "    <tr>\n",
              "      <th>3</th>\n",
              "      <td>45631</td>\n",
              "      <td>1444020</td>\n",
              "      <td>Cory</td>\n",
              "      <td>Dog</td>\n",
              "      <td>Male</td>\n",
              "      <td>4.7</td>\n",
              "      <td>20161222</td>\n",
              "      <td>Mixed Breed (Small)</td>\n",
              "      <td>Sable /None</td>\n",
              "      <td>NaN</td>\n",
              "    </tr>\n",
              "    <tr>\n",
              "      <th>4</th>\n",
              "      <td>45632</td>\n",
              "      <td>1444023</td>\n",
              "      <td>Topanga</td>\n",
              "      <td>Dog</td>\n",
              "      <td>Female</td>\n",
              "      <td>8.0</td>\n",
              "      <td>20161222</td>\n",
              "      <td>Mixed Breed (Small)</td>\n",
              "      <td>Tan /None</td>\n",
              "      <td>NaN</td>\n",
              "    </tr>\n",
              "    <tr>\n",
              "      <th>...</th>\n",
              "      <td>...</td>\n",
              "      <td>...</td>\n",
              "      <td>...</td>\n",
              "      <td>...</td>\n",
              "      <td>...</td>\n",
              "      <td>...</td>\n",
              "      <td>...</td>\n",
              "      <td>...</td>\n",
              "      <td>...</td>\n",
              "      <td>...</td>\n",
              "    </tr>\n",
              "    <tr>\n",
              "      <th>95</th>\n",
              "      <td>45846</td>\n",
              "      <td>1473990</td>\n",
              "      <td>Right</td>\n",
              "      <td>Dog</td>\n",
              "      <td>Male</td>\n",
              "      <td>30.0</td>\n",
              "      <td>20161117</td>\n",
              "      <td>Terrier, Pit Bull</td>\n",
              "      <td>Tan/None</td>\n",
              "      <td>NaN</td>\n",
              "    </tr>\n",
              "    <tr>\n",
              "      <th>96</th>\n",
              "      <td>45847</td>\n",
              "      <td>1473992</td>\n",
              "      <td>Lockhart 7</td>\n",
              "      <td>Dog</td>\n",
              "      <td>Female</td>\n",
              "      <td>4.6</td>\n",
              "      <td>20161117</td>\n",
              "      <td>Terrier, Pit Bull</td>\n",
              "      <td>Tan /None</td>\n",
              "      <td>NaN</td>\n",
              "    </tr>\n",
              "    <tr>\n",
              "      <th>97</th>\n",
              "      <td>45848</td>\n",
              "      <td>1474007</td>\n",
              "      <td>Hamilton</td>\n",
              "      <td>Dog</td>\n",
              "      <td>Male</td>\n",
              "      <td>74.7</td>\n",
              "      <td>20151208</td>\n",
              "      <td>Shepherd, German</td>\n",
              "      <td>Sable /Black</td>\n",
              "      <td>NaN</td>\n",
              "    </tr>\n",
              "    <tr>\n",
              "      <th>98</th>\n",
              "      <td>45849</td>\n",
              "      <td>1474197</td>\n",
              "      <td>Ruby Rose</td>\n",
              "      <td>Dog</td>\n",
              "      <td>Female</td>\n",
              "      <td>19.5</td>\n",
              "      <td>20161030</td>\n",
              "      <td>Pointer</td>\n",
              "      <td>White /Black</td>\n",
              "      <td>NaN</td>\n",
              "    </tr>\n",
              "    <tr>\n",
              "      <th>99</th>\n",
              "      <td>45854</td>\n",
              "      <td>1474526</td>\n",
              "      <td>Abby</td>\n",
              "      <td>Dog</td>\n",
              "      <td>Female</td>\n",
              "      <td>43.6</td>\n",
              "      <td>20130113</td>\n",
              "      <td>Collie, Border</td>\n",
              "      <td>Black /White</td>\n",
              "      <td>NaN</td>\n",
              "    </tr>\n",
              "  </tbody>\n",
              "</table>\n",
              "<p>100 rows × 10 columns</p>\n",
              "</div>"
            ],
            "text/plain": [
              "    AnimalID  AnimalInternal-ID  ...   AnimalColor AnimalPattern\n",
              "0      45628            1444011  ...   Blond /None           NaN\n",
              "1      45629            1444014  ...     Tan /None           NaN\n",
              "2      45630            1444017  ...   White /None           NaN\n",
              "3      45631            1444020  ...   Sable /None           NaN\n",
              "4      45632            1444023  ...     Tan /None           NaN\n",
              "..       ...                ...  ...           ...           ...\n",
              "95     45846            1473990  ...      Tan/None           NaN\n",
              "96     45847            1473992  ...     Tan /None           NaN\n",
              "97     45848            1474007  ...  Sable /Black           NaN\n",
              "98     45849            1474197  ...  White /Black           NaN\n",
              "99     45854            1474526  ...  Black /White           NaN\n",
              "\n",
              "[100 rows x 10 columns]"
            ]
          },
          "metadata": {},
          "execution_count": 6
        }
      ]
    },
    {
      "cell_type": "code",
      "metadata": {
        "colab": {
          "base_uri": "https://localhost:8080/"
        },
        "id": "HRsNFN91Dsnm",
        "outputId": "7bbffd1f-9bf2-49f8-d662-4647321ae38b"
      },
      "source": [
        "dogs.isnull().sum()"
      ],
      "execution_count": null,
      "outputs": [
        {
          "output_type": "execute_result",
          "data": {
            "text/plain": [
              "AnimalID                         0\n",
              "AnimalInternal-ID                0\n",
              "AnimalName                       0\n",
              "AnimalType                       0\n",
              "AnimalSex                       50\n",
              "AnimalCurrentWeightPounds        0\n",
              "AnimalDOB                        0\n",
              "AnimalBreed                     29\n",
              "AnimalColor                     42\n",
              "AnimalPattern                16062\n",
              "dtype: int64"
            ]
          },
          "metadata": {},
          "execution_count": 7
        }
      ]
    },
    {
      "cell_type": "code",
      "metadata": {
        "colab": {
          "base_uri": "https://localhost:8080/",
          "height": 319
        },
        "id": "lp7wcnYfQZ4L",
        "outputId": "3a42f1e1-fe13-4ad9-bc34-27fe92cd2e3f"
      },
      "source": [
        "weightThreshold = 200\n",
        "currYear = 2021\n",
        "\n",
        "def preprocess_color(s):\n",
        "  lst = s.split('/')\n",
        "  res = \"\"\n",
        "  if lst[0]==\"\" or lst[0].strip()==\"0\":\n",
        "    if (len(lst) > 1):\n",
        "      res = lst[1].strip()\n",
        "    else:\n",
        "      res = \"Unknown\"\n",
        "  res = lst[0].strip()\n",
        "  if res==\"None\" or res==\"\" or res==\"0\":\n",
        "    res = \"Unknown\"\n",
        "  return res\n",
        "\n",
        "dogs_new = dogs.copy()\n",
        "dogs_new.drop([\"AnimalPattern\", \"AnimalType\"], axis=1, inplace=True)\n",
        "dogs_new.dropna(inplace=True)\n",
        "dogs_new = dogs_new[dogs_new['AnimalSex'] != \"Unknown\"]\n",
        "dogs_new = dogs_new[dogs['AnimalCurrentWeightPounds'] < weightThreshold]\n",
        "dogs_new[\"Age\"] = currYear - dogs.AnimalDOB.astype(str).apply(lambda x : int(x[:4]))\n",
        "dogs_new[\"Breed\"] = dogs_new.AnimalBreed.apply(lambda x : x.split('/')[0].split(',')[0])\n",
        "dogs_new[\"isMixed\"] = dogs_new.AnimalBreed.str.contains('Mix')\n",
        "dogs_new[\"Color\"] = dogs_new.AnimalColor.apply(preprocess_color)\n",
        "dogs_new.drop(\"AnimalDOB \tAnimalBreed \tAnimalColor\".split(), axis=1, inplace=True)\n",
        "dogs_new.describe()"
      ],
      "execution_count": null,
      "outputs": [
        {
          "output_type": "stream",
          "name": "stderr",
          "text": [
            "/usr/local/lib/python3.7/dist-packages/ipykernel_launcher.py:21: UserWarning: Boolean Series key will be reindexed to match DataFrame index.\n"
          ]
        },
        {
          "output_type": "execute_result",
          "data": {
            "text/html": [
              "<div>\n",
              "<style scoped>\n",
              "    .dataframe tbody tr th:only-of-type {\n",
              "        vertical-align: middle;\n",
              "    }\n",
              "\n",
              "    .dataframe tbody tr th {\n",
              "        vertical-align: top;\n",
              "    }\n",
              "\n",
              "    .dataframe thead th {\n",
              "        text-align: right;\n",
              "    }\n",
              "</style>\n",
              "<table border=\"1\" class=\"dataframe\">\n",
              "  <thead>\n",
              "    <tr style=\"text-align: right;\">\n",
              "      <th></th>\n",
              "      <th>AnimalID</th>\n",
              "      <th>AnimalInternal-ID</th>\n",
              "      <th>AnimalCurrentWeightPounds</th>\n",
              "      <th>Age</th>\n",
              "    </tr>\n",
              "  </thead>\n",
              "  <tbody>\n",
              "    <tr>\n",
              "      <th>count</th>\n",
              "      <td>16885.000000</td>\n",
              "      <td>1.688500e+04</td>\n",
              "      <td>16885.000000</td>\n",
              "      <td>16885.000000</td>\n",
              "    </tr>\n",
              "    <tr>\n",
              "      <th>mean</th>\n",
              "      <td>67738.477228</td>\n",
              "      <td>1.181844e+07</td>\n",
              "      <td>26.029870</td>\n",
              "      <td>4.131122</td>\n",
              "    </tr>\n",
              "    <tr>\n",
              "      <th>std</th>\n",
              "      <td>13467.907920</td>\n",
              "      <td>8.905617e+06</td>\n",
              "      <td>23.381409</td>\n",
              "      <td>2.714432</td>\n",
              "    </tr>\n",
              "    <tr>\n",
              "      <th>min</th>\n",
              "      <td>45628.000000</td>\n",
              "      <td>1.444011e+06</td>\n",
              "      <td>0.000000</td>\n",
              "      <td>1.000000</td>\n",
              "    </tr>\n",
              "    <tr>\n",
              "      <th>25%</th>\n",
              "      <td>55443.000000</td>\n",
              "      <td>2.885279e+06</td>\n",
              "      <td>6.630000</td>\n",
              "      <td>2.000000</td>\n",
              "    </tr>\n",
              "    <tr>\n",
              "      <th>50%</th>\n",
              "      <td>66865.000000</td>\n",
              "      <td>9.562973e+06</td>\n",
              "      <td>17.400000</td>\n",
              "      <td>4.000000</td>\n",
              "    </tr>\n",
              "    <tr>\n",
              "      <th>75%</th>\n",
              "      <td>79217.000000</td>\n",
              "      <td>1.941123e+07</td>\n",
              "      <td>45.000000</td>\n",
              "      <td>5.000000</td>\n",
              "    </tr>\n",
              "    <tr>\n",
              "      <th>max</th>\n",
              "      <td>91299.000000</td>\n",
              "      <td>3.160458e+07</td>\n",
              "      <td>150.000000</td>\n",
              "      <td>23.000000</td>\n",
              "    </tr>\n",
              "  </tbody>\n",
              "</table>\n",
              "</div>"
            ],
            "text/plain": [
              "           AnimalID  AnimalInternal-ID  AnimalCurrentWeightPounds           Age\n",
              "count  16885.000000       1.688500e+04               16885.000000  16885.000000\n",
              "mean   67738.477228       1.181844e+07                  26.029870      4.131122\n",
              "std    13467.907920       8.905617e+06                  23.381409      2.714432\n",
              "min    45628.000000       1.444011e+06                   0.000000      1.000000\n",
              "25%    55443.000000       2.885279e+06                   6.630000      2.000000\n",
              "50%    66865.000000       9.562973e+06                  17.400000      4.000000\n",
              "75%    79217.000000       1.941123e+07                  45.000000      5.000000\n",
              "max    91299.000000       3.160458e+07                 150.000000     23.000000"
            ]
          },
          "metadata": {},
          "execution_count": 8
        }
      ]
    },
    {
      "cell_type": "code",
      "metadata": {
        "id": "cHe50_FXPLse",
        "colab": {
          "base_uri": "https://localhost:8080/"
        },
        "outputId": "c410993b-7b04-4f38-d299-8b7533c6e863"
      },
      "source": [
        "#dogs_new.to_csv(\"processed_dogs.csv\", index=False)\n",
        "dogs_new.nunique()"
      ],
      "execution_count": null,
      "outputs": [
        {
          "output_type": "execute_result",
          "data": {
            "text/plain": [
              "AnimalID                     16885\n",
              "AnimalInternal-ID            16885\n",
              "AnimalName                    9030\n",
              "AnimalSex                        2\n",
              "AnimalCurrentWeightPounds     1302\n",
              "Age                             23\n",
              "Breed                          140\n",
              "isMixed                          2\n",
              "Color                           22\n",
              "dtype: int64"
            ]
          },
          "metadata": {},
          "execution_count": 9
        }
      ]
    },
    {
      "cell_type": "code",
      "metadata": {
        "colab": {
          "base_uri": "https://localhost:8080/",
          "height": 490
        },
        "id": "NDmLL-Z_ET7n",
        "outputId": "14f9a3a0-d359-4a66-d838-c6de4af21505"
      },
      "source": [
        "fig, ax = plt.subplots(figsize=(7, 7))\n",
        "dogs_new.AnimalSex.value_counts().plot(kind='bar', ax=ax)\n",
        "ax.set_title(\"Dog Gender Distribution\")"
      ],
      "execution_count": null,
      "outputs": [
        {
          "output_type": "execute_result",
          "data": {
            "text/plain": [
              "Text(0.5, 1.0, 'Dog Gender Distribution')"
            ]
          },
          "metadata": {},
          "execution_count": 10
        },
        {
          "output_type": "display_data",
          "data": {
            "image/png": "[encoded data removed]",
            "text/plain": [
              "<Figure size 504x504 with 1 Axes>"
            ]
          },
          "metadata": {
            "needs_background": "light"
          }
        }
      ]
    },
    {
      "cell_type": "code",
      "metadata": {
        "colab": {
          "base_uri": "https://localhost:8080/",
          "height": 463
        },
        "id": "sNe189_RFIi4",
        "outputId": "7a1f1348-8d10-4022-db33-dfe304c07647"
      },
      "source": [
        "fig, ax = plt.subplots(figsize=(7, 7))\n",
        "dogs_new.AnimalCurrentWeightPounds.plot(kind='hist', ax=ax, bins=20)\n",
        "ax.set_title(\"Dog Weight Distibution (in lbs)\")\n",
        "ax.set_xlim((0, dogs_new.AnimalCurrentWeightPounds.max()+1))"
      ],
      "execution_count": null,
      "outputs": [
        {
          "output_type": "execute_result",
          "data": {
            "text/plain": [
              "(0.0, 151.0)"
            ]
          },
          "metadata": {},
          "execution_count": 11
        },
        {
          "output_type": "display_data",
          "data": {
            "image/png": "[encoded data removed]",
            "text/plain": [
              "<Figure size 504x504 with 1 Axes>"
            ]
          },
          "metadata": {
            "needs_background": "light"
          }
        }
      ]
    },
    {
      "cell_type": "code",
      "metadata": {
        "colab": {
          "base_uri": "https://localhost:8080/",
          "height": 463
        },
        "id": "BPyv-chUFxdW",
        "outputId": "18f5cc37-d510-4bfa-ba44-aad7b1ffc8ec"
      },
      "source": [
        "fig, ax = plt.subplots(figsize=(7, 7))\n",
        "dogs_new.Age.plot(kind='hist', ax=ax, bins=20)\n",
        "ax.set_title(\"Dog Age Distribution\")\n",
        "ax.set_xlim((0, dogs_new.Age.max()+1))"
      ],
      "execution_count": null,
      "outputs": [
        {
          "output_type": "execute_result",
          "data": {
            "text/plain": [
              "(0.0, 24.0)"
            ]
          },
          "metadata": {},
          "execution_count": 12
        },
        {
          "output_type": "display_data",
          "data": {
            "image/png": "[encoded data removed]",
            "text/plain": [
              "<Figure size 504x504 with 1 Axes>"
            ]
          },
          "metadata": {
            "needs_background": "light"
          }
        }
      ]
    },
    {
      "cell_type": "code",
      "metadata": {
        "colab": {
          "base_uri": "https://localhost:8080/",
          "height": 479
        },
        "id": "m5sMVga-H8GI",
        "outputId": "e0bba8af-b51c-410c-b3cd-4ea3b679207b"
      },
      "source": [
        "fig, ax = plt.subplots(figsize=(7, 7))\n",
        "dogs_new.isMixed.value_counts().plot(kind='bar', ax=ax)\n",
        "ax.set_title(\"IsMixedBreed\")"
      ],
      "execution_count": null,
      "outputs": [
        {
          "output_type": "execute_result",
          "data": {
            "text/plain": [
              "Text(0.5, 1.0, 'IsMixedBreed')"
            ]
          },
          "metadata": {},
          "execution_count": 13
        },
        {
          "output_type": "display_data",
          "data": {
            "image/png": "[encoded data removed]",
            "text/plain": [
              "<Figure size 504x504 with 1 Axes>"
            ]
          },
          "metadata": {
            "needs_background": "light"
          }
        }
      ]
    },
    {
      "cell_type": "code",
      "metadata": {
        "colab": {
          "base_uri": "https://localhost:8080/",
          "height": 506
        },
        "id": "B_aHnL5cH1TA",
        "outputId": "a0609d44-02e9-495b-f704-fa9c32a68c11"
      },
      "source": [
        "fig, ax = plt.subplots(figsize=(17, 7))\n",
        "dogs_new.Color.value_counts().plot(kind='bar', ax=ax)\n",
        "ax.set_title(\"Dog Color\")"
      ],
      "execution_count": null,
      "outputs": [
        {
          "output_type": "execute_result",
          "data": {
            "text/plain": [
              "Text(0.5, 1.0, 'Dog Color')"
            ]
          },
          "metadata": {},
          "execution_count": 14
        },
        {
          "output_type": "display_data",
          "data": {
            "image/png": "[encoded data removed]",
            "text/plain": [
              "<Figure size 1224x504 with 1 Axes>"
            ]
          },
          "metadata": {
            "needs_background": "light"
          }
        }
      ]
    },
    {
      "cell_type": "code",
      "metadata": {
        "colab": {
          "base_uri": "https://localhost:8080/",
          "height": 424
        },
        "id": "3A6LDDFfDC28",
        "outputId": "b64898d2-4711-4839-85dc-3844f72c45b3"
      },
      "source": [
        "dog_photos = pd.read_csv(\"/content/dog_data/dogs_photos.csv\")\n",
        "dog_photos"
      ],
      "execution_count": null,
      "outputs": [
        {
          "output_type": "execute_result",
          "data": {
            "text/html": [
              "<div>\n",
              "<style scoped>\n",
              "    .dataframe tbody tr th:only-of-type {\n",
              "        vertical-align: middle;\n",
              "    }\n",
              "\n",
              "    .dataframe tbody tr th {\n",
              "        vertical-align: top;\n",
              "    }\n",
              "\n",
              "    .dataframe thead th {\n",
              "        text-align: right;\n",
              "    }\n",
              "</style>\n",
              "<table border=\"1\" class=\"dataframe\">\n",
              "  <thead>\n",
              "    <tr style=\"text-align: right;\">\n",
              "      <th></th>\n",
              "      <th>AnimalInternal-ID</th>\n",
              "      <th>PhotoUrl</th>\n",
              "    </tr>\n",
              "  </thead>\n",
              "  <tbody>\n",
              "    <tr>\n",
              "      <th>0</th>\n",
              "      <td>1444011</td>\n",
              "      <td>https://www.shelterluv.com/sites/default/files...</td>\n",
              "    </tr>\n",
              "    <tr>\n",
              "      <th>1</th>\n",
              "      <td>1444011</td>\n",
              "      <td>https://www.shelterluv.com/sites/default/files...</td>\n",
              "    </tr>\n",
              "    <tr>\n",
              "      <th>2</th>\n",
              "      <td>1444011</td>\n",
              "      <td>https://www.shelterluv.com/sites/default/files...</td>\n",
              "    </tr>\n",
              "    <tr>\n",
              "      <th>3</th>\n",
              "      <td>1444011</td>\n",
              "      <td>https://www.shelterluv.com/sites/default/files...</td>\n",
              "    </tr>\n",
              "    <tr>\n",
              "      <th>4</th>\n",
              "      <td>1444011</td>\n",
              "      <td>https://www.shelterluv.com/sites/default/files...</td>\n",
              "    </tr>\n",
              "    <tr>\n",
              "      <th>...</th>\n",
              "      <td>...</td>\n",
              "      <td>...</td>\n",
              "    </tr>\n",
              "    <tr>\n",
              "      <th>65985</th>\n",
              "      <td>31598600</td>\n",
              "      <td>https://www.shelterluv.com/sites/default/files...</td>\n",
              "    </tr>\n",
              "    <tr>\n",
              "      <th>65986</th>\n",
              "      <td>31604583</td>\n",
              "      <td>https://www.shelterluv.com/sites/default/files...</td>\n",
              "    </tr>\n",
              "    <tr>\n",
              "      <th>65987</th>\n",
              "      <td>31604583</td>\n",
              "      <td>https://www.shelterluv.com/sites/default/files...</td>\n",
              "    </tr>\n",
              "    <tr>\n",
              "      <th>65988</th>\n",
              "      <td>31604583</td>\n",
              "      <td>https://www.shelterluv.com/sites/default/files...</td>\n",
              "    </tr>\n",
              "    <tr>\n",
              "      <th>65989</th>\n",
              "      <td>31604583</td>\n",
              "      <td>https://www.shelterluv.com/sites/default/files...</td>\n",
              "    </tr>\n",
              "  </tbody>\n",
              "</table>\n",
              "<p>65990 rows × 2 columns</p>\n",
              "</div>"
            ],
            "text/plain": [
              "       AnimalInternal-ID                                           PhotoUrl\n",
              "0                1444011  https://www.shelterluv.com/sites/default/files...\n",
              "1                1444011  https://www.shelterluv.com/sites/default/files...\n",
              "2                1444011  https://www.shelterluv.com/sites/default/files...\n",
              "3                1444011  https://www.shelterluv.com/sites/default/files...\n",
              "4                1444011  https://www.shelterluv.com/sites/default/files...\n",
              "...                  ...                                                ...\n",
              "65985           31598600  https://www.shelterluv.com/sites/default/files...\n",
              "65986           31604583  https://www.shelterluv.com/sites/default/files...\n",
              "65987           31604583  https://www.shelterluv.com/sites/default/files...\n",
              "65988           31604583  https://www.shelterluv.com/sites/default/files...\n",
              "65989           31604583  https://www.shelterluv.com/sites/default/files...\n",
              "\n",
              "[65990 rows x 2 columns]"
            ]
          },
          "metadata": {},
          "execution_count": 16
        }
      ]
    },
    {
      "cell_type": "code",
      "metadata": {
        "colab": {
          "base_uri": "https://localhost:8080/"
        },
        "id": "RvaBVQpdGbeK",
        "outputId": "b629e2aa-fd20-4d05-b5a3-52914ee20b28"
      },
      "source": [
        "data = dogs_new.set_index('AnimalInternal-ID').join(dog_photos.set_index('AnimalInternal-ID'), on='AnimalInternal-ID', how='inner')\n",
        "data.isnull().any()"
      ],
      "execution_count": null,
      "outputs": [
        {
          "output_type": "execute_result",
          "data": {
            "text/plain": [
              "AnimalID                     False\n",
              "AnimalName                   False\n",
              "AnimalSex                    False\n",
              "AnimalCurrentWeightPounds    False\n",
              "Age                          False\n",
              "Breed                        False\n",
              "isMixed                      False\n",
              "Color                        False\n",
              "PhotoUrl                     False\n",
              "dtype: bool"
            ]
          },
          "metadata": {},
          "execution_count": 17
        }
      ]
    },
    {
      "cell_type": "code",
      "metadata": {
        "colab": {
          "base_uri": "https://localhost:8080/"
        },
        "id": "MA1bRR3JHeJe",
        "outputId": "54c67953-c71d-43a4-ce9b-1cb1f198fcde"
      },
      "source": [
        "data.nunique()"
      ],
      "execution_count": null,
      "outputs": [
        {
          "output_type": "execute_result",
          "data": {
            "text/plain": [
              "AnimalID                     14838\n",
              "AnimalName                    8194\n",
              "AnimalSex                        2\n",
              "AnimalCurrentWeightPounds     1236\n",
              "Age                             23\n",
              "Breed                          137\n",
              "isMixed                          2\n",
              "Color                           22\n",
              "PhotoUrl                     65651\n",
              "dtype: int64"
            ]
          },
          "metadata": {},
          "execution_count": 18
        }
      ]
    },
    {
      "cell_type": "code",
      "metadata": {
        "id": "6OPMgl8wImBs"
      },
      "source": [
        "data.to_csv(\"data_merged.csv\", index=True)"
      ],
      "execution_count": null,
      "outputs": []
    },
    {
      "cell_type": "code",
      "metadata": {
        "colab": {
          "base_uri": "https://localhost:8080/",
          "height": 424
        },
        "id": "EriMc2xmDH0O",
        "outputId": "5c22b97b-693a-432f-bdc5-b86f367d00bd"
      },
      "source": [
        "#download_from_gdrive(\"1QF_xiqjT424KClAHYHpiJAFZPJx7sDOU\", \"dog_website_memos.csv\")\n",
        "dog_memos = pd.read_csv(\"/content/dog_website_memos.csv\")\n",
        "dog_memos"
      ],
      "execution_count": null,
      "outputs": [
        {
          "output_type": "execute_result",
          "data": {
            "text/html": [
              "<div>\n",
              "<style scoped>\n",
              "    .dataframe tbody tr th:only-of-type {\n",
              "        vertical-align: middle;\n",
              "    }\n",
              "\n",
              "    .dataframe tbody tr th {\n",
              "        vertical-align: top;\n",
              "    }\n",
              "\n",
              "    .dataframe thead th {\n",
              "        text-align: right;\n",
              "    }\n",
              "</style>\n",
              "<table border=\"1\" class=\"dataframe\">\n",
              "  <thead>\n",
              "    <tr style=\"text-align: right;\">\n",
              "      <th></th>\n",
              "      <th>AnimalInternal-ID</th>\n",
              "      <th>MemoText</th>\n",
              "    </tr>\n",
              "  </thead>\n",
              "  <tbody>\n",
              "    <tr>\n",
              "      <th>0</th>\n",
              "      <td>1468738</td>\n",
              "      <td>\"Meet Cornell, he's a social butterfly deluxe ...</td>\n",
              "    </tr>\n",
              "    <tr>\n",
              "      <th>1</th>\n",
              "      <td>1468727</td>\n",
              "      <td>\"Shaya is a puppy with potential extraordinair...</td>\n",
              "    </tr>\n",
              "    <tr>\n",
              "      <th>2</th>\n",
              "      <td>1468736</td>\n",
              "      <td>\"Would you like to love good Luna? She's a won...</td>\n",
              "    </tr>\n",
              "    <tr>\n",
              "      <th>3</th>\n",
              "      <td>1470308</td>\n",
              "      <td>\"Stanley is a seasoned elder statesman who sti...</td>\n",
              "    </tr>\n",
              "    <tr>\n",
              "      <th>4</th>\n",
              "      <td>1479031</td>\n",
              "      <td>\"Khaleesi is a purebred American Bulldog  that...</td>\n",
              "    </tr>\n",
              "    <tr>\n",
              "      <th>...</th>\n",
              "      <td>...</td>\n",
              "      <td>...</td>\n",
              "    </tr>\n",
              "    <tr>\n",
              "      <th>6482</th>\n",
              "      <td>28651257</td>\n",
              "      <td>\"The name says it all! Caboom is such a happy ...</td>\n",
              "    </tr>\n",
              "    <tr>\n",
              "      <th>6483</th>\n",
              "      <td>31126346</td>\n",
              "      <td>\"Isis is a very loyal and affectionate pup who...</td>\n",
              "    </tr>\n",
              "    <tr>\n",
              "      <th>6484</th>\n",
              "      <td>27260685</td>\n",
              "      <td>\"Introducing Sweet Pea, a lovely four year-old...</td>\n",
              "    </tr>\n",
              "    <tr>\n",
              "      <th>6485</th>\n",
              "      <td>30788520</td>\n",
              "      <td>\"Jack Sparrow is a sweet and easy-going boy. H...</td>\n",
              "    </tr>\n",
              "    <tr>\n",
              "      <th>6486</th>\n",
              "      <td>31178486</td>\n",
              "      <td>\"For the first time, Andorra is learning what ...</td>\n",
              "    </tr>\n",
              "  </tbody>\n",
              "</table>\n",
              "<p>6487 rows × 2 columns</p>\n",
              "</div>"
            ],
            "text/plain": [
              "      AnimalInternal-ID                                           MemoText\n",
              "0               1468738  \"Meet Cornell, he's a social butterfly deluxe ...\n",
              "1               1468727  \"Shaya is a puppy with potential extraordinair...\n",
              "2               1468736  \"Would you like to love good Luna? She's a won...\n",
              "3               1470308  \"Stanley is a seasoned elder statesman who sti...\n",
              "4               1479031  \"Khaleesi is a purebred American Bulldog  that...\n",
              "...                 ...                                                ...\n",
              "6482           28651257  \"The name says it all! Caboom is such a happy ...\n",
              "6483           31126346  \"Isis is a very loyal and affectionate pup who...\n",
              "6484           27260685  \"Introducing Sweet Pea, a lovely four year-old...\n",
              "6485           30788520  \"Jack Sparrow is a sweet and easy-going boy. H...\n",
              "6486           31178486  \"For the first time, Andorra is learning what ...\n",
              "\n",
              "[6487 rows x 2 columns]"
            ]
          },
          "metadata": {},
          "execution_count": 21
        }
      ]
    },
    {
      "cell_type": "code",
      "metadata": {
        "id": "f6BsOXCeVHjC",
        "colab": {
          "base_uri": "https://localhost:8080/"
        },
        "outputId": "152ac70e-3f1c-4d47-e037-43edf70e69cb"
      },
      "source": [
        "!pip install transformers"
      ],
      "execution_count": null,
      "outputs": [
        {
          "output_type": "stream",
          "name": "stdout",
          "text": [
            "Collecting transformers\n",
            "  Downloading transformers-4.10.2-py3-none-any.whl (2.8 MB)\n",
            "\u001b[K     |████████████████████████████████| 2.8 MB 28.5 MB/s \n",
            "\u001b[?25hCollecting huggingface-hub>=0.0.12\n",
            "  Downloading huggingface_hub-0.0.16-py3-none-any.whl (50 kB)\n",
            "\u001b[K     |████████████████████████████████| 50 kB 6.5 MB/s \n",
            "\u001b[?25hRequirement already satisfied: tqdm>=4.27 in /usr/local/lib/python3.7/dist-packages (from transformers) (4.62.0)\n",
            "Requirement already satisfied: filelock in /usr/local/lib/python3.7/dist-packages (from transformers) (3.0.12)\n",
            "Requirement already satisfied: numpy>=1.17 in /usr/local/lib/python3.7/dist-packages (from transformers) (1.19.5)\n",
            "Requirement already satisfied: packaging in /usr/local/lib/python3.7/dist-packages (from transformers) (21.0)\n",
            "Collecting tokenizers<0.11,>=0.10.1\n",
            "  Downloading tokenizers-0.10.3-cp37-cp37m-manylinux_2_5_x86_64.manylinux1_x86_64.manylinux_2_12_x86_64.manylinux2010_x86_64.whl (3.3 MB)\n",
            "\u001b[K     |████████████████████████████████| 3.3 MB 45.9 MB/s \n",
            "\u001b[?25hRequirement already satisfied: importlib-metadata in /usr/local/lib/python3.7/dist-packages (from transformers) (4.6.4)\n",
            "Collecting pyyaml>=5.1\n",
            "  Downloading PyYAML-5.4.1-cp37-cp37m-manylinux1_x86_64.whl (636 kB)\n",
            "\u001b[K     |████████████████████████████████| 636 kB 57.2 MB/s \n",
            "\u001b[?25hRequirement already satisfied: regex!=2019.12.17 in /usr/local/lib/python3.7/dist-packages (from transformers) (2019.12.20)\n",
            "Collecting sacremoses\n",
            "  Downloading sacremoses-0.0.45-py3-none-any.whl (895 kB)\n",
            "\u001b[K     |████████████████████████████████| 895 kB 61.5 MB/s \n",
            "\u001b[?25hRequirement already satisfied: requests in /usr/local/lib/python3.7/dist-packages (from transformers) (2.23.0)\n",
            "Requirement already satisfied: typing-extensions in /usr/local/lib/python3.7/dist-packages (from huggingface-hub>=0.0.12->transformers) (3.7.4.3)\n",
            "Requirement already satisfied: pyparsing>=2.0.2 in /usr/local/lib/python3.7/dist-packages (from packaging->transformers) (2.4.7)\n",
            "Requirement already satisfied: zipp>=0.5 in /usr/local/lib/python3.7/dist-packages (from importlib-metadata->transformers) (3.5.0)\n",
            "Requirement already satisfied: idna<3,>=2.5 in /usr/local/lib/python3.7/dist-packages (from requests->transformers) (2.10)\n",
            "Requirement already satisfied: urllib3!=1.25.0,!=1.25.1,<1.26,>=1.21.1 in /usr/local/lib/python3.7/dist-packages (from requests->transformers) (1.24.3)\n",
            "Requirement already satisfied: chardet<4,>=3.0.2 in /usr/local/lib/python3.7/dist-packages (from requests->transformers) (3.0.4)\n",
            "Requirement already satisfied: certifi>=2017.4.17 in /usr/local/lib/python3.7/dist-packages (from requests->transformers) (2021.5.30)\n",
            "Requirement already satisfied: six in /usr/local/lib/python3.7/dist-packages (from sacremoses->transformers) (1.15.0)\n",
            "Requirement already satisfied: click in /usr/local/lib/python3.7/dist-packages (from sacremoses->transformers) (7.1.2)\n",
            "Requirement already satisfied: joblib in /usr/local/lib/python3.7/dist-packages (from sacremoses->transformers) (1.0.1)\n",
            "Installing collected packages: tokenizers, sacremoses, pyyaml, huggingface-hub, transformers\n",
            "  Attempting uninstall: pyyaml\n",
            "    Found existing installation: PyYAML 3.13\n",
            "    Uninstalling PyYAML-3.13:\n",
            "      Successfully uninstalled PyYAML-3.13\n",
            "Successfully installed huggingface-hub-0.0.16 pyyaml-5.4.1 sacremoses-0.0.45 tokenizers-0.10.3 transformers-4.10.2\n"
          ]
        }
      ]
    },
    {
      "cell_type": "code",
      "metadata": {
        "colab": {
          "base_uri": "https://localhost:8080/",
          "height": 196,
          "referenced_widgets": [
            "e2ec041ec8664190a5941a2954d37692",
            "69929594e58547f1a6fc5d0bd3dc1ecf",
            "52df040885aa484ab742b402b4031beb",
            "ef4d41d754b94e7a93336c8f35f9203d",
            "d09171da3d1d4e9db7c82877aec10660",
            "623442efd3e44694ae23ba12994cbe16",
            "57288b6c6f9640b8828376afb01b8342",
            "63a763ad7067488bb91ed5974ef973d5",
            "0efa003a80064a55870ff812d7952dd6",
            "d5d715226c38406d933e96cf7fa22a51",
            "7cc540831e4e4771af5ede569fc9ff3e",
            "17beab7b58af4ca9807178df918fd041",
            "d70f128eea7d4807a8ae57f55d6186cb",
            "76469166bb3c429681c3253c73220278",
            "6f50587fde454bb89bad5e78b80c3c41",
            "a42bf04c01ba47168519b1bf43d981a7",
            "32db314dfef7407f821c5fef66a1a898",
            "26d03e965b3447bda57c2dbf68fc7001",
            "3f1f1617dc5e4bb289f47fba74a662d4",
            "2ae1983dfdf54bc3af6201d24d9cc350",
            "ce954963ec5f49468e76821b3c34de69",
            "0d233809d0cc4dc4a0f8d0e9a8611f32",
            "20bb6558a4d6495bb4d67c2293769c52",
            "7d030dc42e244b868959785e1321fa11",
            "46dcc201bdfe4ea1bda68078cf615881",
            "ac779ec84fb44e5bb246e7899f0b9f6a",
            "5e627747d1ca4e68956e5eb6d29ee58d",
            "78fe5b0a4e6544d5aa09f994cc72e305",
            "926a5c371e5c480890113a2445c240aa",
            "46f5c2bb31334bc9a4c63d715976b80f",
            "b4a4667f5ac1487f983ff760dff96462",
            "57a928b9d2104786a2ae6a9d629e16fe",
            "52f06cdbdc99423a93c2ec932b70ab49",
            "ab20d24e80aa4bcdbda40da1178d42cb",
            "c77a1927854e4a2587ee7853178d753b",
            "b0acf6035c744adca74f606e7142516b",
            "ee4404b377c746aaa6e22528a2624c4c",
            "800ddfb3617946839e8585ceb9b61dbd",
            "ceff594d0a024b5fbf5377c623176264",
            "c0959641b6bf42c7899279fe2dab5244",
            "131ae99da8ab4560a2047b7815b38288",
            "343b264dd347484abbac5a76ad62bc77",
            "aee81f82a41d4eb18e0a33c928da53bf",
            "958929b8cde34230b50dc87f22f75a55",
            "12c881be72d8448297faf35a18c0d469",
            "db4e5e50b3b84e1196179b8f2087a413",
            "0b37a1f6be9c4c7584da743533d07626",
            "72ec8837137b402aab672e36aad7fa08",
            "efb50c64fb844d69adfec53110c039f0",
            "e26ba6903ebe45d4a613d1969733b5cc",
            "d0f6562cb3894954abe2623a0ba1772f",
            "986a7866da3a4f26a49084834f11372e",
            "39d54c7f6ea44c24ad20fcb11e5e55f2",
            "6b6ec450a8f1448cb0f97d5784170720",
            "490d34756f6343668a8da3a47eebaa79"
          ]
        },
        "id": "CKR21yDvPM2f",
        "outputId": "58a0610d-0511-4b4d-de18-e99283e3561c"
      },
      "source": [
        "from transformers import pipeline\n",
        "model = pipeline('question-answering')\n",
        "\n",
        "def talk(question, context):\n",
        "  return model(question=question, context=context)['answer']"
      ],
      "execution_count": null,
      "outputs": [
        {
          "output_type": "stream",
          "name": "stderr",
          "text": [
            "No model was supplied, defaulted to distilbert-base-cased-distilled-squad (https://huggingface.co/distilbert-base-cased-distilled-squad)\n"
          ]
        },
        {
          "output_type": "display_data",
          "data": {
            "application/vnd.jupyter.widget-view+json": {
              "model_id": "e2ec041ec8664190a5941a2954d37692",
              "version_minor": 0,
              "version_major": 2
            },
            "text/plain": [
              "Downloading:   0%|          | 0.00/473 [00:00<?, ?B/s]"
            ]
          },
          "metadata": {}
        },
        {
          "output_type": "display_data",
          "data": {
            "application/vnd.jupyter.widget-view+json": {
              "model_id": "17beab7b58af4ca9807178df918fd041",
              "version_minor": 0,
              "version_major": 2
            },
            "text/plain": [
              "Downloading:   0%|          | 0.00/261M [00:00<?, ?B/s]"
            ]
          },
          "metadata": {}
        },
        {
          "output_type": "display_data",
          "data": {
            "application/vnd.jupyter.widget-view+json": {
              "model_id": "20bb6558a4d6495bb4d67c2293769c52",
              "version_minor": 0,
              "version_major": 2
            },
            "text/plain": [
              "Downloading:   0%|          | 0.00/29.0 [00:00<?, ?B/s]"
            ]
          },
          "metadata": {}
        },
        {
          "output_type": "display_data",
          "data": {
            "application/vnd.jupyter.widget-view+json": {
              "model_id": "ab20d24e80aa4bcdbda40da1178d42cb",
              "version_minor": 0,
              "version_major": 2
            },
            "text/plain": [
              "Downloading:   0%|          | 0.00/213k [00:00<?, ?B/s]"
            ]
          },
          "metadata": {}
        },
        {
          "output_type": "display_data",
          "data": {
            "application/vnd.jupyter.widget-view+json": {
              "model_id": "12c881be72d8448297faf35a18c0d469",
              "version_minor": 0,
              "version_major": 2
            },
            "text/plain": [
              "Downloading:   0%|          | 0.00/436k [00:00<?, ?B/s]"
            ]
          },
          "metadata": {}
        }
      ]
    },
    {
      "cell_type": "code",
      "metadata": {
        "colab": {
          "base_uri": "https://localhost:8080/",
          "height": 92
        },
        "id": "CBkzUGkJPsNx",
        "outputId": "c6eee28b-3528-41eb-a8d4-359eb4399568"
      },
      "source": [
        "unique_ids = set(data.index)\n",
        "def get_context(animal_id):\n",
        "  if animal_id not in unique_ids:\n",
        "    print(\"Invalid id\")\n",
        "    return \"\"\n",
        "  details = data.loc[24643580].iloc[0]\n",
        "  context = f\"My name is {details.AnimalName}. I am {details.Age} years old. My color is {details.Color}. My weight is {details.AnimalCurrentWeightPounds}. My gender or sex is {details.AnimalSex}. My breed is {details.Breed}.\"\n",
        "  extras = [\n",
        "            \"I have the prettiest little puppy face.\",\n",
        "            \"I am sweet.\",\n",
        "            \"I have stunning grey eyes that will win you over instantly, and have the cutest floppy ears.\",\n",
        "            \"I am still learning what my crate is for, and working hard to master house training.\",\n",
        "            \"I love crinkly stuffed toys.\",\n",
        "            \"I am very low key and relaxed.\",\n",
        "            \"I love to be held, and will cuddle in your lap to take a snooze.\"]\n",
        "  context += ' '.join(extras)\n",
        "  return context\n",
        "\n",
        "get_context(24643580)"
      ],
      "execution_count": null,
      "outputs": [
        {
          "output_type": "execute_result",
          "data": {
            "application/vnd.google.colaboratory.intrinsic+json": {
              "type": "string"
            },
            "text/plain": [
              "'My name is Angelina. I am 4 years old. My color is Red. My weight is 61.0. My gender or sex is Female. My breed is Terrier.I have the prettiest little puppy face. I am sweet. I have stunning grey eyes that will win you over instantly, and have the cutest floppy ears. I am still learning what my crate is for, and working hard to master house training. I love crinkly stuffed toys. I am very low key and relaxed. I love to be held, and will cuddle in your lap to take a snooze.'"
            ]
          },
          "metadata": {},
          "execution_count": 32
        }
      ]
    },
    {
      "cell_type": "code",
      "metadata": {
        "colab": {
          "base_uri": "https://localhost:8080/"
        },
        "id": "bXwHV1tgP0VR",
        "outputId": "9521e2f4-cbdf-4a70-a203-f0045452c31c"
      },
      "source": [
        "def chatbot(to=24643580):\n",
        "  context = get_context(to)\n",
        "  q = input()\n",
        "  while (q != \"\"):\n",
        "    print(\"               Reply->\", talk(q, context))\n",
        "    q = input()\n",
        "\n",
        "chatbot()"
      ],
      "execution_count": null,
      "outputs": [
        {
          "name": "stdout",
          "output_type": "stream",
          "text": [
            "Hi WHat is your name\n",
            "               Reply-> Angelina\n",
            "How old are you\n",
            "               Reply-> 4 years old\n",
            "WHat do you love\n",
            "               Reply-> Angelina\n",
            "Which breed\n",
            "               Reply-> Terrier\n",
            "are you house trained\n",
            "               Reply-> working hard to master house training\n",
            "are you pretty\n",
            "               Reply-> Angelina\n",
            "\n"
          ]
        }
      ]
    },
    {
      "cell_type": "code",
      "metadata": {
        "id": "dS9TZ0yFTkfh"
      },
      "source": [
        ""
      ],
      "execution_count": null,
      "outputs": []
    }
  ]
}