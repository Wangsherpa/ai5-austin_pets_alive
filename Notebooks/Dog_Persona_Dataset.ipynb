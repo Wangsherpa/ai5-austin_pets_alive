{
  "nbformat": 4,
  "nbformat_minor": 0,
  "metadata": {
    "colab": {
      "name": "Dog Persona Dataset.ipynb",
      "provenance": []
    },
    "kernelspec": {
      "name": "python3",
      "display_name": "Python 3"
    },
    "language_info": {
      "name": "python"
    }
  },
  "cells": [
    {
      "cell_type": "code",
      "metadata": {
        "id": "iPZD1oModg67"
      },
      "source": [
        "import os\n",
        "import requests\n",
        "import zipfile\n",
        "import tarfile\n",
        "import json\n",
        "import time\n",
        "import sys\n",
        "import math\n",
        "import pandas as pd\n",
        "import random\n",
        "import logging\n",
        "from argparse import ArgumentParser\n",
        "from subprocess import call\n",
        "import numpy as np\n",
        "\n",
        "from collections import defaultdict\n",
        "from multiprocessing import Pool\n",
        "from tqdm.auto import tqdm, trange\n",
        "from itertools import chain"
      ],
      "execution_count": null,
      "outputs": []
    },
    {
      "cell_type": "code",
      "metadata": {
        "id": "_Bg0qdzedtZf"
      },
      "source": [
        "def download_file(packet_url, base_path=\"\", extract=False, headers=None):\n",
        "  if base_path != \"\":\n",
        "    if not os.path.exists(base_path):\n",
        "      os.mkdir(base_path)\n",
        "  packet_file = os.path.basename(packet_url)\n",
        "  with requests.get(packet_url, stream=True, headers=headers) as r:\n",
        "      r.raise_for_status()\n",
        "      with open(os.path.join(base_path,packet_file), 'wb') as f:\n",
        "          for chunk in r.iter_content(chunk_size=8192):\n",
        "              f.write(chunk)\n",
        "  \n",
        "  if extract:\n",
        "    if packet_file.endswith(\".zip\"):\n",
        "      with zipfile.ZipFile(os.path.join(base_path,packet_file)) as zfile:\n",
        "        zfile.extractall(base_path)\n",
        "    else:\n",
        "      packet_name = packet_file.split('.')[0]\n",
        "      with tarfile.open(os.path.join(base_path,packet_file)) as tfile:\n",
        "        tfile.extractall(base_path)"
      ],
      "execution_count": null,
      "outputs": []
    },
    {
      "cell_type": "code",
      "metadata": {
        "colab": {
          "base_uri": "https://localhost:8080/"
        },
        "id": "6E6UUJADdyUm",
        "outputId": "6924ffda-dd06-4057-e17b-a5c2c80e54f1"
      },
      "source": [
        "from google.colab import auth\n",
        "auth.authenticate_user()\n",
        "\n",
        "project_id = 'ai5-c1-group1'\n",
        "!gcloud config set project {project_id}\n",
        "\n",
        "!gsutil cp gs://artifacts.ai5-c1-group1.appspot.com/data/processed_dogs.csv ./datasets"
      ],
      "execution_count": null,
      "outputs": [
        {
          "output_type": "stream",
          "name": "stdout",
          "text": [
            "Updated property [core/project].\n",
            "Copying gs://artifacts.ai5-c1-group1.appspot.com/data/processed_dogs.csv...\n",
            "/ [1 files][926.6 KiB/926.6 KiB]                                                \n",
            "Operation completed over 1 objects/926.6 KiB.                                    \n"
          ]
        }
      ]
    },
    {
      "cell_type": "code",
      "metadata": {
        "id": "KxvEY__IdiHX"
      },
      "source": [
        "dataset_url = \"https://s3.amazonaws.com/datasets.huggingface.co/personachat/personachat_self_original.json\"\n",
        "start_time = time.time()\n",
        "download_file(dataset_url, base_path=\"datasets\", extract=False)\n",
        "execution_time = (time.time() - start_time)/60.0"
      ],
      "execution_count": null,
      "outputs": []
    },
    {
      "cell_type": "code",
      "metadata": {
        "id": "aMtm1rA6eWa8"
      },
      "source": [
        "persona_chat_path = os.path.join(\"datasets\", \"personachat_self_original.json\")\n",
        "with open(persona_chat_path, 'r', encoding='utf-8') as f:\n",
        "  personachat = json.loads(f.read())\n"
      ],
      "execution_count": null,
      "outputs": []
    },
    {
      "cell_type": "code",
      "metadata": {
        "colab": {
          "base_uri": "https://localhost:8080/"
        },
        "id": "QAjhnna8fMNk",
        "outputId": "46d52726-6415-4b63-b30f-8650885207fc"
      },
      "source": [
        "train_size = len(personachat['train'])\n",
        "val_size = len(personachat['valid'])\n",
        "sample = personachat['train'][0]\n",
        "print(\"Personality\\n\", sample['personality'])\n",
        "print(\"\\nUtterances[candidates]\\n\", sample['utterances'][0]['candidates'])\n",
        "print(\"\\nUtterances[history]\\n\", sample['utterances'][0]['history'])\n",
        "\n",
        "# every datapt. -> \n",
        "#  dict with keys: personality, utterances\n",
        "#     personality -> list of sentences\n",
        "#     utterances -> list of dictionaries with keys -> candidates, history\n"
      ],
      "execution_count": null,
      "outputs": [
        {
          "output_type": "stream",
          "name": "stdout",
          "text": [
            "Personality\n",
            " ['i like to remodel homes .', 'i like to go hunting .', 'i like to shoot a bow .', 'my favorite holiday is halloween .']\n",
            "\n",
            "Utterances[candidates]\n",
            " ['my mom was single with 3 boys , so we never left the projects .', 'i try to wear all black every day . it makes me feel comfortable .', 'well nursing stresses you out so i wish luck with sister', 'yeah just want to pick up nba nfl getting old', 'i really like celine dion . what about you ?', 'no . i live near farms .', \"i wish i had a daughter , i'm a boy mom . they're beautiful boys though still lucky\", 'yeah when i get bored i play gone with the wind my favorite movie .', \"hi how are you ? i'm eating dinner with my hubby and 2 kids .\", 'were you married to your high school sweetheart ? i was .', 'that is great to hear ! are you a competitive rider ?', \"hi , i'm doing ok . i'm a banker . how about you ?\", \"i'm 5 years old\", 'hi there . how are you today ?', 'i totally understand how stressful that can be .', 'yeah sometimes you do not know what you are actually watching', 'mother taught me to cook ! we are looking for an exterminator .', 'i enjoy romantic movie . what is your favorite season ? mine is summer .', 'editing photos takes a lot of work .', 'you must be very fast . hunting is one of my favorite hobbies .']\n",
            "\n",
            "Utterances[history]\n",
            " [\"hi , how are you doing ? i'm getting ready to do some cheetah chasing to stay in shape .\"]\n"
          ]
        }
      ]
    },
    {
      "cell_type": "code",
      "metadata": {
        "colab": {
          "base_uri": "https://localhost:8080/"
        },
        "id": "EvrU5AXNfwxy",
        "outputId": "00fdc74a-e6ef-4d30-c5e1-c6077bb778c8"
      },
      "source": [
        "wrong_answers = []\n",
        "for datapt in personachat['train'][:100]:\n",
        "  for utt in datapt['utterances']:\n",
        "    for ans in utt['candidates'][:-1]:\n",
        "      wrong_answers.append(ans)\n",
        "\n",
        "print(len(wrong_answers))"
      ],
      "execution_count": null,
      "outputs": [
        {
          "output_type": "stream",
          "name": "stdout",
          "text": [
            "13965\n"
          ]
        }
      ]
    },
    {
      "cell_type": "code",
      "metadata": {
        "colab": {
          "base_uri": "https://localhost:8080/",
          "height": 206
        },
        "id": "Oj9ZmRH2itGK",
        "outputId": "e599c8d8-2b27-4fbb-b9ec-2b9118561b41"
      },
      "source": [
        "dog_data = pd.read_csv('./datasets/processed_dogs.csv')\n",
        "dog_data.head()"
      ],
      "execution_count": null,
      "outputs": [
        {
          "output_type": "execute_result",
          "data": {
            "text/html": [
              "<div>\n",
              "<style scoped>\n",
              "    .dataframe tbody tr th:only-of-type {\n",
              "        vertical-align: middle;\n",
              "    }\n",
              "\n",
              "    .dataframe tbody tr th {\n",
              "        vertical-align: top;\n",
              "    }\n",
              "\n",
              "    .dataframe thead th {\n",
              "        text-align: right;\n",
              "    }\n",
              "</style>\n",
              "<table border=\"1\" class=\"dataframe\">\n",
              "  <thead>\n",
              "    <tr style=\"text-align: right;\">\n",
              "      <th></th>\n",
              "      <th>AnimalID</th>\n",
              "      <th>AnimalInternal-ID</th>\n",
              "      <th>AnimalName</th>\n",
              "      <th>AnimalSex</th>\n",
              "      <th>AnimalCurrentWeightPounds</th>\n",
              "      <th>Age</th>\n",
              "      <th>Breed</th>\n",
              "      <th>isMixed</th>\n",
              "      <th>Color</th>\n",
              "    </tr>\n",
              "  </thead>\n",
              "  <tbody>\n",
              "    <tr>\n",
              "      <th>0</th>\n",
              "      <td>45628</td>\n",
              "      <td>1444011</td>\n",
              "      <td>Emma</td>\n",
              "      <td>Female</td>\n",
              "      <td>53.3</td>\n",
              "      <td>6</td>\n",
              "      <td>Retriever</td>\n",
              "      <td>True</td>\n",
              "      <td>Blond</td>\n",
              "    </tr>\n",
              "    <tr>\n",
              "      <th>1</th>\n",
              "      <td>45629</td>\n",
              "      <td>1444014</td>\n",
              "      <td>Rizzoli</td>\n",
              "      <td>Female</td>\n",
              "      <td>4.7</td>\n",
              "      <td>5</td>\n",
              "      <td>Mixed Breed (Small)</td>\n",
              "      <td>True</td>\n",
              "      <td>Tan</td>\n",
              "    </tr>\n",
              "    <tr>\n",
              "      <th>2</th>\n",
              "      <td>45630</td>\n",
              "      <td>1444017</td>\n",
              "      <td>Isles</td>\n",
              "      <td>Female</td>\n",
              "      <td>3.1</td>\n",
              "      <td>5</td>\n",
              "      <td>Mixed Breed (Small)</td>\n",
              "      <td>True</td>\n",
              "      <td>White</td>\n",
              "    </tr>\n",
              "    <tr>\n",
              "      <th>3</th>\n",
              "      <td>45631</td>\n",
              "      <td>1444020</td>\n",
              "      <td>Cory</td>\n",
              "      <td>Male</td>\n",
              "      <td>4.7</td>\n",
              "      <td>5</td>\n",
              "      <td>Mixed Breed (Small)</td>\n",
              "      <td>True</td>\n",
              "      <td>Sable</td>\n",
              "    </tr>\n",
              "    <tr>\n",
              "      <th>4</th>\n",
              "      <td>45632</td>\n",
              "      <td>1444023</td>\n",
              "      <td>Topanga</td>\n",
              "      <td>Female</td>\n",
              "      <td>8.0</td>\n",
              "      <td>5</td>\n",
              "      <td>Mixed Breed (Small)</td>\n",
              "      <td>True</td>\n",
              "      <td>Tan</td>\n",
              "    </tr>\n",
              "  </tbody>\n",
              "</table>\n",
              "</div>"
            ],
            "text/plain": [
              "   AnimalID  AnimalInternal-ID AnimalName  ...                Breed  isMixed  Color\n",
              "0     45628            1444011       Emma  ...            Retriever     True  Blond\n",
              "1     45629            1444014    Rizzoli  ...  Mixed Breed (Small)     True    Tan\n",
              "2     45630            1444017      Isles  ...  Mixed Breed (Small)     True  White\n",
              "3     45631            1444020       Cory  ...  Mixed Breed (Small)     True  Sable\n",
              "4     45632            1444023    Topanga  ...  Mixed Breed (Small)     True    Tan\n",
              "\n",
              "[5 rows x 9 columns]"
            ]
          },
          "metadata": {},
          "execution_count": 40
        }
      ]
    },
    {
      "cell_type": "code",
      "metadata": {
        "colab": {
          "base_uri": "https://localhost:8080/"
        },
        "id": "KMKHI2hlgRt0",
        "outputId": "8a68cbfb-3f2a-4894-b06b-1d22c32e481c"
      },
      "source": [
        "def generate_persona(details):\n",
        "  name = [\"My name is {}.\",\n",
        "          \"I am {}.\",\n",
        "          \"It's {}. Woof Woof\"]\n",
        "  age = [\"My age is {}.\",\n",
        "         \"I am {} years old.\"]\n",
        "  animaltype = [\"I am dog.\",\n",
        "                \"Woof woof I am dog.\"]\n",
        "  if (details.AnimalSex == \"Female\"):\n",
        "    gender = [\"My gender is female.\",\n",
        "              \"I am a girl.\"]\n",
        "  else:\n",
        "    gender = [\"My gender is male.\",\n",
        "              \"I am a boy.\"]\n",
        "  weight = [\"My weight is {} lbs.\",\n",
        "            \"I weigh {} pounds.\"]\n",
        "  color = [\"my color is {}, it is my favourite color.\",\n",
        "           \"I am {} in color.\"]\n",
        "  breed = [\"My breed is {}.\",\n",
        "           \"I am a {}.\"]\n",
        "  persona = []\n",
        "  persona.append(np.random.choice(name).format(details['AnimalName']))\n",
        "  persona.append(np.random.choice(age).format(details['Age']))\n",
        "  persona.append(np.random.choice(animaltype))\n",
        "  persona.append(np.random.choice(gender))\n",
        "  persona.append(np.random.choice(weight).format(details['AnimalCurrentWeightPounds']))\n",
        "  persona.append(np.random.choice(color).format(details['Color']))\n",
        "  persona.append(np.random.choice(breed).format(details['Breed']))\n",
        "  return ' '.join(persona)\n",
        "\n",
        "print(generate_persona(dog_data.iloc[0]))\n",
        "print(generate_persona(dog_data.iloc[0]))\n",
        "print(generate_persona(dog_data.iloc[0]))\n"
      ],
      "execution_count": null,
      "outputs": [
        {
          "output_type": "stream",
          "name": "stdout",
          "text": [
            "I am Emma. My age is 6. Woof woof I am dog. My gender is female. I weigh 53.3 pounds. I am Blond in color. My breed is Retriever.\n",
            "My name is Emma. I am 6 years old. Woof woof I am dog. My gender is female. I weigh 53.3 pounds. I am Blond in color. My breed is Retriever.\n",
            "I am Emma. My age is 6. Woof woof I am dog. I am a girl. My weight is 53.3 lbs. my color is Blond, it is my favourite color. My breed is Retriever.\n"
          ]
        }
      ]
    },
    {
      "cell_type": "code",
      "metadata": {
        "colab": {
          "base_uri": "https://localhost:8080/"
        },
        "id": "E69nRUwei9oP",
        "outputId": "c416021b-fbb6-403c-c2c3-ca0e9ab893b0"
      },
      "source": [
        "def generate_history(dog_data):\n",
        "  user = [\"hi , how are you ?\"]\n",
        "  dog = [\"woof woof . i'm feeling great!\"]\n",
        "\n",
        "  name = [\"My name is {}.\",\n",
        "          \"I am {}.\",\n",
        "          \"It's {}. Woof Woof\"]\n",
        "  age = [\"My age is {}.\",\n",
        "         \"I am {} years old.\"]\n",
        "  animaltype = [\"I am dog.\",\n",
        "                \"Woof woof I am dog.\"]\n",
        "  if (dog_data.AnimalSex == \"Female\"):\n",
        "    gender = [\"My gender is female.\",\n",
        "              \"I am a girl.\"]\n",
        "  else:\n",
        "    gender = [\"My gender is male.\",\n",
        "              \"I am a boy.\"]\n",
        "  weight = [\"My weight is {} lbs.\",\n",
        "            \"I weigh {} pounds.\"]\n",
        "  color = [\"my color is {}.\",\n",
        "           \"I am {} in color.\"]\n",
        "  breed = [\"My breed is {}.\",\n",
        "           \"I am a {}.\"]\n",
        "  user.append(\"what is your name ?\")\n",
        "  dog.append(np.random.choice(name).format(dog_data[\"AnimalName\"]))\n",
        "  user.append(\"what are you ?\")\n",
        "  dog.append(\"i am a Dog\")\n",
        "  user.append(\"what is your gender ?\")\n",
        "  dog.append(np.random.choice(gender).format(dog_data[\"AnimalSex\"]))\n",
        "  user.append(\"what is your weight ?\")\n",
        "  dog.append(np.random.choice(weight).format(dog_data[\"AnimalCurrentWeightPounds\"]))\n",
        "  user.append(\"How old are you ?\")\n",
        "  dog.append(np.random.choice(age).format(dog_data[\"Age\"]))\n",
        "  user.append(\"what breed are you ?\")\n",
        "  dog.append(np.random.choice(breed).format(dog_data[\"Breed\"]))\n",
        "  user.append(\"what color are you ?\")\n",
        "  dog.append(np.random.choice(name).format(dog_data[\"Color\"]))\n",
        "  \n",
        "\n",
        "\n",
        "  return user, dog\n",
        "\n",
        "\n",
        "hist = generate_history(dog_data.iloc[0])\n",
        "print(hist[0])\n",
        "print(hist[1])"
      ],
      "execution_count": null,
      "outputs": [
        {
          "output_type": "stream",
          "name": "stdout",
          "text": [
            "['hi , how are you ?', 'what is your name ?', 'what are you ?', 'what is your gender ?', 'what is your weight ?', 'How old are you ?', 'what breed are you ?', 'what color are you ?']\n",
            "[\"woof woof . i'm feeling great!\", 'My name is Emma.', 'i am a Dog', 'I am a girl.', 'I weigh 53.3 pounds.', 'My age is 6.', 'My breed is Retriever.', 'I am Blond.']\n"
          ]
        }
      ]
    },
    {
      "cell_type": "code",
      "metadata": {
        "colab": {
          "base_uri": "https://localhost:8080/"
        },
        "id": "CelxaScMi-rD",
        "outputId": "d755033b-5b27-4b83-a64d-41750b718a75"
      },
      "source": [
        "# Create dataset\n",
        "persona_dog_chat = []\n",
        "\n",
        "for row in dog_data.iloc:\n",
        "  persona = generate_persona(row)\n",
        "  user, dog = generate_history(row)\n",
        "\n",
        "  history = []\n",
        "  utterances = []\n",
        "  for i in range(len(user)):\n",
        "    # randomly pick number of wrong answers range[5, 15]\n",
        "    n_utter = np.random.randint(5,16)\n",
        "    candidates = random.sample(wrong_answers, n_utter)\n",
        "    candidates.append(dog[i])\n",
        "    \n",
        "    if (i > 0):\n",
        "      history.append(dog[i-1])\n",
        "    history.append(user[i])\n",
        "\n",
        "    utterance = {\"candidates\":candidates,\n",
        "                 \"history\":history.copy()}\n",
        "    utterances.append(utterance)\n",
        "  persona_dog_chat.append({\n",
        "      \"personality\":persona,\n",
        "      \"utterances\":utterances\n",
        "  })\n",
        "\n",
        "print(len(persona_dog_chat))"
      ],
      "execution_count": null,
      "outputs": [
        {
          "output_type": "stream",
          "name": "stdout",
          "text": [
            "16885\n"
          ]
        }
      ]
    },
    {
      "cell_type": "code",
      "metadata": {
        "colab": {
          "base_uri": "https://localhost:8080/"
        },
        "id": "eW8vgbzFjqqY",
        "outputId": "4f196f79-4ced-4197-d40c-ef0a31d0cce5"
      },
      "source": [
        "print(\"personality:\",persona_dog_chat[0][\"personality\"])\n",
        "print(\"candidates:\",persona_dog_chat[0][\"utterances\"][0][\"candidates\"])\n",
        "print(\"history:\",persona_dog_chat[0][\"utterances\"][0][\"history\"])"
      ],
      "execution_count": null,
      "outputs": [
        {
          "output_type": "stream",
          "name": "stdout",
          "text": [
            "personality: My name is Emma. I am 6 years old. I am dog. My gender is female. I weigh 53.3 pounds. my color is Blond, it is my favourite color. My breed is Retriever.\n",
            "candidates: ['i mostly take care of my four cats', 'just a few that are somewhat rare , what do you do for fun ?', 'most of the time i spend is with my dog , he is my best friend', 'yeah i remember working for a call center job and it was stressful at times', 'oh yea ? i visit them sometimes', 'yeah definitely but i m already in college', 'not bad . just working on a watercolor painting .', 'cattle stations run different there than cattle farms in the us do .', 'not really , but i like to golf . are you a runner ?', 'i also like to run . it makes me feel like i can get away .', 'congrats ! owen is a cute name .', 'hey , do you want to take me to the movies ?', \"lately i've been reading to distract myself from work and politics , activism is exhausting\", \"woof woof . i'm feeling great!\"]\n",
            "history: ['hi , how are you ?']\n"
          ]
        }
      ]
    },
    {
      "cell_type": "code",
      "metadata": {
        "colab": {
          "base_uri": "https://localhost:8080/"
        },
        "id": "fJwdC4PCs0iE",
        "outputId": "cd17384f-c83b-40e3-f61e-de12509cb073"
      },
      "source": [
        "persona_dog_chat[0]"
      ],
      "execution_count": null,
      "outputs": [
        {
          "output_type": "execute_result",
          "data": {
            "text/plain": [
              "{'personality': 'My name is Emma. I am 6 years old. I am dog. My gender is female. I weigh 53.3 pounds. my color is Blond, it is my favourite color. My breed is Retriever.',\n",
              " 'utterances': [{'candidates': ['i mostly take care of my four cats',\n",
              "    'just a few that are somewhat rare , what do you do for fun ?',\n",
              "    'most of the time i spend is with my dog , he is my best friend',\n",
              "    'yeah i remember working for a call center job and it was stressful at times',\n",
              "    'oh yea ? i visit them sometimes',\n",
              "    'yeah definitely but i m already in college',\n",
              "    'not bad . just working on a watercolor painting .',\n",
              "    'cattle stations run different there than cattle farms in the us do .',\n",
              "    'not really , but i like to golf . are you a runner ?',\n",
              "    'i also like to run . it makes me feel like i can get away .',\n",
              "    'congrats ! owen is a cute name .',\n",
              "    'hey , do you want to take me to the movies ?',\n",
              "    \"lately i've been reading to distract myself from work and politics , activism is exhausting\",\n",
              "    \"woof woof . i'm feeling great!\"],\n",
              "   'history': ['hi , how are you ?']},\n",
              "  {'candidates': [\"that's insane ! hopefully i can earn more money working in the federal court\",\n",
              "    \"oh yeah how so ? i don't work , stay at home mom of two boys .\",\n",
              "    'what do you do for a living ?',\n",
              "    \"no i cannot say i've but i would love too . i like green .\",\n",
              "    'what color is it ? do you want to marry me ?',\n",
              "    'i am married , do you have any kids ?',\n",
              "    'time to cook dinner ! chili corn dog or cheesy hot dog ? we love both !',\n",
              "    'i love being in the water period',\n",
              "    'i am thinking about raiding my garden for a chicken salad . or , maybe a nice soup .',\n",
              "    \"i'll never sit in the bus\",\n",
              "    \"good . i'm going fishing today which i love .\",\n",
              "    'that sounds interesting . i like to read',\n",
              "    'nice . did you go to school ?',\n",
              "    'My name is Emma.'],\n",
              "   'history': ['hi , how are you ?',\n",
              "    \"woof woof . i'm feeling great!\",\n",
              "    'what is your name ?']},\n",
              "  {'candidates': ['one day i hope to climb mount everest .',\n",
              "    'hey i am good how are you ?',\n",
              "    'hi how are you doing',\n",
              "    'oh geez . i teach yoga so am pretty fit . do you work ?',\n",
              "    'i used to not too much now how about you ?',\n",
              "    \"yeah , my parents used to hit me when i was a child so i'd practice it\",\n",
              "    'i bet . i love to take my kids to the beach and build castles .',\n",
              "    'just turned 52 . life is good . . . mostly',\n",
              "    \"no my sister joined a cult from her marriage now i'm scared\",\n",
              "    'very commendable job . although , i like being alone and nursing wo not let you lol',\n",
              "    'nice ! i use my computer to video chat with my dad in china .',\n",
              "    \"long hair is great i'm losing all mine bummer\",\n",
              "    'what do you like to grow in it ?',\n",
              "    'what kind of a puppy is it ?',\n",
              "    'what color is your couch ? i love yellow ?',\n",
              "    'i am a Dog'],\n",
              "   'history': ['hi , how are you ?',\n",
              "    \"woof woof . i'm feeling great!\",\n",
              "    'what is your name ?',\n",
              "    'My name is Emma.',\n",
              "    'what are you ?']},\n",
              "  {'candidates': ['aw , no help for me',\n",
              "    'do you like to look at art ?',\n",
              "    'two candy and dandy . they are sweet .',\n",
              "    'do you get paid well for it',\n",
              "    'i love boas and had 2 geckos when i was a child it helps me make friends',\n",
              "    'My gender is female.'],\n",
              "   'history': ['hi , how are you ?',\n",
              "    \"woof woof . i'm feeling great!\",\n",
              "    'what is your name ?',\n",
              "    'My name is Emma.',\n",
              "    'what are you ?',\n",
              "    'i am a Dog',\n",
              "    'what is your gender ?']},\n",
              "  {'candidates': ['italian is okay , i prefer japanese .',\n",
              "    \"i swim , i'm good at it because my bones have never broke !\",\n",
              "    'what do you do for a living ?',\n",
              "    'sounds like you enjoy reading . i bet the library has some books on it .',\n",
              "    \"i'm good , just admiring my collection of bugs in jars\",\n",
              "    'I weigh 53.3 pounds.'],\n",
              "   'history': ['hi , how are you ?',\n",
              "    \"woof woof . i'm feeling great!\",\n",
              "    'what is your name ?',\n",
              "    'My name is Emma.',\n",
              "    'what are you ?',\n",
              "    'i am a Dog',\n",
              "    'what is your gender ?',\n",
              "    'My gender is female.',\n",
              "    'what is your weight ?']},\n",
              "  {'candidates': ['that is cool . i like nature too . mostly for fishing',\n",
              "    'i am a junior at stanford . is your mom a professor in the us ?',\n",
              "    'what kind of work do you do ?',\n",
              "    \"i'm sorry , sounds like you have alot of issues .\",\n",
              "    'what is your favorite animal ?',\n",
              "    \"that's great , do you sell them online ?\",\n",
              "    'ah , wrong ! blue is my fav color . what hobbies do you have ?',\n",
              "    'yes all day . i get my 8 hours of sleep though',\n",
              "    'lol are they pro models ? we visit in the mountains how cool',\n",
              "    \"that's great ! i've no rhythm , myself .\",\n",
              "    'hello ! do you live near a beach ?',\n",
              "    'it was not me though . i do not eat cheese .',\n",
              "    \"i don't know if i am that interesting . married young , nurse who surfs .\",\n",
              "    'My age is 6.'],\n",
              "   'history': ['hi , how are you ?',\n",
              "    \"woof woof . i'm feeling great!\",\n",
              "    'what is your name ?',\n",
              "    'My name is Emma.',\n",
              "    'what are you ?',\n",
              "    'i am a Dog',\n",
              "    'what is your gender ?',\n",
              "    'My gender is female.',\n",
              "    'what is your weight ?',\n",
              "    'I weigh 53.3 pounds.',\n",
              "    'How old are you ?']},\n",
              "  {'candidates': ['when i went last time i took a lot of photos',\n",
              "    'that sounds interesting . i performed at a big wedding last week .',\n",
              "    'i just got back from a concert , my favorite thing to do .',\n",
              "    'what kind of firm ? i mainly just watch football with friends . haha .',\n",
              "    'hmmmm food sounds good right round now',\n",
              "    'that sounds amazing , wish i had a woman like that',\n",
              "    'such as clothes for men and women , baby clothes , dog clothes , etc .',\n",
              "    'the disney deer you fool',\n",
              "    'nice ! i personally hate eating out because people in general make me nervous .',\n",
              "    \"i've two . we live together\",\n",
              "    'i have never seen that . supernatural and arrow are big with my girls .',\n",
              "    'no i like to tinker with cars',\n",
              "    'i am good do you work',\n",
              "    'really do you go hunting ?',\n",
              "    'what is up , party person ?',\n",
              "    'I am a Retriever.'],\n",
              "   'history': ['hi , how are you ?',\n",
              "    \"woof woof . i'm feeling great!\",\n",
              "    'what is your name ?',\n",
              "    'My name is Emma.',\n",
              "    'what are you ?',\n",
              "    'i am a Dog',\n",
              "    'what is your gender ?',\n",
              "    'My gender is female.',\n",
              "    'what is your weight ?',\n",
              "    'I weigh 53.3 pounds.',\n",
              "    'How old are you ?',\n",
              "    'My age is 6.',\n",
              "    'what breed are you ?']},\n",
              "  {'candidates': ['sounds like a plan ! maybe we can meet up and go for a run .',\n",
              "    \"i usually don't go anywhere . i do like cold weather , howver\",\n",
              "    'i like smooth jazz , you ?',\n",
              "    'i hear ya . i learned piano from my mom . you play anything ?',\n",
              "    'ny . i like fighting . connor m is the best and my favorite .',\n",
              "    'that makes sense i should work out more to',\n",
              "    'maybe cooking that would work out',\n",
              "    'hello , are you into exercise ? i love to run .',\n",
              "    'oh i know . i always feel judged and never know what to do .',\n",
              "    \"i'm from kentucky myself , not much to do except ride horse and listen to music\",\n",
              "    \"that's so cool . my brother and i own a food truck .\",\n",
              "    'i love weight lifting not going for squats ever',\n",
              "    \"It's Blond. Woof Woof\"],\n",
              "   'history': ['hi , how are you ?',\n",
              "    \"woof woof . i'm feeling great!\",\n",
              "    'what is your name ?',\n",
              "    'My name is Emma.',\n",
              "    'what are you ?',\n",
              "    'i am a Dog',\n",
              "    'what is your gender ?',\n",
              "    'My gender is female.',\n",
              "    'what is your weight ?',\n",
              "    'I weigh 53.3 pounds.',\n",
              "    'How old are you ?',\n",
              "    'My age is 6.',\n",
              "    'what breed are you ?',\n",
              "    'I am a Retriever.',\n",
              "    'what color are you ?']}]}"
            ]
          },
          "metadata": {},
          "execution_count": 56
        }
      ]
    },
    {
      "cell_type": "code",
      "metadata": {
        "id": "QvVGxYkks541"
      },
      "source": [
        "with open(\"personadogchat.json\", \"w\") as outfile:  \n",
        "    json.dump(persona_dog_chat, outfile) "
      ],
      "execution_count": null,
      "outputs": []
    },
    {
      "cell_type": "code",
      "metadata": {
        "colab": {
          "base_uri": "https://localhost:8080/"
        },
        "id": "J39IqeostEcP",
        "outputId": "daf7a98c-7696-4354-aaa4-51fa766653f7"
      },
      "source": [
        "# Push to cloud\n",
        "!gsutil cp ./personadogchat.json gs://artifacts.ai5-c1-group1.appspot.com/data"
      ],
      "execution_count": null,
      "outputs": [
        {
          "output_type": "stream",
          "name": "stdout",
          "text": [
            "Copying file://./personadogchat.json [Content-Type=application/json]...\n",
            "|\n",
            "Operation completed over 1 objects/101.8 MiB.                                    \n"
          ]
        }
      ]
    },
    {
      "cell_type": "code",
      "metadata": {
        "id": "r6VY0BL4tL8v"
      },
      "source": [
        ""
      ],
      "execution_count": null,
      "outputs": []
    }
  ]
}