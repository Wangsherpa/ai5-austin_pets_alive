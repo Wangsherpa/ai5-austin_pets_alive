{
  "nbformat": 4,
  "nbformat_minor": 0,
  "metadata": {
    "colab": {
      "name": "Dog_Persona_Dataset.ipynb",
      "provenance": [],
      "collapsed_sections": []
    },
    "kernelspec": {
      "name": "python3",
      "display_name": "Python 3"
    },
    "language_info": {
      "name": "python"
    }
  },
  "cells": [
    {
      "cell_type": "code",
      "metadata": {
        "id": "iPZD1oModg67"
      },
      "source": [
        "import os\n",
        "import requests\n",
        "import zipfile\n",
        "import tarfile\n",
        "import json\n",
        "import time\n",
        "import sys\n",
        "import math\n",
        "import pandas as pd\n",
        "import random\n",
        "import logging\n",
        "from argparse import ArgumentParser\n",
        "from subprocess import call\n",
        "import numpy as np\n",
        "\n",
        "from collections import defaultdict\n",
        "from multiprocessing import Pool\n",
        "from tqdm.auto import tqdm, trange\n",
        "from itertools import chain"
      ],
      "execution_count": 1,
      "outputs": []
    },
    {
      "cell_type": "code",
      "metadata": {
        "id": "_Bg0qdzedtZf"
      },
      "source": [
        "def download_file(packet_url, base_path=\"\", extract=False, headers=None):\n",
        "  if base_path != \"\":\n",
        "    if not os.path.exists(base_path):\n",
        "      os.mkdir(base_path)\n",
        "  packet_file = os.path.basename(packet_url)\n",
        "  with requests.get(packet_url, stream=True, headers=headers) as r:\n",
        "      r.raise_for_status()\n",
        "      with open(os.path.join(base_path,packet_file), 'wb') as f:\n",
        "          for chunk in r.iter_content(chunk_size=8192):\n",
        "              f.write(chunk)\n",
        "  \n",
        "  if extract:\n",
        "    if packet_file.endswith(\".zip\"):\n",
        "      with zipfile.ZipFile(os.path.join(base_path,packet_file)) as zfile:\n",
        "        zfile.extractall(base_path)\n",
        "    else:\n",
        "      packet_name = packet_file.split('.')[0]\n",
        "      with tarfile.open(os.path.join(base_path,packet_file)) as tfile:\n",
        "        tfile.extractall(base_path)"
      ],
      "execution_count": 5,
      "outputs": []
    },
    {
      "cell_type": "code",
      "metadata": {
        "colab": {
          "base_uri": "https://localhost:8080/"
        },
        "id": "6E6UUJADdyUm",
        "outputId": "f9c337e1-d0c8-43ed-d3b3-011e0fc5ed2f"
      },
      "source": [
        "from google.colab import auth\n",
        "auth.authenticate_user()\n",
        "\n",
        "project_id = 'ai5-c1-group1'\n",
        "!gcloud config set project {project_id}\n",
        "\n",
        "!gsutil cp gs://artifacts.ai5-c1-group1.appspot.com/data/processed_dogs.csv ./"
      ],
      "execution_count": 9,
      "outputs": [
        {
          "output_type": "stream",
          "name": "stdout",
          "text": [
            "Updated property [core/project].\n",
            "Copying gs://artifacts.ai5-c1-group1.appspot.com/data/processed_dogs.csv...\n",
            "/ [1 files][926.6 KiB/926.6 KiB]                                                \n",
            "Operation completed over 1 objects/926.6 KiB.                                    \n"
          ]
        }
      ]
    },
    {
      "cell_type": "code",
      "metadata": {
        "id": "KxvEY__IdiHX",
        "colab": {
          "base_uri": "https://localhost:8080/"
        },
        "outputId": "4fe7be94-81ae-4e2e-d5e4-090249ee2a51"
      },
      "source": [
        "dataset_url = \"https://s3.amazonaws.com/datasets.huggingface.co/personachat/personachat_self_original.json\"\n",
        "start_time = time.time()\n",
        "download_file(dataset_url, base_path=\"datasets\", extract=False)\n",
        "execution_time = (time.time() - start_time)/60.0\n",
        "print(execution_time)"
      ],
      "execution_count": 11,
      "outputs": [
        {
          "output_type": "stream",
          "name": "stdout",
          "text": [
            "0.03983776966730754\n"
          ]
        }
      ]
    },
    {
      "cell_type": "code",
      "metadata": {
        "id": "aMtm1rA6eWa8"
      },
      "source": [
        "persona_chat_path = os.path.join(\"datasets\", \"personachat_self_original.json\")\n",
        "with open(persona_chat_path, 'r', encoding='utf-8') as f:\n",
        "  personachat = json.loads(f.read())\n"
      ],
      "execution_count": 12,
      "outputs": []
    },
    {
      "cell_type": "code",
      "metadata": {
        "colab": {
          "base_uri": "https://localhost:8080/"
        },
        "id": "QAjhnna8fMNk",
        "outputId": "bcd45dc2-bcb5-43b0-ccbf-8ec8e044ef52"
      },
      "source": [
        "train_size = len(personachat['train'])\n",
        "val_size = len(personachat['valid'])\n",
        "sample = personachat['train'][0]\n",
        "print(\"Personality\\n\", sample['personality'])\n",
        "print(\"\\nUtterances[candidates]\\n\", sample['utterances'][0]['candidates'])\n",
        "print(\"\\nUtterances[history]\\n\", sample['utterances'][0]['history'])\n",
        "\n",
        "# every datapt. -> \n",
        "#  dict with keys: personality, utterances\n",
        "#     personality -> list of sentences\n",
        "#     utterances -> list of dictionaries with keys -> candidates, history\n"
      ],
      "execution_count": 13,
      "outputs": [
        {
          "output_type": "stream",
          "name": "stdout",
          "text": [
            "Personality\n",
            " ['i like to remodel homes .', 'i like to go hunting .', 'i like to shoot a bow .', 'my favorite holiday is halloween .']\n",
            "\n",
            "Utterances[candidates]\n",
            " ['my mom was single with 3 boys , so we never left the projects .', 'i try to wear all black every day . it makes me feel comfortable .', 'well nursing stresses you out so i wish luck with sister', 'yeah just want to pick up nba nfl getting old', 'i really like celine dion . what about you ?', 'no . i live near farms .', \"i wish i had a daughter , i'm a boy mom . they're beautiful boys though still lucky\", 'yeah when i get bored i play gone with the wind my favorite movie .', \"hi how are you ? i'm eating dinner with my hubby and 2 kids .\", 'were you married to your high school sweetheart ? i was .', 'that is great to hear ! are you a competitive rider ?', \"hi , i'm doing ok . i'm a banker . how about you ?\", \"i'm 5 years old\", 'hi there . how are you today ?', 'i totally understand how stressful that can be .', 'yeah sometimes you do not know what you are actually watching', 'mother taught me to cook ! we are looking for an exterminator .', 'i enjoy romantic movie . what is your favorite season ? mine is summer .', 'editing photos takes a lot of work .', 'you must be very fast . hunting is one of my favorite hobbies .']\n",
            "\n",
            "Utterances[history]\n",
            " [\"hi , how are you doing ? i'm getting ready to do some cheetah chasing to stay in shape .\"]\n"
          ]
        }
      ]
    },
    {
      "cell_type": "code",
      "metadata": {
        "colab": {
          "base_uri": "https://localhost:8080/"
        },
        "id": "EvrU5AXNfwxy",
        "outputId": "b0b7e457-53b9-49d7-91b4-5fa5f462a7d8"
      },
      "source": [
        "wrong_answers = []\n",
        "for datapt in personachat['train'][:100]:\n",
        "  for utt in datapt['utterances']:\n",
        "    for ans in utt['candidates'][:-1]:\n",
        "      wrong_answers.append(ans)\n",
        "\n",
        "print(len(wrong_answers))"
      ],
      "execution_count": 14,
      "outputs": [
        {
          "output_type": "stream",
          "name": "stdout",
          "text": [
            "13965\n"
          ]
        }
      ]
    },
    {
      "cell_type": "code",
      "metadata": {
        "colab": {
          "base_uri": "https://localhost:8080/",
          "height": 206
        },
        "id": "Oj9ZmRH2itGK",
        "outputId": "61512107-9e6d-4e56-a867-4a98875559b9"
      },
      "source": [
        "dog_data = pd.read_csv('processed_dogs.csv')\n",
        "dog_data.head()"
      ],
      "execution_count": 17,
      "outputs": [
        {
          "output_type": "execute_result",
          "data": {
            "text/html": [
              "<div>\n",
              "<style scoped>\n",
              "    .dataframe tbody tr th:only-of-type {\n",
              "        vertical-align: middle;\n",
              "    }\n",
              "\n",
              "    .dataframe tbody tr th {\n",
              "        vertical-align: top;\n",
              "    }\n",
              "\n",
              "    .dataframe thead th {\n",
              "        text-align: right;\n",
              "    }\n",
              "</style>\n",
              "<table border=\"1\" class=\"dataframe\">\n",
              "  <thead>\n",
              "    <tr style=\"text-align: right;\">\n",
              "      <th></th>\n",
              "      <th>AnimalID</th>\n",
              "      <th>AnimalInternal-ID</th>\n",
              "      <th>AnimalName</th>\n",
              "      <th>AnimalSex</th>\n",
              "      <th>AnimalCurrentWeightPounds</th>\n",
              "      <th>Age</th>\n",
              "      <th>Breed</th>\n",
              "      <th>isMixed</th>\n",
              "      <th>Color</th>\n",
              "    </tr>\n",
              "  </thead>\n",
              "  <tbody>\n",
              "    <tr>\n",
              "      <th>0</th>\n",
              "      <td>45628</td>\n",
              "      <td>1444011</td>\n",
              "      <td>Emma</td>\n",
              "      <td>Female</td>\n",
              "      <td>53.3</td>\n",
              "      <td>6</td>\n",
              "      <td>Retriever</td>\n",
              "      <td>True</td>\n",
              "      <td>Blond</td>\n",
              "    </tr>\n",
              "    <tr>\n",
              "      <th>1</th>\n",
              "      <td>45629</td>\n",
              "      <td>1444014</td>\n",
              "      <td>Rizzoli</td>\n",
              "      <td>Female</td>\n",
              "      <td>4.7</td>\n",
              "      <td>5</td>\n",
              "      <td>Mixed Breed (Small)</td>\n",
              "      <td>True</td>\n",
              "      <td>Tan</td>\n",
              "    </tr>\n",
              "    <tr>\n",
              "      <th>2</th>\n",
              "      <td>45630</td>\n",
              "      <td>1444017</td>\n",
              "      <td>Isles</td>\n",
              "      <td>Female</td>\n",
              "      <td>3.1</td>\n",
              "      <td>5</td>\n",
              "      <td>Mixed Breed (Small)</td>\n",
              "      <td>True</td>\n",
              "      <td>White</td>\n",
              "    </tr>\n",
              "    <tr>\n",
              "      <th>3</th>\n",
              "      <td>45631</td>\n",
              "      <td>1444020</td>\n",
              "      <td>Cory</td>\n",
              "      <td>Male</td>\n",
              "      <td>4.7</td>\n",
              "      <td>5</td>\n",
              "      <td>Mixed Breed (Small)</td>\n",
              "      <td>True</td>\n",
              "      <td>Sable</td>\n",
              "    </tr>\n",
              "    <tr>\n",
              "      <th>4</th>\n",
              "      <td>45632</td>\n",
              "      <td>1444023</td>\n",
              "      <td>Topanga</td>\n",
              "      <td>Female</td>\n",
              "      <td>8.0</td>\n",
              "      <td>5</td>\n",
              "      <td>Mixed Breed (Small)</td>\n",
              "      <td>True</td>\n",
              "      <td>Tan</td>\n",
              "    </tr>\n",
              "  </tbody>\n",
              "</table>\n",
              "</div>"
            ],
            "text/plain": [
              "   AnimalID  AnimalInternal-ID AnimalName  ...                Breed  isMixed  Color\n",
              "0     45628            1444011       Emma  ...            Retriever     True  Blond\n",
              "1     45629            1444014    Rizzoli  ...  Mixed Breed (Small)     True    Tan\n",
              "2     45630            1444017      Isles  ...  Mixed Breed (Small)     True  White\n",
              "3     45631            1444020       Cory  ...  Mixed Breed (Small)     True  Sable\n",
              "4     45632            1444023    Topanga  ...  Mixed Breed (Small)     True    Tan\n",
              "\n",
              "[5 rows x 9 columns]"
            ]
          },
          "metadata": {},
          "execution_count": 17
        }
      ]
    },
    {
      "cell_type": "code",
      "metadata": {
        "colab": {
          "base_uri": "https://localhost:8080/"
        },
        "id": "KMKHI2hlgRt0",
        "outputId": "886caa89-1cb9-4ade-c02c-43afee1d40d9"
      },
      "source": [
        "def generate_persona(details):\n",
        "  name = [\"My name is {}.\",\n",
        "          \"I am {}.\",\n",
        "          \"It's {}. Woof Woof\"]\n",
        "  age = [\"My age is {}.\",\n",
        "         \"I am {} years old.\"]\n",
        "  animaltype = [\"I am dog.\",\n",
        "                \"Woof woof I am dog.\"]\n",
        "  if (details.AnimalSex == \"Female\"):\n",
        "    gender = [\"My gender is female.\",\n",
        "              \"I am a girl.\"]\n",
        "  else:\n",
        "    gender = [\"My gender is male.\",\n",
        "              \"I am a boy.\"]\n",
        "  weight = [\"My weight is {} lbs.\",\n",
        "            \"I weigh {} pounds.\"]\n",
        "  color = [\"my color is {}, it is my favourite color.\",\n",
        "           \"I am {} in color.\"]\n",
        "  breed = [\"My breed is {}.\",\n",
        "           \"I am a {}.\"]\n",
        "  persona = []\n",
        "  persona.append(np.random.choice(name).format(details['AnimalName']))\n",
        "  persona.append(np.random.choice(age).format(details['Age']))\n",
        "  persona.append(np.random.choice(animaltype))\n",
        "  persona.append(np.random.choice(gender))\n",
        "  persona.append(np.random.choice(weight).format(details['AnimalCurrentWeightPounds']))\n",
        "  persona.append(np.random.choice(color).format(details['Color']))\n",
        "  persona.append(np.random.choice(breed).format(details['Breed']))\n",
        "  return persona\n",
        "\n",
        "print(generate_persona(dog_data.iloc[0]))\n",
        "print(generate_persona(dog_data.iloc[0]))\n",
        "print(generate_persona(dog_data.iloc[0]))\n"
      ],
      "execution_count": 18,
      "outputs": [
        {
          "output_type": "stream",
          "name": "stdout",
          "text": [
            "[\"It's Emma. Woof Woof\", 'I am 6 years old.', 'I am dog.', 'I am a girl.', 'My weight is 53.3 lbs.', 'I am Blond in color.', 'I am a Retriever.']\n",
            "['My name is Emma.', 'I am 6 years old.', 'I am dog.', 'My gender is female.', 'I weigh 53.3 pounds.', 'my color is Blond, it is my favourite color.', 'My breed is Retriever.']\n",
            "['My name is Emma.', 'I am 6 years old.', 'I am dog.', 'I am a girl.', 'I weigh 53.3 pounds.', 'I am Blond in color.', 'My breed is Retriever.']\n"
          ]
        }
      ]
    },
    {
      "cell_type": "code",
      "metadata": {
        "colab": {
          "base_uri": "https://localhost:8080/"
        },
        "id": "E69nRUwei9oP",
        "outputId": "a6bad974-8d34-4a67-f531-335482a7bb0d"
      },
      "source": [
        "def generate_history(dog_data):\n",
        "  user = [\"hi , how are you ?\"]\n",
        "  dog = [\"woof woof . i'm feeling great!\"]\n",
        "\n",
        "  name = [\"My name is {}.\",\n",
        "          \"I am {}.\",\n",
        "          \"It's {}. Woof Woof\"]\n",
        "  age = [\"My age is {}.\",\n",
        "         \"I am {} years old.\"]\n",
        "  animaltype = [\"I am dog.\",\n",
        "                \"Woof woof I am dog.\"]\n",
        "  if (dog_data.AnimalSex == \"Female\"):\n",
        "    gender = [\"My gender is female.\",\n",
        "              \"I am a girl.\"]\n",
        "  else:\n",
        "    gender = [\"My gender is male.\",\n",
        "              \"I am a boy.\"]\n",
        "  weight = [\"My weight is {} lbs.\",\n",
        "            \"I weigh {} pounds.\"]\n",
        "  color = [\"my color is {}.\",\n",
        "           \"I am {} in color.\"]\n",
        "  breed = [\"My breed is {}.\",\n",
        "           \"I am a {}.\"]\n",
        "  user.append(\"what is your name ?\")\n",
        "  dog.append(np.random.choice(name).format(dog_data[\"AnimalName\"]))\n",
        "  user.append(\"what are you ?\")\n",
        "  dog.append(\"i am a Dog\")\n",
        "  user.append(\"what is your gender ?\")\n",
        "  dog.append(np.random.choice(gender).format(dog_data[\"AnimalSex\"]))\n",
        "  user.append(\"what is your weight ?\")\n",
        "  dog.append(np.random.choice(weight).format(dog_data[\"AnimalCurrentWeightPounds\"]))\n",
        "  user.append(\"How old are you ?\")\n",
        "  dog.append(np.random.choice(age).format(dog_data[\"Age\"]))\n",
        "  user.append(\"what breed are you ?\")\n",
        "  dog.append(np.random.choice(breed).format(dog_data[\"Breed\"]))\n",
        "  user.append(\"what color are you ?\")\n",
        "  dog.append(np.random.choice(name).format(dog_data[\"Color\"]))\n",
        "  \n",
        "\n",
        "\n",
        "  return user, dog\n",
        "\n",
        "\n",
        "hist = generate_history(dog_data.iloc[0])\n",
        "print(hist[0])\n",
        "print(hist[1])"
      ],
      "execution_count": 19,
      "outputs": [
        {
          "output_type": "stream",
          "name": "stdout",
          "text": [
            "['hi , how are you ?', 'what is your name ?', 'what are you ?', 'what is your gender ?', 'what is your weight ?', 'How old are you ?', 'what breed are you ?', 'what color are you ?']\n",
            "[\"woof woof . i'm feeling great!\", \"It's Emma. Woof Woof\", 'i am a Dog', 'My gender is female.', 'My weight is 53.3 lbs.', 'I am 6 years old.', 'I am a Retriever.', \"It's Blond. Woof Woof\"]\n"
          ]
        }
      ]
    },
    {
      "cell_type": "code",
      "metadata": {
        "colab": {
          "base_uri": "https://localhost:8080/"
        },
        "id": "CelxaScMi-rD",
        "outputId": "78725e80-8f13-468e-aff5-ebcfce756f04"
      },
      "source": [
        "# Create dataset\n",
        "persona_dog_chat = []\n",
        "\n",
        "for row in dog_data.iloc:\n",
        "  persona = generate_persona(row)\n",
        "  user, dog = generate_history(row)\n",
        "\n",
        "  history = []\n",
        "  utterances = []\n",
        "  for i in range(len(user)):\n",
        "    # randomly pick number of wrong answers range[5, 15]\n",
        "    n_utter = np.random.randint(5,16)\n",
        "    candidates = random.sample(wrong_answers, n_utter)\n",
        "    candidates.append(dog[i])\n",
        "    \n",
        "    if (i > 0):\n",
        "      history.append(dog[i-1])\n",
        "    history.append(user[i])\n",
        "\n",
        "    utterance = {\"candidates\":candidates,\n",
        "                 \"history\":history.copy()}\n",
        "    utterances.append(utterance)\n",
        "  persona_dog_chat.append({\n",
        "      \"personality\":persona,\n",
        "      \"utterances\":utterances\n",
        "  })\n",
        "\n",
        "print(len(persona_dog_chat))"
      ],
      "execution_count": 20,
      "outputs": [
        {
          "output_type": "stream",
          "name": "stdout",
          "text": [
            "16885\n"
          ]
        }
      ]
    },
    {
      "cell_type": "code",
      "metadata": {
        "colab": {
          "base_uri": "https://localhost:8080/"
        },
        "id": "eW8vgbzFjqqY",
        "outputId": "7164e92c-a1c5-4307-c081-e67701ffe048"
      },
      "source": [
        "print(\"personality:\",persona_dog_chat[0][\"personality\"])\n",
        "print(\"candidates:\",persona_dog_chat[0][\"utterances\"][0][\"candidates\"])\n",
        "print(\"history:\",persona_dog_chat[0][\"utterances\"][0][\"history\"])"
      ],
      "execution_count": 21,
      "outputs": [
        {
          "output_type": "stream",
          "name": "stdout",
          "text": [
            "personality: ['My name is Emma.', 'My age is 6.', 'I am dog.', 'My gender is female.', 'I weigh 53.3 pounds.', 'I am Blond in color.', 'My breed is Retriever.']\n",
            "candidates: [\"i'm a fraud . you are the 1st person that i told . 15 , 000 .\", 'i like all kinds of music , but am not very familiar with opera', \"i'm not married and my kids are grown . how about you ?\", \"i'm doing well , how are you ?\", 'i lover russian rock and roll . you ?', 'i like to color and i wear a helmet .', 'i sure hope so sounds like she ate something bad', 'yeah , its def not boring . any plans for the weekend ?', \"woof woof . i'm feeling great!\"]\n",
            "history: ['hi , how are you ?']\n"
          ]
        }
      ]
    },
    {
      "cell_type": "code",
      "metadata": {
        "colab": {
          "base_uri": "https://localhost:8080/"
        },
        "id": "fJwdC4PCs0iE",
        "outputId": "a9f5f55c-6f27-43be-8265-69194703b86e"
      },
      "source": [
        "persona_dog_chat[0]"
      ],
      "execution_count": 22,
      "outputs": [
        {
          "output_type": "execute_result",
          "data": {
            "text/plain": [
              "{'personality': ['My name is Emma.',\n",
              "  'My age is 6.',\n",
              "  'I am dog.',\n",
              "  'My gender is female.',\n",
              "  'I weigh 53.3 pounds.',\n",
              "  'I am Blond in color.',\n",
              "  'My breed is Retriever.'],\n",
              " 'utterances': [{'candidates': [\"i'm a fraud . you are the 1st person that i told . 15 , 000 .\",\n",
              "    'i like all kinds of music , but am not very familiar with opera',\n",
              "    \"i'm not married and my kids are grown . how about you ?\",\n",
              "    \"i'm doing well , how are you ?\",\n",
              "    'i lover russian rock and roll . you ?',\n",
              "    'i like to color and i wear a helmet .',\n",
              "    'i sure hope so sounds like she ate something bad',\n",
              "    'yeah , its def not boring . any plans for the weekend ?',\n",
              "    \"woof woof . i'm feeling great!\"],\n",
              "   'history': ['hi , how are you ?']},\n",
              "  {'candidates': ['oh . do you have any pets ?',\n",
              "    'wow amazing do you have kids ?',\n",
              "    'i make an awesome cheesecake one of my favorite desserts',\n",
              "    'i like to make clothes by sewing',\n",
              "    'i am trying to save up so i do not have to take out loans .',\n",
              "    \"oh and i'm doing good , too . even though i've never been kissed by a woman .\",\n",
              "    'no i just like to be in wide open spaces . i should start farming .',\n",
              "    'hi , i love halloween , so what do you like to do for fun ?',\n",
              "    'I am Emma.'],\n",
              "   'history': ['hi , how are you ?',\n",
              "    \"woof woof . i'm feeling great!\",\n",
              "    'what is your name ?']},\n",
              "  {'candidates': [\"nice ! how old are you ? i've a bunch of kids\",\n",
              "    'doing well what are your plans for the weekend ?',\n",
              "    'it is and i study law so i know',\n",
              "    'go for it ! that sounds fun',\n",
              "    \"that doesn't sound like fun .\",\n",
              "    'i see do you have a job',\n",
              "    'yea i really hate traffic its so irritating it just ruins my whole demeanor .',\n",
              "    'i would like to dance in a library',\n",
              "    \"hello how are you today ? i'm chillin at home\",\n",
              "    'no i do not like to do that . i like to watch tv and play games',\n",
              "    'i am a Dog'],\n",
              "   'history': ['hi , how are you ?',\n",
              "    \"woof woof . i'm feeling great!\",\n",
              "    'what is your name ?',\n",
              "    'I am Emma.',\n",
              "    'what are you ?']},\n",
              "  {'candidates': ['so much great food in cali , i love to eat really large meals',\n",
              "    'yikes . what kind of car ? and also what was the bet ? haha',\n",
              "    'lucky you ! sounds like the great life !',\n",
              "    'that good you should keeping on loving her',\n",
              "    \"i'm into orange juice too , how about you ?\",\n",
              "    \"i do actually . i'm getting my law degree\",\n",
              "    'yeah i play the electric violin',\n",
              "    'I am a girl.'],\n",
              "   'history': ['hi , how are you ?',\n",
              "    \"woof woof . i'm feeling great!\",\n",
              "    'what is your name ?',\n",
              "    'I am Emma.',\n",
              "    'what are you ?',\n",
              "    'i am a Dog',\n",
              "    'what is your gender ?']},\n",
              "  {'candidates': ['it can be depending on whats going on , but its not worth the bs .',\n",
              "    'yup . it is hard sometimes though . we just moved into our new apartment .',\n",
              "    'cool ! i love spending time outdoors too , i go fishing every weekend .',\n",
              "    'hey sorry just finishing my shrimp',\n",
              "    'oh yummy ! i am jealous . that sounds amazing',\n",
              "    'pretty good day here . my sister and i played baseball',\n",
              "    \"i'm from alabama , and i love to travel\",\n",
              "    'sometimes people get gassy where i work during the week as a barista',\n",
              "    'i prefer nighttime but daylight is pretty if i had my coffee',\n",
              "    'ac dc is awesome ! they have got so many great hits ! amazing how their fans vary in ages',\n",
              "    'nurse , in the emergency section busy',\n",
              "    'oh i just got done cleaning , getting hungry too ! what places are you thinking ?',\n",
              "    'it is wrong . parents need to be there for their kids .',\n",
              "    'I weigh 53.3 pounds.'],\n",
              "   'history': ['hi , how are you ?',\n",
              "    \"woof woof . i'm feeling great!\",\n",
              "    'what is your name ?',\n",
              "    'I am Emma.',\n",
              "    'what are you ?',\n",
              "    'i am a Dog',\n",
              "    'what is your gender ?',\n",
              "    'I am a girl.',\n",
              "    'what is your weight ?']},\n",
              "  {'candidates': ['as with any instrument , it depends on your dedication . i can teach to most anyone .',\n",
              "    \"oh that's very cool , can your parrot talk ?\",\n",
              "    'hi , hey , hello , hey ! off school for today ! how are you ?',\n",
              "    'oh . i used to play football in high school .',\n",
              "    'my husband stays with kids onthe weekend . then i work m f at my other job',\n",
              "    'sometimes i assist her to sort novels in the library !',\n",
              "    'drawing characters from anime . i hope to publish my own someday !',\n",
              "    'i like legs alot alot alot',\n",
              "    'nice ! i love learning about new cultures . i come from a native american heritage .',\n",
              "    'I am 6 years old.'],\n",
              "   'history': ['hi , how are you ?',\n",
              "    \"woof woof . i'm feeling great!\",\n",
              "    'what is your name ?',\n",
              "    'I am Emma.',\n",
              "    'what are you ?',\n",
              "    'i am a Dog',\n",
              "    'what is your gender ?',\n",
              "    'I am a girl.',\n",
              "    'what is your weight ?',\n",
              "    'I weigh 53.3 pounds.',\n",
              "    'How old are you ?']},\n",
              "  {'candidates': ['i am thirsty , i am going to grab a cuba libre my fave . study hard !',\n",
              "    'leaving about dream just i ! dream the living are you',\n",
              "    'hello what kind of music do you listen to ?',\n",
              "    'you can use it when i am on my boat when i am on vacation at the beach',\n",
              "    'hello how are you today ?',\n",
              "    'so you do not have a ford truck !',\n",
              "    'hello , listening to prince and working out , you ?',\n",
              "    'My breed is Retriever.'],\n",
              "   'history': ['hi , how are you ?',\n",
              "    \"woof woof . i'm feeling great!\",\n",
              "    'what is your name ?',\n",
              "    'I am Emma.',\n",
              "    'what are you ?',\n",
              "    'i am a Dog',\n",
              "    'what is your gender ?',\n",
              "    'I am a girl.',\n",
              "    'what is your weight ?',\n",
              "    'I weigh 53.3 pounds.',\n",
              "    'How old are you ?',\n",
              "    'I am 6 years old.',\n",
              "    'what breed are you ?']},\n",
              "  {'candidates': ['i am so weird that i like to collect people and cats',\n",
              "    'ok what is the answer',\n",
              "    'sounds like you love to bake ? i i',\n",
              "    'good luck ! i take photos , but with my iphone . lol',\n",
              "    'he is a stinky mutt . named tiki . you have pets ?',\n",
              "    'not always , sometimes the injuries from accidents are too severe . always sad but it happens .',\n",
              "    'i waited tables for years . great money but high stress .',\n",
              "    'doing well , how about you ?',\n",
              "    \"he's so loyal he would like that\",\n",
              "    'such as clothes for men and women , baby clothes , dog clothes , etc .',\n",
              "    'hi',\n",
              "    'cool ! does she like to sing songs also ? i sing many',\n",
              "    'what is the most interesting case you have seen ?',\n",
              "    'como esta how are you',\n",
              "    \"It's Blond. Woof Woof\"],\n",
              "   'history': ['hi , how are you ?',\n",
              "    \"woof woof . i'm feeling great!\",\n",
              "    'what is your name ?',\n",
              "    'I am Emma.',\n",
              "    'what are you ?',\n",
              "    'i am a Dog',\n",
              "    'what is your gender ?',\n",
              "    'I am a girl.',\n",
              "    'what is your weight ?',\n",
              "    'I weigh 53.3 pounds.',\n",
              "    'How old are you ?',\n",
              "    'I am 6 years old.',\n",
              "    'what breed are you ?',\n",
              "    'My breed is Retriever.',\n",
              "    'what color are you ?']}]}"
            ]
          },
          "metadata": {},
          "execution_count": 22
        }
      ]
    },
    {
      "cell_type": "code",
      "metadata": {
        "id": "QvVGxYkks541"
      },
      "source": [
        "with open(\"personadogchat.json\", \"w\") as outfile:  \n",
        "    json.dump(persona_dog_chat, outfile) "
      ],
      "execution_count": 23,
      "outputs": []
    },
    {
      "cell_type": "code",
      "metadata": {
        "colab": {
          "base_uri": "https://localhost:8080/"
        },
        "id": "J39IqeostEcP",
        "outputId": "8253ad2a-f8bc-4696-b75c-4061a94f819d"
      },
      "source": [
        "# Push to cloud\n",
        "!gsutil cp ./personadogchat.json gs://artifacts.ai5-c1-group1.appspot.com/data"
      ],
      "execution_count": 24,
      "outputs": [
        {
          "output_type": "stream",
          "name": "stdout",
          "text": [
            "Copying file://./personadogchat.json [Content-Type=application/json]...\n",
            "\\\n",
            "Operation completed over 1 objects/102.2 MiB.                                    \n"
          ]
        }
      ]
    },
    {
      "cell_type": "code",
      "metadata": {
        "id": "r6VY0BL4tL8v"
      },
      "source": [
        ""
      ],
      "execution_count": null,
      "outputs": []
    }
  ]
}